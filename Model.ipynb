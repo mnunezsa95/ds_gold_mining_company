{
 "cells": [
  {
   "cell_type": "markdown",
   "metadata": {},
   "source": [
    "**Review**\n",
    "\n",
    "Hi, my name is Dmitry and I will be reviewing your project.\n",
    "  \n",
    "You can find my comments in colored markdown cells:\n",
    "  \n",
    "<div class=\"alert alert-success\">\n",
    "  If everything is done successfully.\n",
    "</div>\n",
    "  \n",
    "<div class=\"alert alert-warning\">\n",
    "  If I have some (optional) suggestions, or questions to think about, or general comments.\n",
    "</div>\n",
    "  \n",
    "<div class=\"alert alert-danger\">\n",
    "  If a section requires some corrections. Work can't be accepted with red comments.\n",
    "</div>\n",
    "  \n",
    "Please don't remove my comments, as it will make further review iterations much harder for me.\n",
    "  \n",
    "Feel free to reply to my comments or ask questions using the following template:\n",
    "  \n",
    "<div class=\"alert alert-info\">\n",
    "  For your comments and questions.\n",
    "</div>\n",
    "  \n",
    "First of all, thank you for turning in the project! Sorry about the delayed review! For some reason your project fell off the radars. You did a great job overall, but there are a couple of small issues that need to be fixed before it is accepted. Let me know if you have questions!"
   ]
  },
  {
   "cell_type": "markdown",
   "metadata": {},
   "source": [
    "# Gold Mining Project"
   ]
  },
  {
   "cell_type": "markdown",
   "metadata": {},
   "source": [
    "## Introduction"
   ]
  },
  {
   "cell_type": "markdown",
   "metadata": {},
   "source": [
    "In collaboration with Zyfra, a company renowned for its efficiency solutions in heavy industry, this project focuses on developing a machine learning model to predict gold recovery from ore. The objective is to optimize production and eliminate unprofitable parameters by accurately forecasting the amount of gold recovered during the extraction and purification processes."
   ]
  },
  {
   "cell_type": "markdown",
   "metadata": {},
   "source": [
    "### Project Overview"
   ]
  },
  {
   "cell_type": "markdown",
   "metadata": {},
   "source": [
    "**Objective:**\n",
    "The primary goal is to create a prototype machine learning model capable of predicting gold recovery from gold ore. The model will utilize historical data on gold extraction and purification to provide valuable insights that can enhance operational efficiency and profitability.\n",
    "\n",
    "**Scope:**\n",
    "The project will involve three main stages: data preparation, data analysis, and model development and training. First, we will organize and preprocess the data to ensure it is suitable for analysis and modeling. Next, we will perform thorough data analysis to understand the underlying patterns and relationships within the data. Finally, we will develop and train a predictive model using advanced machine learning techniques.\n",
    "\n",
    "**Targets**\n",
    "The model aims to predict two specific metrics: the rougher concentrate recovery (`rougher.output.recovery`) and the final concentrate recovery (`final.output.recovery`). By accurately forecasting these values, the model will help Zyfra optimize the gold recovery process, improving both efficiency and profitability in their operations."
   ]
  },
  {
   "cell_type": "markdown",
   "metadata": {},
   "source": [
    "### Methodology"
   ]
  },
  {
   "cell_type": "markdown",
   "metadata": {},
   "source": [
    "**Process Flow:** The process of gold recovery begins with primary processing, where mined ore is initially processed to produce a rougher feed, which serves as the raw material for the flotation process. During flotation, the rougher feed is processed to separate gold from the ore, resulting in a rougher concentrate. This rougher concentrate then undergoes a two-stage purification process to further increase gold purity.\n",
    "\n",
    "**Recovery Calculation**\n",
    "To simulate the gold recovery process, we will use a specific formula that considers the shares of gold in the concentrate, feed, and tails. The recovery formula is:\n",
    "\n",
    "$$Recovery = C × (F − T) / F × (C − T)$$\n",
    "where:\n",
    "- C is the share of gold in the concentrate\n",
    "- F is the share of gold in the feed\n",
    "- T is the share of gold in the tails\n",
    "\n",
    "Both the rougher concentrate recovery and the final concentrate recovery are crucial for predicting the overall recovery efficiency.\n",
    "\n",
    "**Evaluation Metric:** The model's performance will be evaluated using the symmetric Mean Absolute Percentage Error (sMAPE). This metric considers both the target and predicted values symmetrically, ensuring that the model's predictions are assessed in a relative context. sMAPE is calculated as follows:\n",
    "\n",
    "$$ sMAPE = (1 / N) * Σ(|target_i - prediction_i| / ((target_i + prediction_i) / 2) * 100)$$\n",
    "\n",
    "where:\n",
    "\n",
    "- $target_𝑖$ is the actual value for the i-th observation\n",
    "- $prediction_𝑖$ is the predicted value for the i-th observation\n",
    "- $𝑁$ is the total number of observations"
   ]
  },
  {
   "cell_type": "markdown",
   "metadata": {},
   "source": [
    "### Tools & Documentation\n",
    "\n",
    "To accomplish these tasks, the project will leverage various Python libraries and their documentation, including pandas for data manipulation and analysis, matplotlib for data visualization, and scikit-learn (sklearn) for machine learning model development and evaluation. This structured approach ensures a comprehensive solution to predicting gold recovery, ultimately aiding Zyfra in enhancing their production processes."
   ]
  },
  {
   "cell_type": "markdown",
   "metadata": {},
   "source": [
    "## Setup"
   ]
  },
  {
   "cell_type": "markdown",
   "metadata": {},
   "source": [
    "### Library Import"
   ]
  },
  {
   "cell_type": "code",
   "execution_count": 61,
   "metadata": {},
   "outputs": [],
   "source": [
    "import pandas as pd\n",
    "import numpy as np\n",
    "import statistics\n",
    "import math\n",
    "from scipy import stats as st\n",
    "from matplotlib import pyplot as plt\n",
    "from pprint import pprint\n",
    "\n",
    "# Sklearn modules\n",
    "from sklearn.model_selection import train_test_split, cross_val_score\n",
    "from sklearn.metrics import accuracy_score, r2_score, mean_squared_error, mean_absolute_error, mean_absolute_percentage_error, make_scorer\n",
    "from sklearn.pipeline import Pipeline\n",
    "from sklearn.preprocessing import StandardScaler\n",
    "\n",
    "## Sklearn modules - models\n",
    "from sklearn.linear_model import LinearRegression\n",
    "from sklearn.tree import DecisionTreeRegressor\n",
    "from sklearn.ensemble import RandomForestRegressor\n",
    "from sklearn.dummy import DummyRegressor\n",
    "\n",
    "# Options\n",
    "pd.options.mode.chained_assignment = None"
   ]
  },
  {
   "cell_type": "markdown",
   "metadata": {},
   "source": [
    "### Import datasets"
   ]
  },
  {
   "cell_type": "code",
   "execution_count": 2,
   "metadata": {},
   "outputs": [
    {
     "name": "stdout",
     "output_type": "stream",
     "text": [
      "The data was sucessfully loaded\n"
     ]
    }
   ],
   "source": [
    "try:\n",
    "    train_data = pd.read_csv(\"/datasets/gold_recovery_train.csv\")\n",
    "    test_data = pd.read_csv(\"/datasets/gold_recovery_test.csv\")\n",
    "    full_data = pd.read_csv(\"/datasets/gold_recovery_full.csv\")\n",
    "except FileNotFoundError as f_error:\n",
    "    print(f\"The following error: ({f_error}) occured while loading datasets\")\n",
    "else:\n",
    "    test_data.name = \"Test Data\"\n",
    "    train_data.name = \"Train Data\"\n",
    "    full_data.name = \"Full Data\"\n",
    "    print(\"The data was sucessfully loaded\")"
   ]
  },
  {
   "cell_type": "markdown",
   "metadata": {},
   "source": [
    "## Data Preparation"
   ]
  },
  {
   "cell_type": "code",
   "execution_count": 3,
   "metadata": {
    "scrolled": true
   },
   "outputs": [
    {
     "name": "stdout",
     "output_type": "stream",
     "text": [
      "============================== Train Data ==============================\n",
      "\n",
      "<class 'pandas.core.frame.DataFrame'>\n",
      "RangeIndex: 16860 entries, 0 to 16859\n",
      "Data columns (total 87 columns):\n",
      " #   Column                                              Non-Null Count  Dtype  \n",
      "---  ------                                              --------------  -----  \n",
      " 0   date                                                16860 non-null  object \n",
      " 1   final.output.concentrate_ag                         16788 non-null  float64\n",
      " 2   final.output.concentrate_pb                         16788 non-null  float64\n",
      " 3   final.output.concentrate_sol                        16490 non-null  float64\n",
      " 4   final.output.concentrate_au                         16789 non-null  float64\n",
      " 5   final.output.recovery                               15339 non-null  float64\n",
      " 6   final.output.tail_ag                                16794 non-null  float64\n",
      " 7   final.output.tail_pb                                16677 non-null  float64\n",
      " 8   final.output.tail_sol                               16715 non-null  float64\n",
      " 9   final.output.tail_au                                16794 non-null  float64\n",
      " 10  primary_cleaner.input.sulfate                       15553 non-null  float64\n",
      " 11  primary_cleaner.input.depressant                    15598 non-null  float64\n",
      " 12  primary_cleaner.input.feed_size                     16860 non-null  float64\n",
      " 13  primary_cleaner.input.xanthate                      15875 non-null  float64\n",
      " 14  primary_cleaner.output.concentrate_ag               16778 non-null  float64\n",
      " 15  primary_cleaner.output.concentrate_pb               16502 non-null  float64\n",
      " 16  primary_cleaner.output.concentrate_sol              16224 non-null  float64\n",
      " 17  primary_cleaner.output.concentrate_au               16778 non-null  float64\n",
      " 18  primary_cleaner.output.tail_ag                      16777 non-null  float64\n",
      " 19  primary_cleaner.output.tail_pb                      16761 non-null  float64\n",
      " 20  primary_cleaner.output.tail_sol                     16579 non-null  float64\n",
      " 21  primary_cleaner.output.tail_au                      16777 non-null  float64\n",
      " 22  primary_cleaner.state.floatbank8_a_air              16820 non-null  float64\n",
      " 23  primary_cleaner.state.floatbank8_a_level            16827 non-null  float64\n",
      " 24  primary_cleaner.state.floatbank8_b_air              16820 non-null  float64\n",
      " 25  primary_cleaner.state.floatbank8_b_level            16833 non-null  float64\n",
      " 26  primary_cleaner.state.floatbank8_c_air              16822 non-null  float64\n",
      " 27  primary_cleaner.state.floatbank8_c_level            16833 non-null  float64\n",
      " 28  primary_cleaner.state.floatbank8_d_air              16821 non-null  float64\n",
      " 29  primary_cleaner.state.floatbank8_d_level            16833 non-null  float64\n",
      " 30  rougher.calculation.sulfate_to_au_concentrate       16833 non-null  float64\n",
      " 31  rougher.calculation.floatbank10_sulfate_to_au_feed  16833 non-null  float64\n",
      " 32  rougher.calculation.floatbank11_sulfate_to_au_feed  16833 non-null  float64\n",
      " 33  rougher.calculation.au_pb_ratio                     15618 non-null  float64\n",
      " 34  rougher.input.feed_ag                               16778 non-null  float64\n",
      " 35  rougher.input.feed_pb                               16632 non-null  float64\n",
      " 36  rougher.input.feed_rate                             16347 non-null  float64\n",
      " 37  rougher.input.feed_size                             16443 non-null  float64\n",
      " 38  rougher.input.feed_sol                              16568 non-null  float64\n",
      " 39  rougher.input.feed_au                               16777 non-null  float64\n",
      " 40  rougher.input.floatbank10_sulfate                   15816 non-null  float64\n",
      " 41  rougher.input.floatbank10_xanthate                  16514 non-null  float64\n",
      " 42  rougher.input.floatbank11_sulfate                   16237 non-null  float64\n",
      " 43  rougher.input.floatbank11_xanthate                  14956 non-null  float64\n",
      " 44  rougher.output.concentrate_ag                       16778 non-null  float64\n",
      " 45  rougher.output.concentrate_pb                       16778 non-null  float64\n",
      " 46  rougher.output.concentrate_sol                      16698 non-null  float64\n",
      " 47  rougher.output.concentrate_au                       16778 non-null  float64\n",
      " 48  rougher.output.recovery                             14287 non-null  float64\n",
      " 49  rougher.output.tail_ag                              14610 non-null  float64\n",
      " 50  rougher.output.tail_pb                              16778 non-null  float64\n",
      " 51  rougher.output.tail_sol                             14611 non-null  float64\n",
      " 52  rougher.output.tail_au                              14611 non-null  float64\n",
      " 53  rougher.state.floatbank10_a_air                     16807 non-null  float64\n",
      " 54  rougher.state.floatbank10_a_level                   16807 non-null  float64\n",
      " 55  rougher.state.floatbank10_b_air                     16807 non-null  float64\n",
      " 56  rougher.state.floatbank10_b_level                   16807 non-null  float64\n",
      " 57  rougher.state.floatbank10_c_air                     16807 non-null  float64\n",
      " 58  rougher.state.floatbank10_c_level                   16814 non-null  float64\n",
      " 59  rougher.state.floatbank10_d_air                     16802 non-null  float64\n",
      " 60  rougher.state.floatbank10_d_level                   16809 non-null  float64\n",
      " 61  rougher.state.floatbank10_e_air                     16257 non-null  float64\n",
      " 62  rougher.state.floatbank10_e_level                   16809 non-null  float64\n",
      " 63  rougher.state.floatbank10_f_air                     16802 non-null  float64\n",
      " 64  rougher.state.floatbank10_f_level                   16802 non-null  float64\n",
      " 65  secondary_cleaner.output.tail_ag                    16776 non-null  float64\n",
      " 66  secondary_cleaner.output.tail_pb                    16764 non-null  float64\n",
      " 67  secondary_cleaner.output.tail_sol                   14874 non-null  float64\n",
      " 68  secondary_cleaner.output.tail_au                    16778 non-null  float64\n",
      " 69  secondary_cleaner.state.floatbank2_a_air            16497 non-null  float64\n",
      " 70  secondary_cleaner.state.floatbank2_a_level          16751 non-null  float64\n",
      " 71  secondary_cleaner.state.floatbank2_b_air            16705 non-null  float64\n",
      " 72  secondary_cleaner.state.floatbank2_b_level          16748 non-null  float64\n",
      " 73  secondary_cleaner.state.floatbank3_a_air            16763 non-null  float64\n",
      " 74  secondary_cleaner.state.floatbank3_a_level          16747 non-null  float64\n",
      " 75  secondary_cleaner.state.floatbank3_b_air            16752 non-null  float64\n",
      " 76  secondary_cleaner.state.floatbank3_b_level          16750 non-null  float64\n",
      " 77  secondary_cleaner.state.floatbank4_a_air            16731 non-null  float64\n",
      " 78  secondary_cleaner.state.floatbank4_a_level          16747 non-null  float64\n",
      " 79  secondary_cleaner.state.floatbank4_b_air            16768 non-null  float64\n",
      " 80  secondary_cleaner.state.floatbank4_b_level          16767 non-null  float64\n",
      " 81  secondary_cleaner.state.floatbank5_a_air            16775 non-null  float64\n",
      " 82  secondary_cleaner.state.floatbank5_a_level          16775 non-null  float64\n",
      " 83  secondary_cleaner.state.floatbank5_b_air            16775 non-null  float64\n",
      " 84  secondary_cleaner.state.floatbank5_b_level          16776 non-null  float64\n",
      " 85  secondary_cleaner.state.floatbank6_a_air            16757 non-null  float64\n",
      " 86  secondary_cleaner.state.floatbank6_a_level          16775 non-null  float64\n",
      "dtypes: float64(86), object(1)\n",
      "memory usage: 11.2+ MB\n",
      "\n",
      "============================== Test Data ==============================\n",
      "\n",
      "<class 'pandas.core.frame.DataFrame'>\n",
      "RangeIndex: 5856 entries, 0 to 5855\n",
      "Data columns (total 53 columns):\n",
      " #   Column                                      Non-Null Count  Dtype  \n",
      "---  ------                                      --------------  -----  \n",
      " 0   date                                        5856 non-null   object \n",
      " 1   primary_cleaner.input.sulfate               5554 non-null   float64\n",
      " 2   primary_cleaner.input.depressant            5572 non-null   float64\n",
      " 3   primary_cleaner.input.feed_size             5856 non-null   float64\n",
      " 4   primary_cleaner.input.xanthate              5690 non-null   float64\n",
      " 5   primary_cleaner.state.floatbank8_a_air      5840 non-null   float64\n",
      " 6   primary_cleaner.state.floatbank8_a_level    5840 non-null   float64\n",
      " 7   primary_cleaner.state.floatbank8_b_air      5840 non-null   float64\n",
      " 8   primary_cleaner.state.floatbank8_b_level    5840 non-null   float64\n",
      " 9   primary_cleaner.state.floatbank8_c_air      5840 non-null   float64\n",
      " 10  primary_cleaner.state.floatbank8_c_level    5840 non-null   float64\n",
      " 11  primary_cleaner.state.floatbank8_d_air      5840 non-null   float64\n",
      " 12  primary_cleaner.state.floatbank8_d_level    5840 non-null   float64\n",
      " 13  rougher.input.feed_ag                       5840 non-null   float64\n",
      " 14  rougher.input.feed_pb                       5840 non-null   float64\n",
      " 15  rougher.input.feed_rate                     5816 non-null   float64\n",
      " 16  rougher.input.feed_size                     5834 non-null   float64\n",
      " 17  rougher.input.feed_sol                      5789 non-null   float64\n",
      " 18  rougher.input.feed_au                       5840 non-null   float64\n",
      " 19  rougher.input.floatbank10_sulfate           5599 non-null   float64\n",
      " 20  rougher.input.floatbank10_xanthate          5733 non-null   float64\n",
      " 21  rougher.input.floatbank11_sulfate           5801 non-null   float64\n",
      " 22  rougher.input.floatbank11_xanthate          5503 non-null   float64\n",
      " 23  rougher.state.floatbank10_a_air             5839 non-null   float64\n",
      " 24  rougher.state.floatbank10_a_level           5840 non-null   float64\n",
      " 25  rougher.state.floatbank10_b_air             5839 non-null   float64\n",
      " 26  rougher.state.floatbank10_b_level           5840 non-null   float64\n",
      " 27  rougher.state.floatbank10_c_air             5839 non-null   float64\n",
      " 28  rougher.state.floatbank10_c_level           5840 non-null   float64\n",
      " 29  rougher.state.floatbank10_d_air             5839 non-null   float64\n",
      " 30  rougher.state.floatbank10_d_level           5840 non-null   float64\n",
      " 31  rougher.state.floatbank10_e_air             5839 non-null   float64\n",
      " 32  rougher.state.floatbank10_e_level           5840 non-null   float64\n",
      " 33  rougher.state.floatbank10_f_air             5839 non-null   float64\n",
      " 34  rougher.state.floatbank10_f_level           5840 non-null   float64\n",
      " 35  secondary_cleaner.state.floatbank2_a_air    5836 non-null   float64\n",
      " 36  secondary_cleaner.state.floatbank2_a_level  5840 non-null   float64\n",
      " 37  secondary_cleaner.state.floatbank2_b_air    5833 non-null   float64\n",
      " 38  secondary_cleaner.state.floatbank2_b_level  5840 non-null   float64\n",
      " 39  secondary_cleaner.state.floatbank3_a_air    5822 non-null   float64\n",
      " 40  secondary_cleaner.state.floatbank3_a_level  5840 non-null   float64\n",
      " 41  secondary_cleaner.state.floatbank3_b_air    5840 non-null   float64\n",
      " 42  secondary_cleaner.state.floatbank3_b_level  5840 non-null   float64\n",
      " 43  secondary_cleaner.state.floatbank4_a_air    5840 non-null   float64\n",
      " 44  secondary_cleaner.state.floatbank4_a_level  5840 non-null   float64\n",
      " 45  secondary_cleaner.state.floatbank4_b_air    5840 non-null   float64\n",
      " 46  secondary_cleaner.state.floatbank4_b_level  5840 non-null   float64\n",
      " 47  secondary_cleaner.state.floatbank5_a_air    5840 non-null   float64\n",
      " 48  secondary_cleaner.state.floatbank5_a_level  5840 non-null   float64\n",
      " 49  secondary_cleaner.state.floatbank5_b_air    5840 non-null   float64\n",
      " 50  secondary_cleaner.state.floatbank5_b_level  5840 non-null   float64\n",
      " 51  secondary_cleaner.state.floatbank6_a_air    5840 non-null   float64\n",
      " 52  secondary_cleaner.state.floatbank6_a_level  5840 non-null   float64\n",
      "dtypes: float64(52), object(1)\n",
      "memory usage: 2.4+ MB\n",
      "\n",
      "============================== Full Data ==============================\n",
      "\n",
      "<class 'pandas.core.frame.DataFrame'>\n",
      "RangeIndex: 22716 entries, 0 to 22715\n",
      "Data columns (total 87 columns):\n",
      " #   Column                                              Non-Null Count  Dtype  \n",
      "---  ------                                              --------------  -----  \n",
      " 0   date                                                22716 non-null  object \n",
      " 1   final.output.concentrate_ag                         22627 non-null  float64\n",
      " 2   final.output.concentrate_pb                         22629 non-null  float64\n",
      " 3   final.output.concentrate_sol                        22331 non-null  float64\n",
      " 4   final.output.concentrate_au                         22630 non-null  float64\n",
      " 5   final.output.recovery                               20753 non-null  float64\n",
      " 6   final.output.tail_ag                                22633 non-null  float64\n",
      " 7   final.output.tail_pb                                22516 non-null  float64\n",
      " 8   final.output.tail_sol                               22445 non-null  float64\n",
      " 9   final.output.tail_au                                22635 non-null  float64\n",
      " 10  primary_cleaner.input.sulfate                       21107 non-null  float64\n",
      " 11  primary_cleaner.input.depressant                    21170 non-null  float64\n",
      " 12  primary_cleaner.input.feed_size                     22716 non-null  float64\n",
      " 13  primary_cleaner.input.xanthate                      21565 non-null  float64\n",
      " 14  primary_cleaner.output.concentrate_ag               22618 non-null  float64\n",
      " 15  primary_cleaner.output.concentrate_pb               22268 non-null  float64\n",
      " 16  primary_cleaner.output.concentrate_sol              21918 non-null  float64\n",
      " 17  primary_cleaner.output.concentrate_au               22618 non-null  float64\n",
      " 18  primary_cleaner.output.tail_ag                      22614 non-null  float64\n",
      " 19  primary_cleaner.output.tail_pb                      22594 non-null  float64\n",
      " 20  primary_cleaner.output.tail_sol                     22365 non-null  float64\n",
      " 21  primary_cleaner.output.tail_au                      22617 non-null  float64\n",
      " 22  primary_cleaner.state.floatbank8_a_air              22660 non-null  float64\n",
      " 23  primary_cleaner.state.floatbank8_a_level            22667 non-null  float64\n",
      " 24  primary_cleaner.state.floatbank8_b_air              22660 non-null  float64\n",
      " 25  primary_cleaner.state.floatbank8_b_level            22673 non-null  float64\n",
      " 26  primary_cleaner.state.floatbank8_c_air              22662 non-null  float64\n",
      " 27  primary_cleaner.state.floatbank8_c_level            22673 non-null  float64\n",
      " 28  primary_cleaner.state.floatbank8_d_air              22661 non-null  float64\n",
      " 29  primary_cleaner.state.floatbank8_d_level            22673 non-null  float64\n",
      " 30  rougher.calculation.sulfate_to_au_concentrate       22672 non-null  float64\n",
      " 31  rougher.calculation.floatbank10_sulfate_to_au_feed  22672 non-null  float64\n",
      " 32  rougher.calculation.floatbank11_sulfate_to_au_feed  22672 non-null  float64\n",
      " 33  rougher.calculation.au_pb_ratio                     21089 non-null  float64\n",
      " 34  rougher.input.feed_ag                               22618 non-null  float64\n",
      " 35  rougher.input.feed_pb                               22472 non-null  float64\n",
      " 36  rougher.input.feed_rate                             22163 non-null  float64\n",
      " 37  rougher.input.feed_size                             22277 non-null  float64\n",
      " 38  rougher.input.feed_sol                              22357 non-null  float64\n",
      " 39  rougher.input.feed_au                               22617 non-null  float64\n",
      " 40  rougher.input.floatbank10_sulfate                   21415 non-null  float64\n",
      " 41  rougher.input.floatbank10_xanthate                  22247 non-null  float64\n",
      " 42  rougher.input.floatbank11_sulfate                   22038 non-null  float64\n",
      " 43  rougher.input.floatbank11_xanthate                  20459 non-null  float64\n",
      " 44  rougher.output.concentrate_ag                       22618 non-null  float64\n",
      " 45  rougher.output.concentrate_pb                       22618 non-null  float64\n",
      " 46  rougher.output.concentrate_sol                      22526 non-null  float64\n",
      " 47  rougher.output.concentrate_au                       22618 non-null  float64\n",
      " 48  rougher.output.recovery                             19597 non-null  float64\n",
      " 49  rougher.output.tail_ag                              19979 non-null  float64\n",
      " 50  rougher.output.tail_pb                              22618 non-null  float64\n",
      " 51  rougher.output.tail_sol                             19980 non-null  float64\n",
      " 52  rougher.output.tail_au                              19980 non-null  float64\n",
      " 53  rougher.state.floatbank10_a_air                     22646 non-null  float64\n",
      " 54  rougher.state.floatbank10_a_level                   22647 non-null  float64\n",
      " 55  rougher.state.floatbank10_b_air                     22646 non-null  float64\n",
      " 56  rougher.state.floatbank10_b_level                   22647 non-null  float64\n",
      " 57  rougher.state.floatbank10_c_air                     22646 non-null  float64\n",
      " 58  rougher.state.floatbank10_c_level                   22654 non-null  float64\n",
      " 59  rougher.state.floatbank10_d_air                     22641 non-null  float64\n",
      " 60  rougher.state.floatbank10_d_level                   22649 non-null  float64\n",
      " 61  rougher.state.floatbank10_e_air                     22096 non-null  float64\n",
      " 62  rougher.state.floatbank10_e_level                   22649 non-null  float64\n",
      " 63  rougher.state.floatbank10_f_air                     22641 non-null  float64\n",
      " 64  rougher.state.floatbank10_f_level                   22642 non-null  float64\n",
      " 65  secondary_cleaner.output.tail_ag                    22616 non-null  float64\n",
      " 66  secondary_cleaner.output.tail_pb                    22600 non-null  float64\n",
      " 67  secondary_cleaner.output.tail_sol                   20501 non-null  float64\n",
      " 68  secondary_cleaner.output.tail_au                    22618 non-null  float64\n",
      " 69  secondary_cleaner.state.floatbank2_a_air            22333 non-null  float64\n",
      " 70  secondary_cleaner.state.floatbank2_a_level          22591 non-null  float64\n",
      " 71  secondary_cleaner.state.floatbank2_b_air            22538 non-null  float64\n",
      " 72  secondary_cleaner.state.floatbank2_b_level          22588 non-null  float64\n",
      " 73  secondary_cleaner.state.floatbank3_a_air            22585 non-null  float64\n",
      " 74  secondary_cleaner.state.floatbank3_a_level          22587 non-null  float64\n",
      " 75  secondary_cleaner.state.floatbank3_b_air            22592 non-null  float64\n",
      " 76  secondary_cleaner.state.floatbank3_b_level          22590 non-null  float64\n",
      " 77  secondary_cleaner.state.floatbank4_a_air            22571 non-null  float64\n",
      " 78  secondary_cleaner.state.floatbank4_a_level          22587 non-null  float64\n",
      " 79  secondary_cleaner.state.floatbank4_b_air            22608 non-null  float64\n",
      " 80  secondary_cleaner.state.floatbank4_b_level          22607 non-null  float64\n",
      " 81  secondary_cleaner.state.floatbank5_a_air            22615 non-null  float64\n",
      " 82  secondary_cleaner.state.floatbank5_a_level          22615 non-null  float64\n",
      " 83  secondary_cleaner.state.floatbank5_b_air            22615 non-null  float64\n",
      " 84  secondary_cleaner.state.floatbank5_b_level          22616 non-null  float64\n",
      " 85  secondary_cleaner.state.floatbank6_a_air            22597 non-null  float64\n",
      " 86  secondary_cleaner.state.floatbank6_a_level          22615 non-null  float64\n",
      "dtypes: float64(86), object(1)\n",
      "memory usage: 15.1+ MB\n",
      "\n"
     ]
    }
   ],
   "source": [
    "# Look at dataset\n",
    "\n",
    "datasets = [train_data, test_data, full_data]\n",
    "for dataset in datasets:\n",
    "    print(\"==============================\", dataset.name, \"==============================\\n\")\n",
    "    dataset.info()\n",
    "    print()\n",
    "    "
   ]
  },
  {
   "cell_type": "markdown",
   "metadata": {},
   "source": [
    "**Findings**\n",
    "\n",
    "The three datasets differ in the number of columns: the train dataset and the full dataset each have 87 columns, while the test dataset has only 53 columns. For model development, it's crucial to remove any features from the train and full datasets that are not present in the test dataset. Including features in the training process that \n",
    "aren't available during testing would negatively impact the model's performance.\n",
    "\n",
    "Many columns in each of the three datasets contain missing values. These will need further investigation to determine the best approach for handling them."
   ]
  },
  {
   "cell_type": "markdown",
   "metadata": {},
   "source": [
    "<div class=\"alert alert-success\">\n",
    "<b>Reviewer's comment</b>\n",
    "\n",
    "The data was loaded and inspected!\n",
    "\n",
    "</div>"
   ]
  },
  {
   "cell_type": "markdown",
   "metadata": {},
   "source": [
    "### Handle Missing Values"
   ]
  },
  {
   "cell_type": "code",
   "execution_count": 4,
   "metadata": {},
   "outputs": [
    {
     "name": "stdout",
     "output_type": "stream",
     "text": [
      "============================== Train Data ==============================\n",
      "\n",
      "date                                                     0\n",
      "final.output.concentrate_ag                             72\n",
      "final.output.concentrate_pb                             72\n",
      "final.output.concentrate_sol                           370\n",
      "final.output.concentrate_au                             71\n",
      "final.output.recovery                                 1521\n",
      "final.output.tail_ag                                    66\n",
      "final.output.tail_pb                                   183\n",
      "final.output.tail_sol                                  145\n",
      "final.output.tail_au                                    66\n",
      "primary_cleaner.input.sulfate                         1307\n",
      "primary_cleaner.input.depressant                      1262\n",
      "primary_cleaner.input.feed_size                          0\n",
      "primary_cleaner.input.xanthate                         985\n",
      "primary_cleaner.output.concentrate_ag                   82\n",
      "primary_cleaner.output.concentrate_pb                  358\n",
      "primary_cleaner.output.concentrate_sol                 636\n",
      "primary_cleaner.output.concentrate_au                   82\n",
      "primary_cleaner.output.tail_ag                          83\n",
      "primary_cleaner.output.tail_pb                          99\n",
      "primary_cleaner.output.tail_sol                        281\n",
      "primary_cleaner.output.tail_au                          83\n",
      "primary_cleaner.state.floatbank8_a_air                  40\n",
      "primary_cleaner.state.floatbank8_a_level                33\n",
      "primary_cleaner.state.floatbank8_b_air                  40\n",
      "primary_cleaner.state.floatbank8_b_level                27\n",
      "primary_cleaner.state.floatbank8_c_air                  38\n",
      "primary_cleaner.state.floatbank8_c_level                27\n",
      "primary_cleaner.state.floatbank8_d_air                  39\n",
      "primary_cleaner.state.floatbank8_d_level                27\n",
      "rougher.calculation.sulfate_to_au_concentrate           27\n",
      "rougher.calculation.floatbank10_sulfate_to_au_feed      27\n",
      "rougher.calculation.floatbank11_sulfate_to_au_feed      27\n",
      "rougher.calculation.au_pb_ratio                       1242\n",
      "rougher.input.feed_ag                                   82\n",
      "rougher.input.feed_pb                                  228\n",
      "rougher.input.feed_rate                                513\n",
      "rougher.input.feed_size                                417\n",
      "rougher.input.feed_sol                                 292\n",
      "rougher.input.feed_au                                   83\n",
      "rougher.input.floatbank10_sulfate                     1044\n",
      "rougher.input.floatbank10_xanthate                     346\n",
      "rougher.input.floatbank11_sulfate                      623\n",
      "rougher.input.floatbank11_xanthate                    1904\n",
      "rougher.output.concentrate_ag                           82\n",
      "rougher.output.concentrate_pb                           82\n",
      "rougher.output.concentrate_sol                         162\n",
      "rougher.output.concentrate_au                           82\n",
      "rougher.output.recovery                               2573\n",
      "rougher.output.tail_ag                                2250\n",
      "rougher.output.tail_pb                                  82\n",
      "rougher.output.tail_sol                               2249\n",
      "rougher.output.tail_au                                2249\n",
      "rougher.state.floatbank10_a_air                         53\n",
      "rougher.state.floatbank10_a_level                       53\n",
      "rougher.state.floatbank10_b_air                         53\n",
      "rougher.state.floatbank10_b_level                       53\n",
      "rougher.state.floatbank10_c_air                         53\n",
      "rougher.state.floatbank10_c_level                       46\n",
      "rougher.state.floatbank10_d_air                         58\n",
      "rougher.state.floatbank10_d_level                       51\n",
      "rougher.state.floatbank10_e_air                        603\n",
      "rougher.state.floatbank10_e_level                       51\n",
      "rougher.state.floatbank10_f_air                         58\n",
      "rougher.state.floatbank10_f_level                       58\n",
      "secondary_cleaner.output.tail_ag                        84\n",
      "secondary_cleaner.output.tail_pb                        96\n",
      "secondary_cleaner.output.tail_sol                     1986\n",
      "secondary_cleaner.output.tail_au                        82\n",
      "secondary_cleaner.state.floatbank2_a_air               363\n",
      "secondary_cleaner.state.floatbank2_a_level             109\n",
      "secondary_cleaner.state.floatbank2_b_air               155\n",
      "secondary_cleaner.state.floatbank2_b_level             112\n",
      "secondary_cleaner.state.floatbank3_a_air                97\n",
      "secondary_cleaner.state.floatbank3_a_level             113\n",
      "secondary_cleaner.state.floatbank3_b_air               108\n",
      "secondary_cleaner.state.floatbank3_b_level             110\n",
      "secondary_cleaner.state.floatbank4_a_air               129\n",
      "secondary_cleaner.state.floatbank4_a_level             113\n",
      "secondary_cleaner.state.floatbank4_b_air                92\n",
      "secondary_cleaner.state.floatbank4_b_level              93\n",
      "secondary_cleaner.state.floatbank5_a_air                85\n",
      "secondary_cleaner.state.floatbank5_a_level              85\n",
      "secondary_cleaner.state.floatbank5_b_air                85\n",
      "secondary_cleaner.state.floatbank5_b_level              84\n",
      "secondary_cleaner.state.floatbank6_a_air               103\n",
      "secondary_cleaner.state.floatbank6_a_level              85\n",
      "dtype: int64\n",
      "\n",
      "============================== Test Data ==============================\n",
      "\n",
      "date                                            0\n",
      "primary_cleaner.input.sulfate                 302\n",
      "primary_cleaner.input.depressant              284\n",
      "primary_cleaner.input.feed_size                 0\n",
      "primary_cleaner.input.xanthate                166\n",
      "primary_cleaner.state.floatbank8_a_air         16\n",
      "primary_cleaner.state.floatbank8_a_level       16\n",
      "primary_cleaner.state.floatbank8_b_air         16\n",
      "primary_cleaner.state.floatbank8_b_level       16\n",
      "primary_cleaner.state.floatbank8_c_air         16\n",
      "primary_cleaner.state.floatbank8_c_level       16\n",
      "primary_cleaner.state.floatbank8_d_air         16\n",
      "primary_cleaner.state.floatbank8_d_level       16\n",
      "rougher.input.feed_ag                          16\n",
      "rougher.input.feed_pb                          16\n",
      "rougher.input.feed_rate                        40\n",
      "rougher.input.feed_size                        22\n",
      "rougher.input.feed_sol                         67\n",
      "rougher.input.feed_au                          16\n",
      "rougher.input.floatbank10_sulfate             257\n",
      "rougher.input.floatbank10_xanthate            123\n",
      "rougher.input.floatbank11_sulfate              55\n",
      "rougher.input.floatbank11_xanthate            353\n",
      "rougher.state.floatbank10_a_air                17\n",
      "rougher.state.floatbank10_a_level              16\n",
      "rougher.state.floatbank10_b_air                17\n",
      "rougher.state.floatbank10_b_level              16\n",
      "rougher.state.floatbank10_c_air                17\n",
      "rougher.state.floatbank10_c_level              16\n",
      "rougher.state.floatbank10_d_air                17\n",
      "rougher.state.floatbank10_d_level              16\n",
      "rougher.state.floatbank10_e_air                17\n",
      "rougher.state.floatbank10_e_level              16\n",
      "rougher.state.floatbank10_f_air                17\n",
      "rougher.state.floatbank10_f_level              16\n",
      "secondary_cleaner.state.floatbank2_a_air       20\n",
      "secondary_cleaner.state.floatbank2_a_level     16\n",
      "secondary_cleaner.state.floatbank2_b_air       23\n",
      "secondary_cleaner.state.floatbank2_b_level     16\n",
      "secondary_cleaner.state.floatbank3_a_air       34\n",
      "secondary_cleaner.state.floatbank3_a_level     16\n",
      "secondary_cleaner.state.floatbank3_b_air       16\n",
      "secondary_cleaner.state.floatbank3_b_level     16\n",
      "secondary_cleaner.state.floatbank4_a_air       16\n",
      "secondary_cleaner.state.floatbank4_a_level     16\n",
      "secondary_cleaner.state.floatbank4_b_air       16\n",
      "secondary_cleaner.state.floatbank4_b_level     16\n",
      "secondary_cleaner.state.floatbank5_a_air       16\n",
      "secondary_cleaner.state.floatbank5_a_level     16\n",
      "secondary_cleaner.state.floatbank5_b_air       16\n",
      "secondary_cleaner.state.floatbank5_b_level     16\n",
      "secondary_cleaner.state.floatbank6_a_air       16\n",
      "secondary_cleaner.state.floatbank6_a_level     16\n",
      "dtype: int64\n",
      "\n",
      "============================== Full Data ==============================\n",
      "\n",
      "date                                                     0\n",
      "final.output.concentrate_ag                             89\n",
      "final.output.concentrate_pb                             87\n",
      "final.output.concentrate_sol                           385\n",
      "final.output.concentrate_au                             86\n",
      "final.output.recovery                                 1963\n",
      "final.output.tail_ag                                    83\n",
      "final.output.tail_pb                                   200\n",
      "final.output.tail_sol                                  271\n",
      "final.output.tail_au                                    81\n",
      "primary_cleaner.input.sulfate                         1609\n",
      "primary_cleaner.input.depressant                      1546\n",
      "primary_cleaner.input.feed_size                          0\n",
      "primary_cleaner.input.xanthate                        1151\n",
      "primary_cleaner.output.concentrate_ag                   98\n",
      "primary_cleaner.output.concentrate_pb                  448\n",
      "primary_cleaner.output.concentrate_sol                 798\n",
      "primary_cleaner.output.concentrate_au                   98\n",
      "primary_cleaner.output.tail_ag                         102\n",
      "primary_cleaner.output.tail_pb                         122\n",
      "primary_cleaner.output.tail_sol                        351\n",
      "primary_cleaner.output.tail_au                          99\n",
      "primary_cleaner.state.floatbank8_a_air                  56\n",
      "primary_cleaner.state.floatbank8_a_level                49\n",
      "primary_cleaner.state.floatbank8_b_air                  56\n",
      "primary_cleaner.state.floatbank8_b_level                43\n",
      "primary_cleaner.state.floatbank8_c_air                  54\n",
      "primary_cleaner.state.floatbank8_c_level                43\n",
      "primary_cleaner.state.floatbank8_d_air                  55\n",
      "primary_cleaner.state.floatbank8_d_level                43\n",
      "rougher.calculation.sulfate_to_au_concentrate           44\n",
      "rougher.calculation.floatbank10_sulfate_to_au_feed      44\n",
      "rougher.calculation.floatbank11_sulfate_to_au_feed      44\n",
      "rougher.calculation.au_pb_ratio                       1627\n",
      "rougher.input.feed_ag                                   98\n",
      "rougher.input.feed_pb                                  244\n",
      "rougher.input.feed_rate                                553\n",
      "rougher.input.feed_size                                439\n",
      "rougher.input.feed_sol                                 359\n",
      "rougher.input.feed_au                                   99\n",
      "rougher.input.floatbank10_sulfate                     1301\n",
      "rougher.input.floatbank10_xanthate                     469\n",
      "rougher.input.floatbank11_sulfate                      678\n",
      "rougher.input.floatbank11_xanthate                    2257\n",
      "rougher.output.concentrate_ag                           98\n",
      "rougher.output.concentrate_pb                           98\n",
      "rougher.output.concentrate_sol                         190\n",
      "rougher.output.concentrate_au                           98\n",
      "rougher.output.recovery                               3119\n",
      "rougher.output.tail_ag                                2737\n",
      "rougher.output.tail_pb                                  98\n",
      "rougher.output.tail_sol                               2736\n",
      "rougher.output.tail_au                                2736\n",
      "rougher.state.floatbank10_a_air                         70\n",
      "rougher.state.floatbank10_a_level                       69\n",
      "rougher.state.floatbank10_b_air                         70\n",
      "rougher.state.floatbank10_b_level                       69\n",
      "rougher.state.floatbank10_c_air                         70\n",
      "rougher.state.floatbank10_c_level                       62\n",
      "rougher.state.floatbank10_d_air                         75\n",
      "rougher.state.floatbank10_d_level                       67\n",
      "rougher.state.floatbank10_e_air                        620\n",
      "rougher.state.floatbank10_e_level                       67\n",
      "rougher.state.floatbank10_f_air                         75\n",
      "rougher.state.floatbank10_f_level                       74\n",
      "secondary_cleaner.output.tail_ag                       100\n",
      "secondary_cleaner.output.tail_pb                       116\n",
      "secondary_cleaner.output.tail_sol                     2215\n",
      "secondary_cleaner.output.tail_au                        98\n",
      "secondary_cleaner.state.floatbank2_a_air               383\n",
      "secondary_cleaner.state.floatbank2_a_level             125\n",
      "secondary_cleaner.state.floatbank2_b_air               178\n",
      "secondary_cleaner.state.floatbank2_b_level             128\n",
      "secondary_cleaner.state.floatbank3_a_air               131\n",
      "secondary_cleaner.state.floatbank3_a_level             129\n",
      "secondary_cleaner.state.floatbank3_b_air               124\n",
      "secondary_cleaner.state.floatbank3_b_level             126\n",
      "secondary_cleaner.state.floatbank4_a_air               145\n",
      "secondary_cleaner.state.floatbank4_a_level             129\n",
      "secondary_cleaner.state.floatbank4_b_air               108\n",
      "secondary_cleaner.state.floatbank4_b_level             109\n",
      "secondary_cleaner.state.floatbank5_a_air               101\n",
      "secondary_cleaner.state.floatbank5_a_level             101\n",
      "secondary_cleaner.state.floatbank5_b_air               101\n",
      "secondary_cleaner.state.floatbank5_b_level             100\n",
      "secondary_cleaner.state.floatbank6_a_air               119\n",
      "secondary_cleaner.state.floatbank6_a_level             101\n",
      "dtype: int64\n",
      "\n"
     ]
    }
   ],
   "source": [
    "# Look at missing values\n",
    "\n",
    "with pd.option_context('display.max_rows', None):\n",
    "    for dataset in datasets:\n",
    "        print(\"==============================\", dataset.name, \"==============================\\n\")\n",
    "        print(dataset.isna().sum()) \n",
    "        print()"
   ]
  },
  {
   "cell_type": "code",
   "execution_count": 5,
   "metadata": {
    "scrolled": true
   },
   "outputs": [
    {
     "name": "stdout",
     "output_type": "stream",
     "text": [
      "============================== Train Data ==============================\n",
      "\n",
      "date                                                   0.00\n",
      "final.output.concentrate_ag                            0.43\n",
      "final.output.concentrate_pb                            0.43\n",
      "final.output.concentrate_sol                           2.19\n",
      "final.output.concentrate_au                            0.42\n",
      "final.output.recovery                                  9.02\n",
      "final.output.tail_ag                                   0.39\n",
      "final.output.tail_pb                                   1.09\n",
      "final.output.tail_sol                                  0.86\n",
      "final.output.tail_au                                   0.39\n",
      "primary_cleaner.input.sulfate                          7.75\n",
      "primary_cleaner.input.depressant                       7.49\n",
      "primary_cleaner.input.feed_size                        0.00\n",
      "primary_cleaner.input.xanthate                         5.84\n",
      "primary_cleaner.output.concentrate_ag                  0.49\n",
      "primary_cleaner.output.concentrate_pb                  2.12\n",
      "primary_cleaner.output.concentrate_sol                 3.77\n",
      "primary_cleaner.output.concentrate_au                  0.49\n",
      "primary_cleaner.output.tail_ag                         0.49\n",
      "primary_cleaner.output.tail_pb                         0.59\n",
      "primary_cleaner.output.tail_sol                        1.67\n",
      "primary_cleaner.output.tail_au                         0.49\n",
      "primary_cleaner.state.floatbank8_a_air                 0.24\n",
      "primary_cleaner.state.floatbank8_a_level               0.20\n",
      "primary_cleaner.state.floatbank8_b_air                 0.24\n",
      "primary_cleaner.state.floatbank8_b_level               0.16\n",
      "primary_cleaner.state.floatbank8_c_air                 0.23\n",
      "primary_cleaner.state.floatbank8_c_level               0.16\n",
      "primary_cleaner.state.floatbank8_d_air                 0.23\n",
      "primary_cleaner.state.floatbank8_d_level               0.16\n",
      "rougher.calculation.sulfate_to_au_concentrate          0.16\n",
      "rougher.calculation.floatbank10_sulfate_to_au_feed     0.16\n",
      "rougher.calculation.floatbank11_sulfate_to_au_feed     0.16\n",
      "rougher.calculation.au_pb_ratio                        7.37\n",
      "rougher.input.feed_ag                                  0.49\n",
      "rougher.input.feed_pb                                  1.35\n",
      "rougher.input.feed_rate                                3.04\n",
      "rougher.input.feed_size                                2.47\n",
      "rougher.input.feed_sol                                 1.73\n",
      "rougher.input.feed_au                                  0.49\n",
      "rougher.input.floatbank10_sulfate                      6.19\n",
      "rougher.input.floatbank10_xanthate                     2.05\n",
      "rougher.input.floatbank11_sulfate                      3.70\n",
      "rougher.input.floatbank11_xanthate                    11.29\n",
      "rougher.output.concentrate_ag                          0.49\n",
      "rougher.output.concentrate_pb                          0.49\n",
      "rougher.output.concentrate_sol                         0.96\n",
      "rougher.output.concentrate_au                          0.49\n",
      "rougher.output.recovery                               15.26\n",
      "rougher.output.tail_ag                                13.35\n",
      "rougher.output.tail_pb                                 0.49\n",
      "rougher.output.tail_sol                               13.34\n",
      "rougher.output.tail_au                                13.34\n",
      "rougher.state.floatbank10_a_air                        0.31\n",
      "rougher.state.floatbank10_a_level                      0.31\n",
      "rougher.state.floatbank10_b_air                        0.31\n",
      "rougher.state.floatbank10_b_level                      0.31\n",
      "rougher.state.floatbank10_c_air                        0.31\n",
      "rougher.state.floatbank10_c_level                      0.27\n",
      "rougher.state.floatbank10_d_air                        0.34\n",
      "rougher.state.floatbank10_d_level                      0.30\n",
      "rougher.state.floatbank10_e_air                        3.58\n",
      "rougher.state.floatbank10_e_level                      0.30\n",
      "rougher.state.floatbank10_f_air                        0.34\n",
      "rougher.state.floatbank10_f_level                      0.34\n",
      "secondary_cleaner.output.tail_ag                       0.50\n",
      "secondary_cleaner.output.tail_pb                       0.57\n",
      "secondary_cleaner.output.tail_sol                     11.78\n",
      "secondary_cleaner.output.tail_au                       0.49\n",
      "secondary_cleaner.state.floatbank2_a_air               2.15\n",
      "secondary_cleaner.state.floatbank2_a_level             0.65\n",
      "secondary_cleaner.state.floatbank2_b_air               0.92\n",
      "secondary_cleaner.state.floatbank2_b_level             0.66\n",
      "secondary_cleaner.state.floatbank3_a_air               0.58\n",
      "secondary_cleaner.state.floatbank3_a_level             0.67\n",
      "secondary_cleaner.state.floatbank3_b_air               0.64\n",
      "secondary_cleaner.state.floatbank3_b_level             0.65\n",
      "secondary_cleaner.state.floatbank4_a_air               0.77\n",
      "secondary_cleaner.state.floatbank4_a_level             0.67\n",
      "secondary_cleaner.state.floatbank4_b_air               0.55\n",
      "secondary_cleaner.state.floatbank4_b_level             0.55\n",
      "secondary_cleaner.state.floatbank5_a_air               0.50\n",
      "secondary_cleaner.state.floatbank5_a_level             0.50\n",
      "secondary_cleaner.state.floatbank5_b_air               0.50\n",
      "secondary_cleaner.state.floatbank5_b_level             0.50\n",
      "secondary_cleaner.state.floatbank6_a_air               0.61\n",
      "secondary_cleaner.state.floatbank6_a_level             0.50\n",
      "dtype: float64\n",
      "\n",
      "============================== Test Data ==============================\n",
      "\n",
      "date                                          0.00\n",
      "primary_cleaner.input.sulfate                 5.16\n",
      "primary_cleaner.input.depressant              4.85\n",
      "primary_cleaner.input.feed_size               0.00\n",
      "primary_cleaner.input.xanthate                2.83\n",
      "primary_cleaner.state.floatbank8_a_air        0.27\n",
      "primary_cleaner.state.floatbank8_a_level      0.27\n",
      "primary_cleaner.state.floatbank8_b_air        0.27\n",
      "primary_cleaner.state.floatbank8_b_level      0.27\n",
      "primary_cleaner.state.floatbank8_c_air        0.27\n",
      "primary_cleaner.state.floatbank8_c_level      0.27\n",
      "primary_cleaner.state.floatbank8_d_air        0.27\n",
      "primary_cleaner.state.floatbank8_d_level      0.27\n",
      "rougher.input.feed_ag                         0.27\n",
      "rougher.input.feed_pb                         0.27\n",
      "rougher.input.feed_rate                       0.68\n",
      "rougher.input.feed_size                       0.38\n",
      "rougher.input.feed_sol                        1.14\n",
      "rougher.input.feed_au                         0.27\n",
      "rougher.input.floatbank10_sulfate             4.39\n",
      "rougher.input.floatbank10_xanthate            2.10\n",
      "rougher.input.floatbank11_sulfate             0.94\n",
      "rougher.input.floatbank11_xanthate            6.03\n",
      "rougher.state.floatbank10_a_air               0.29\n",
      "rougher.state.floatbank10_a_level             0.27\n",
      "rougher.state.floatbank10_b_air               0.29\n",
      "rougher.state.floatbank10_b_level             0.27\n",
      "rougher.state.floatbank10_c_air               0.29\n",
      "rougher.state.floatbank10_c_level             0.27\n",
      "rougher.state.floatbank10_d_air               0.29\n",
      "rougher.state.floatbank10_d_level             0.27\n",
      "rougher.state.floatbank10_e_air               0.29\n",
      "rougher.state.floatbank10_e_level             0.27\n",
      "rougher.state.floatbank10_f_air               0.29\n",
      "rougher.state.floatbank10_f_level             0.27\n",
      "secondary_cleaner.state.floatbank2_a_air      0.34\n",
      "secondary_cleaner.state.floatbank2_a_level    0.27\n",
      "secondary_cleaner.state.floatbank2_b_air      0.39\n",
      "secondary_cleaner.state.floatbank2_b_level    0.27\n",
      "secondary_cleaner.state.floatbank3_a_air      0.58\n",
      "secondary_cleaner.state.floatbank3_a_level    0.27\n",
      "secondary_cleaner.state.floatbank3_b_air      0.27\n",
      "secondary_cleaner.state.floatbank3_b_level    0.27\n",
      "secondary_cleaner.state.floatbank4_a_air      0.27\n",
      "secondary_cleaner.state.floatbank4_a_level    0.27\n",
      "secondary_cleaner.state.floatbank4_b_air      0.27\n",
      "secondary_cleaner.state.floatbank4_b_level    0.27\n",
      "secondary_cleaner.state.floatbank5_a_air      0.27\n",
      "secondary_cleaner.state.floatbank5_a_level    0.27\n",
      "secondary_cleaner.state.floatbank5_b_air      0.27\n",
      "secondary_cleaner.state.floatbank5_b_level    0.27\n",
      "secondary_cleaner.state.floatbank6_a_air      0.27\n",
      "secondary_cleaner.state.floatbank6_a_level    0.27\n",
      "dtype: float64\n",
      "\n",
      "============================== Full Data ==============================\n",
      "\n",
      "date                                                   0.00\n",
      "final.output.concentrate_ag                            0.39\n",
      "final.output.concentrate_pb                            0.38\n",
      "final.output.concentrate_sol                           1.69\n",
      "final.output.concentrate_au                            0.38\n",
      "final.output.recovery                                  8.64\n",
      "final.output.tail_ag                                   0.37\n",
      "final.output.tail_pb                                   0.88\n",
      "final.output.tail_sol                                  1.19\n",
      "final.output.tail_au                                   0.36\n",
      "primary_cleaner.input.sulfate                          7.08\n",
      "primary_cleaner.input.depressant                       6.81\n",
      "primary_cleaner.input.feed_size                        0.00\n",
      "primary_cleaner.input.xanthate                         5.07\n",
      "primary_cleaner.output.concentrate_ag                  0.43\n",
      "primary_cleaner.output.concentrate_pb                  1.97\n",
      "primary_cleaner.output.concentrate_sol                 3.51\n",
      "primary_cleaner.output.concentrate_au                  0.43\n",
      "primary_cleaner.output.tail_ag                         0.45\n",
      "primary_cleaner.output.tail_pb                         0.54\n",
      "primary_cleaner.output.tail_sol                        1.55\n",
      "primary_cleaner.output.tail_au                         0.44\n",
      "primary_cleaner.state.floatbank8_a_air                 0.25\n",
      "primary_cleaner.state.floatbank8_a_level               0.22\n",
      "primary_cleaner.state.floatbank8_b_air                 0.25\n",
      "primary_cleaner.state.floatbank8_b_level               0.19\n",
      "primary_cleaner.state.floatbank8_c_air                 0.24\n",
      "primary_cleaner.state.floatbank8_c_level               0.19\n",
      "primary_cleaner.state.floatbank8_d_air                 0.24\n",
      "primary_cleaner.state.floatbank8_d_level               0.19\n",
      "rougher.calculation.sulfate_to_au_concentrate          0.19\n",
      "rougher.calculation.floatbank10_sulfate_to_au_feed     0.19\n",
      "rougher.calculation.floatbank11_sulfate_to_au_feed     0.19\n",
      "rougher.calculation.au_pb_ratio                        7.16\n",
      "rougher.input.feed_ag                                  0.43\n",
      "rougher.input.feed_pb                                  1.07\n",
      "rougher.input.feed_rate                                2.43\n",
      "rougher.input.feed_size                                1.93\n",
      "rougher.input.feed_sol                                 1.58\n",
      "rougher.input.feed_au                                  0.44\n",
      "rougher.input.floatbank10_sulfate                      5.73\n",
      "rougher.input.floatbank10_xanthate                     2.06\n",
      "rougher.input.floatbank11_sulfate                      2.98\n",
      "rougher.input.floatbank11_xanthate                     9.94\n",
      "rougher.output.concentrate_ag                          0.43\n",
      "rougher.output.concentrate_pb                          0.43\n",
      "rougher.output.concentrate_sol                         0.84\n",
      "rougher.output.concentrate_au                          0.43\n",
      "rougher.output.recovery                               13.73\n",
      "rougher.output.tail_ag                                12.05\n",
      "rougher.output.tail_pb                                 0.43\n",
      "rougher.output.tail_sol                               12.04\n",
      "rougher.output.tail_au                                12.04\n",
      "rougher.state.floatbank10_a_air                        0.31\n",
      "rougher.state.floatbank10_a_level                      0.30\n",
      "rougher.state.floatbank10_b_air                        0.31\n",
      "rougher.state.floatbank10_b_level                      0.30\n",
      "rougher.state.floatbank10_c_air                        0.31\n",
      "rougher.state.floatbank10_c_level                      0.27\n",
      "rougher.state.floatbank10_d_air                        0.33\n",
      "rougher.state.floatbank10_d_level                      0.29\n",
      "rougher.state.floatbank10_e_air                        2.73\n",
      "rougher.state.floatbank10_e_level                      0.29\n",
      "rougher.state.floatbank10_f_air                        0.33\n",
      "rougher.state.floatbank10_f_level                      0.33\n",
      "secondary_cleaner.output.tail_ag                       0.44\n",
      "secondary_cleaner.output.tail_pb                       0.51\n",
      "secondary_cleaner.output.tail_sol                      9.75\n",
      "secondary_cleaner.output.tail_au                       0.43\n",
      "secondary_cleaner.state.floatbank2_a_air               1.69\n",
      "secondary_cleaner.state.floatbank2_a_level             0.55\n",
      "secondary_cleaner.state.floatbank2_b_air               0.78\n",
      "secondary_cleaner.state.floatbank2_b_level             0.56\n",
      "secondary_cleaner.state.floatbank3_a_air               0.58\n",
      "secondary_cleaner.state.floatbank3_a_level             0.57\n",
      "secondary_cleaner.state.floatbank3_b_air               0.55\n",
      "secondary_cleaner.state.floatbank3_b_level             0.55\n",
      "secondary_cleaner.state.floatbank4_a_air               0.64\n",
      "secondary_cleaner.state.floatbank4_a_level             0.57\n",
      "secondary_cleaner.state.floatbank4_b_air               0.48\n",
      "secondary_cleaner.state.floatbank4_b_level             0.48\n",
      "secondary_cleaner.state.floatbank5_a_air               0.44\n",
      "secondary_cleaner.state.floatbank5_a_level             0.44\n",
      "secondary_cleaner.state.floatbank5_b_air               0.44\n",
      "secondary_cleaner.state.floatbank5_b_level             0.44\n",
      "secondary_cleaner.state.floatbank6_a_air               0.52\n",
      "secondary_cleaner.state.floatbank6_a_level             0.44\n",
      "dtype: float64\n",
      "\n"
     ]
    }
   ],
   "source": [
    "# Determine the percentage of data missing in each column\n",
    "\n",
    "with pd.option_context('display.max_rows', None):\n",
    "    missing_percentages = []\n",
    "    for dataset in datasets:\n",
    "        print(\"==============================\", dataset.name, \"==============================\\n\")\n",
    "        # Calculate the percentage that the number of missing values equates to for each column\n",
    "        missing_percentage_cols = round((dataset.isna().sum() / dataset.shape[0] * 100), 2)\n",
    "        missing_percentages.append(missing_percentage_cols.tolist())\n",
    "        print(missing_percentage_cols)\n",
    "        print()"
   ]
  },
  {
   "cell_type": "code",
   "execution_count": 6,
   "metadata": {
    "scrolled": true
   },
   "outputs": [
    {
     "name": "stdout",
     "output_type": "stream",
     "text": [
      "[12, 2, 12]\n"
     ]
    }
   ],
   "source": [
    "# Find the number of columns that have more than 5% of data missing\n",
    "\n",
    "for i in range(len(missing_percentages)):\n",
    "    count = 0\n",
    "    for j in range(len(missing_percentages[i])):\n",
    "        if missing_percentages[i][j] > 5:\n",
    "            count += 1\n",
    "    \n",
    "    missing_percentages[i] = count # Reassigning the count to the poisition of the original array\n",
    "\n",
    "print(missing_percentages)"
   ]
  },
  {
   "cell_type": "markdown",
   "metadata": {},
   "source": [
    "**Findings**\n",
    "\n",
    "The train (index 0) and full (index 2) datasets each have 12 columns with more than 5% of their values missing. In contrast, the test (index 1) dataset has only 2 columns with more than 5% of their values missing."
   ]
  },
  {
   "cell_type": "markdown",
   "metadata": {},
   "source": [
    "Removing the missing values from the train dataset would result in losing about one-third of the data. Given the large number of columns with missing data, and considering that out of the 86 columns with missing data, only about 12 have more than 5% missing, dropping missing targets and forward filling the missing values is a viable option. This avoids the need to use the mean or median for imputation. The same approach will be applied to the test and full datasets."
   ]
  },
  {
   "cell_type": "code",
   "execution_count": 7,
   "metadata": {},
   "outputs": [],
   "source": [
    "# Drop missing targets from each dataset\n",
    "\n",
    "targets = ['rougher.output.recovery', 'final.output.recovery']\n",
    "\n",
    "if set(targets).issubset(train_data.columns):\n",
    "    train_data = train_data.dropna(subset=targets)\n",
    "if set(targets).issubset(test_data.columns):\n",
    "    test_data = test_data.dropna(subset=targets)\n",
    "if set(targets).issubset(full_data.columns):\n",
    "    full_data = full_data.dropna(subset=targets)"
   ]
  },
  {
   "cell_type": "code",
   "execution_count": 8,
   "metadata": {},
   "outputs": [],
   "source": [
    "# Forward fill each missing value with the last known value\n",
    "\n",
    "train_data = train_data.fillna(method='ffill')\n",
    "test_data = test_data.fillna(method='ffill')\n",
    "full_data = full_data.fillna(method='ffill')\n",
    "\n",
    "datasets = [train_data, test_data, full_data] # Add each dataset back into the datasets array"
   ]
  },
  {
   "cell_type": "markdown",
   "metadata": {},
   "source": [
    "<div class=\"alert alert-success\">\n",
    "<b>Reviewer's comment</b>\n",
    "\n",
    "Missing values were dealt with reasonably!\n",
    "\n",
    "</div>"
   ]
  },
  {
   "cell_type": "markdown",
   "metadata": {},
   "source": [
    "### Handle Duplicated Values"
   ]
  },
  {
   "cell_type": "code",
   "execution_count": 9,
   "metadata": {
    "scrolled": false
   },
   "outputs": [
    {
     "name": "stdout",
     "output_type": "stream",
     "text": [
      "0\n",
      "0\n",
      "0\n"
     ]
    }
   ],
   "source": [
    "# Look for duplicated values\n",
    "\n",
    "print(train_data.duplicated().sum())\n",
    "print(test_data.duplicated().sum())\n",
    "print(full_data.duplicated().sum())"
   ]
  },
  {
   "cell_type": "markdown",
   "metadata": {},
   "source": [
    "**Findings**\n",
    "\n",
    "None of the three datasets contain duplicate values."
   ]
  },
  {
   "cell_type": "markdown",
   "metadata": {},
   "source": [
    "<div class=\"alert alert-success\">\n",
    "<b>Reviewer's comment</b>\n",
    "\n",
    "Alright!\n",
    "\n",
    "</div>"
   ]
  },
  {
   "cell_type": "markdown",
   "metadata": {},
   "source": [
    "### Accuracy of Recovery Calculation"
   ]
  },
  {
   "cell_type": "markdown",
   "metadata": {},
   "source": [
    "The accuracy of the actual `rougher.output.recovery` value should be assessed. This evaluation involves using mean absolute error analysis to compare the predicted recovery values with the actual recovery values and determine the accuracy of the results."
   ]
  },
  {
   "cell_type": "code",
   "execution_count": 10,
   "metadata": {},
   "outputs": [],
   "source": [
    "# Function to calculate recovery\n",
    "\n",
    "def calculate_recovery(data, calc_type=\"rougher\"):\n",
    "    '''Returns the input dataframe with a {calc_type}.calculated.recovery column for either the rougher or \n",
    "    final yield (default is 'rougher') and a Pandas Series containing the recovery values.\n",
    "    Recovery is calculated using the following equation: ((C * (F-T)) / (F * (C-T))) * 100. '''\n",
    "    \n",
    "    C = data[f'{calc_type}.output.concentrate_au']\n",
    "    T = data[f'{calc_type}.output.tail_au']\n",
    "    F = data['rougher.input.feed_au'] if calc_type == \"rougher\" else data['rougher.output.concentrate_au']\n",
    "    \n",
    "    recovery = ((C * (F-T)) / (F * (C-T))) * 100\n",
    "    \n",
    "    print(f\"===== Calculated Recovery for '{calc_type}'===== \\n{recovery}\")\n",
    "    \n",
    "    # Add recovery to the dataframe\n",
    "    data[f'{calc_type}.calculated.recovery'] = recovery\n",
    "    \n",
    "    # Replace two infinity values with 0 (if needed)\n",
    "    data[f'{calc_type}.calculated.recovery'].replace([np.inf, -np.inf], np.nan, inplace=True)\n",
    "\n",
    "    return data, recovery\n"
   ]
  },
  {
   "cell_type": "code",
   "execution_count": 11,
   "metadata": {},
   "outputs": [
    {
     "name": "stdout",
     "output_type": "stream",
     "text": [
      "===== Calculated Recovery for 'rougher'===== \n",
      "0        87.107763\n",
      "1        86.843261\n",
      "2        86.842308\n",
      "3        87.226430\n",
      "4        86.688794\n",
      "           ...    \n",
      "16855    89.574376\n",
      "16856    87.724007\n",
      "16857    88.890579\n",
      "16858    89.858126\n",
      "16859    89.514960\n",
      "Length: 14149, dtype: float64\n",
      "\n",
      "=====Actual Recovery for 'rougher'===== \n"
     ]
    },
    {
     "data": {
      "text/plain": [
       "0        87.107763\n",
       "1        86.843261\n",
       "2        86.842308\n",
       "3        87.226430\n",
       "4        86.688794\n",
       "           ...    \n",
       "16855    89.574376\n",
       "16856    87.724007\n",
       "16857    88.890579\n",
       "16858    89.858126\n",
       "16859    89.514960\n",
       "Name: rougher.output.recovery, Length: 14149, dtype: float64"
      ]
     },
     "execution_count": 11,
     "metadata": {},
     "output_type": "execute_result"
    }
   ],
   "source": [
    "# Calculate the rougher recovery\n",
    "train_data, predicted_recovery_values = calculate_recovery(train_data.dropna(subset=['rougher.output.recovery']), calc_type=\"rougher\")\n",
    "\n",
    "# Grab values for actual recovery\n",
    "actual_recovery_values = train_data['rougher.output.recovery']\n",
    "\n",
    "print()\n",
    "print(f\"=====Actual Recovery for 'rougher'===== \")\n",
    "actual_recovery_values\n"
   ]
  },
  {
   "cell_type": "code",
   "execution_count": 12,
   "metadata": {},
   "outputs": [
    {
     "name": "stdout",
     "output_type": "stream",
     "text": [
      "0\n",
      "0\n"
     ]
    }
   ],
   "source": [
    "# Check number of missing values for each feature\n",
    "\n",
    "print(actual_recovery_values.isna().sum())\n",
    "print(predicted_recovery_values.isna().sum())"
   ]
  },
  {
   "cell_type": "code",
   "execution_count": 13,
   "metadata": {},
   "outputs": [],
   "source": [
    "# Drop columns where values are missing from the calculated column\n",
    "train_data = train_data.dropna(subset=['rougher.calculated.recovery'])\n",
    "\n",
    "# Reassign to existing variables \n",
    "actual_recovery_values = train_data['rougher.output.recovery']\n",
    "predicted_recovery_values = train_data['rougher.calculated.recovery']\n"
   ]
  },
  {
   "cell_type": "code",
   "execution_count": 14,
   "metadata": {
    "scrolled": true
   },
   "outputs": [
    {
     "name": "stdout",
     "output_type": "stream",
     "text": [
      "Mean Absolute Error: 9.317053768151204e-15\n"
     ]
    }
   ],
   "source": [
    "# Calculate MAE\n",
    "mae = mean_absolute_error(actual_recovery_values, predicted_recovery_values)\n",
    "\n",
    "print(\"Mean Absolute Error:\", mae)"
   ]
  },
  {
   "cell_type": "markdown",
   "metadata": {},
   "source": [
    "**Findings**\n",
    "\n",
    "The Mean Absolute Error (MAE) value when comparing the actual recovery values from the dataset with the predicted recovery values was approximately `9.317053768151204e-15` (`0.000000000000009317053768151204`). This extremely low MAE indicates that the actual recovery values in the training dataset are highly accurate. Since the MAE is so close to zero, it can be concluded that the actual values are nearly perfect."
   ]
  },
  {
   "cell_type": "markdown",
   "metadata": {},
   "source": [
    "<div class=\"alert alert-success\">\n",
    "<b>Reviewer's comment</b>\n",
    "\n",
    "Recovery data was validated successfully!\n",
    "\n",
    "</div>"
   ]
  },
  {
   "cell_type": "markdown",
   "metadata": {},
   "source": [
    "### Feature Comparison (Train & Test Datasets)"
   ]
  },
  {
   "cell_type": "code",
   "execution_count": 15,
   "metadata": {
    "scrolled": false
   },
   "outputs": [
    {
     "name": "stdout",
     "output_type": "stream",
     "text": [
      "Columns present in Train Dataset but not in Test Dataset: [Total Number = 35]\n",
      "['final.output.concentrate_ag',\n",
      " 'final.output.concentrate_pb',\n",
      " 'final.output.concentrate_sol',\n",
      " 'final.output.concentrate_au',\n",
      " 'final.output.recovery',\n",
      " 'final.output.tail_ag',\n",
      " 'final.output.tail_pb',\n",
      " 'final.output.tail_sol',\n",
      " 'final.output.tail_au',\n",
      " 'primary_cleaner.output.concentrate_ag',\n",
      " 'primary_cleaner.output.concentrate_pb',\n",
      " 'primary_cleaner.output.concentrate_sol',\n",
      " 'primary_cleaner.output.concentrate_au',\n",
      " 'primary_cleaner.output.tail_ag',\n",
      " 'primary_cleaner.output.tail_pb',\n",
      " 'primary_cleaner.output.tail_sol',\n",
      " 'primary_cleaner.output.tail_au',\n",
      " 'rougher.calculation.sulfate_to_au_concentrate',\n",
      " 'rougher.calculation.floatbank10_sulfate_to_au_feed',\n",
      " 'rougher.calculation.floatbank11_sulfate_to_au_feed',\n",
      " 'rougher.calculation.au_pb_ratio',\n",
      " 'rougher.output.concentrate_ag',\n",
      " 'rougher.output.concentrate_pb',\n",
      " 'rougher.output.concentrate_sol',\n",
      " 'rougher.output.concentrate_au',\n",
      " 'rougher.output.recovery',\n",
      " 'rougher.output.tail_ag',\n",
      " 'rougher.output.tail_pb',\n",
      " 'rougher.output.tail_sol',\n",
      " 'rougher.output.tail_au',\n",
      " 'secondary_cleaner.output.tail_ag',\n",
      " 'secondary_cleaner.output.tail_pb',\n",
      " 'secondary_cleaner.output.tail_sol',\n",
      " 'secondary_cleaner.output.tail_au',\n",
      " 'rougher.calculated.recovery']\n"
     ]
    }
   ],
   "source": [
    "# Find features available in the train dataset but not in test dataset\n",
    "\n",
    "train_cols = train_data.columns.tolist()\n",
    "test_cols = test_data.columns.tolist()\n",
    "missing_cols = []\n",
    "\n",
    "for col in train_cols:\n",
    "    if col not in test_cols:\n",
    "        missing_cols.append(col)\n",
    "\n",
    "print(f\"Columns present in Train Dataset but not in Test Dataset: [Total Number = {len(missing_cols)}]\")\n",
    "pprint(missing_cols)"
   ]
  },
  {
   "cell_type": "markdown",
   "metadata": {},
   "source": [
    "**Findings**\n",
    "\n",
    "The 35 features missing from the test datasets are related to the outputs of the ore mining process. Specifically, the outputs of silver (Ag), lead (Pb), gold (Au), and colloidal gold (sol) for the concentrate and tail at each stage (rougher, primary cleaner, secondary cleaner, and final) are all absent from the test dataset."
   ]
  },
  {
   "cell_type": "markdown",
   "metadata": {},
   "source": [
    "<div class=\"alert alert-success\">\n",
    "<b>Reviewer's comment</b>\n",
    "\n",
    "Good!\n",
    "\n",
    "</div>"
   ]
  },
  {
   "cell_type": "markdown",
   "metadata": {},
   "source": [
    "## Data Analysis"
   ]
  },
  {
   "cell_type": "markdown",
   "metadata": {},
   "source": [
    "### Changes in Metal Concentrations"
   ]
  },
  {
   "cell_type": "code",
   "execution_count": 43,
   "metadata": {},
   "outputs": [
    {
     "data": {
      "text/html": [
       "<div>\n",
       "<style scoped>\n",
       "    .dataframe tbody tr th:only-of-type {\n",
       "        vertical-align: middle;\n",
       "    }\n",
       "\n",
       "    .dataframe tbody tr th {\n",
       "        vertical-align: top;\n",
       "    }\n",
       "\n",
       "    .dataframe thead th {\n",
       "        text-align: right;\n",
       "    }\n",
       "</style>\n",
       "<table border=\"1\" class=\"dataframe\">\n",
       "  <thead>\n",
       "    <tr style=\"text-align: right;\">\n",
       "      <th></th>\n",
       "      <th>rougher.output.concentrate_ag</th>\n",
       "      <th>primary_cleaner.output.concentrate_ag</th>\n",
       "      <th>final.output.concentrate_ag</th>\n",
       "      <th>rougher.output.concentrate_pb</th>\n",
       "      <th>primary_cleaner.output.concentrate_pb</th>\n",
       "      <th>final.output.concentrate_pb</th>\n",
       "      <th>rougher.output.concentrate_au</th>\n",
       "      <th>primary_cleaner.output.concentrate_au</th>\n",
       "      <th>final.output.concentrate_au</th>\n",
       "    </tr>\n",
       "  </thead>\n",
       "  <tbody>\n",
       "    <tr>\n",
       "      <th>0</th>\n",
       "      <td>11.500771</td>\n",
       "      <td>8.547551</td>\n",
       "      <td>6.055403</td>\n",
       "      <td>7.101074</td>\n",
       "      <td>10.389648</td>\n",
       "      <td>9.889648</td>\n",
       "      <td>19.793808</td>\n",
       "      <td>34.174427</td>\n",
       "      <td>42.192020</td>\n",
       "    </tr>\n",
       "    <tr>\n",
       "      <th>1</th>\n",
       "      <td>11.615865</td>\n",
       "      <td>8.558743</td>\n",
       "      <td>6.029369</td>\n",
       "      <td>7.278807</td>\n",
       "      <td>10.497069</td>\n",
       "      <td>9.968944</td>\n",
       "      <td>20.050975</td>\n",
       "      <td>34.118526</td>\n",
       "      <td>42.701629</td>\n",
       "    </tr>\n",
       "    <tr>\n",
       "      <th>2</th>\n",
       "      <td>11.695753</td>\n",
       "      <td>8.603505</td>\n",
       "      <td>6.055926</td>\n",
       "      <td>7.216833</td>\n",
       "      <td>10.354494</td>\n",
       "      <td>10.213995</td>\n",
       "      <td>19.737170</td>\n",
       "      <td>33.969464</td>\n",
       "      <td>42.657501</td>\n",
       "    </tr>\n",
       "    <tr>\n",
       "      <th>3</th>\n",
       "      <td>11.915047</td>\n",
       "      <td>7.221879</td>\n",
       "      <td>6.047977</td>\n",
       "      <td>7.175616</td>\n",
       "      <td>8.496563</td>\n",
       "      <td>9.977019</td>\n",
       "      <td>19.320810</td>\n",
       "      <td>28.260743</td>\n",
       "      <td>42.689819</td>\n",
       "    </tr>\n",
       "    <tr>\n",
       "      <th>4</th>\n",
       "      <td>12.411054</td>\n",
       "      <td>9.089428</td>\n",
       "      <td>6.148599</td>\n",
       "      <td>7.240205</td>\n",
       "      <td>9.986786</td>\n",
       "      <td>10.142511</td>\n",
       "      <td>19.216101</td>\n",
       "      <td>33.044932</td>\n",
       "      <td>42.774141</td>\n",
       "    </tr>\n",
       "    <tr>\n",
       "      <th>...</th>\n",
       "      <td>...</td>\n",
       "      <td>...</td>\n",
       "      <td>...</td>\n",
       "      <td>...</td>\n",
       "      <td>...</td>\n",
       "      <td>...</td>\n",
       "      <td>...</td>\n",
       "      <td>...</td>\n",
       "      <td>...</td>\n",
       "    </tr>\n",
       "    <tr>\n",
       "      <th>16855</th>\n",
       "      <td>11.124896</td>\n",
       "      <td>6.559174</td>\n",
       "      <td>3.224920</td>\n",
       "      <td>10.984003</td>\n",
       "      <td>12.445966</td>\n",
       "      <td>11.356233</td>\n",
       "      <td>18.603550</td>\n",
       "      <td>32.940215</td>\n",
       "      <td>46.713954</td>\n",
       "    </tr>\n",
       "    <tr>\n",
       "      <th>16856</th>\n",
       "      <td>11.425983</td>\n",
       "      <td>6.612376</td>\n",
       "      <td>3.195978</td>\n",
       "      <td>10.888213</td>\n",
       "      <td>12.623947</td>\n",
       "      <td>11.349355</td>\n",
       "      <td>18.441436</td>\n",
       "      <td>32.925325</td>\n",
       "      <td>46.866780</td>\n",
       "    </tr>\n",
       "    <tr>\n",
       "      <th>16857</th>\n",
       "      <td>8.523497</td>\n",
       "      <td>7.128896</td>\n",
       "      <td>3.109998</td>\n",
       "      <td>8.955135</td>\n",
       "      <td>12.633558</td>\n",
       "      <td>11.434366</td>\n",
       "      <td>15.111231</td>\n",
       "      <td>31.856742</td>\n",
       "      <td>46.795691</td>\n",
       "    </tr>\n",
       "    <tr>\n",
       "      <th>16858</th>\n",
       "      <td>11.658799</td>\n",
       "      <td>7.490444</td>\n",
       "      <td>3.367241</td>\n",
       "      <td>10.655377</td>\n",
       "      <td>12.012378</td>\n",
       "      <td>11.625587</td>\n",
       "      <td>17.834772</td>\n",
       "      <td>30.770892</td>\n",
       "      <td>46.408188</td>\n",
       "    </tr>\n",
       "    <tr>\n",
       "      <th>16859</th>\n",
       "      <td>11.959486</td>\n",
       "      <td>7.537584</td>\n",
       "      <td>3.598375</td>\n",
       "      <td>10.702148</td>\n",
       "      <td>11.650285</td>\n",
       "      <td>11.737832</td>\n",
       "      <td>17.804134</td>\n",
       "      <td>30.356618</td>\n",
       "      <td>46.299438</td>\n",
       "    </tr>\n",
       "  </tbody>\n",
       "</table>\n",
       "<p>14149 rows × 9 columns</p>\n",
       "</div>"
      ],
      "text/plain": [
       "       rougher.output.concentrate_ag  primary_cleaner.output.concentrate_ag  \\\n",
       "0                          11.500771                               8.547551   \n",
       "1                          11.615865                               8.558743   \n",
       "2                          11.695753                               8.603505   \n",
       "3                          11.915047                               7.221879   \n",
       "4                          12.411054                               9.089428   \n",
       "...                              ...                                    ...   \n",
       "16855                      11.124896                               6.559174   \n",
       "16856                      11.425983                               6.612376   \n",
       "16857                       8.523497                               7.128896   \n",
       "16858                      11.658799                               7.490444   \n",
       "16859                      11.959486                               7.537584   \n",
       "\n",
       "       final.output.concentrate_ag  rougher.output.concentrate_pb  \\\n",
       "0                         6.055403                       7.101074   \n",
       "1                         6.029369                       7.278807   \n",
       "2                         6.055926                       7.216833   \n",
       "3                         6.047977                       7.175616   \n",
       "4                         6.148599                       7.240205   \n",
       "...                            ...                            ...   \n",
       "16855                     3.224920                      10.984003   \n",
       "16856                     3.195978                      10.888213   \n",
       "16857                     3.109998                       8.955135   \n",
       "16858                     3.367241                      10.655377   \n",
       "16859                     3.598375                      10.702148   \n",
       "\n",
       "       primary_cleaner.output.concentrate_pb  final.output.concentrate_pb  \\\n",
       "0                                  10.389648                     9.889648   \n",
       "1                                  10.497069                     9.968944   \n",
       "2                                  10.354494                    10.213995   \n",
       "3                                   8.496563                     9.977019   \n",
       "4                                   9.986786                    10.142511   \n",
       "...                                      ...                          ...   \n",
       "16855                              12.445966                    11.356233   \n",
       "16856                              12.623947                    11.349355   \n",
       "16857                              12.633558                    11.434366   \n",
       "16858                              12.012378                    11.625587   \n",
       "16859                              11.650285                    11.737832   \n",
       "\n",
       "       rougher.output.concentrate_au  primary_cleaner.output.concentrate_au  \\\n",
       "0                          19.793808                              34.174427   \n",
       "1                          20.050975                              34.118526   \n",
       "2                          19.737170                              33.969464   \n",
       "3                          19.320810                              28.260743   \n",
       "4                          19.216101                              33.044932   \n",
       "...                              ...                                    ...   \n",
       "16855                      18.603550                              32.940215   \n",
       "16856                      18.441436                              32.925325   \n",
       "16857                      15.111231                              31.856742   \n",
       "16858                      17.834772                              30.770892   \n",
       "16859                      17.804134                              30.356618   \n",
       "\n",
       "       final.output.concentrate_au  \n",
       "0                        42.192020  \n",
       "1                        42.701629  \n",
       "2                        42.657501  \n",
       "3                        42.689819  \n",
       "4                        42.774141  \n",
       "...                            ...  \n",
       "16855                    46.713954  \n",
       "16856                    46.866780  \n",
       "16857                    46.795691  \n",
       "16858                    46.408188  \n",
       "16859                    46.299438  \n",
       "\n",
       "[14149 rows x 9 columns]"
      ]
     },
     "execution_count": 43,
     "metadata": {},
     "output_type": "execute_result"
    }
   ],
   "source": [
    "# Observe changes in concentration for different metals\n",
    "\n",
    "metal_cols = ['rougher.output.concentrate_ag', 'primary_cleaner.output.concentrate_ag', 'final.output.concentrate_ag',\n",
    "              'rougher.output.concentrate_pb', 'primary_cleaner.output.concentrate_pb', 'final.output.concentrate_pb',\n",
    "              'rougher.output.concentrate_au', 'primary_cleaner.output.concentrate_au', 'final.output.concentrate_au'\n",
    "             ]\n",
    "\n",
    "metal_data = train_data[metal_cols]\n",
    "metal_data\n"
   ]
  },
  {
   "cell_type": "code",
   "execution_count": 37,
   "metadata": {},
   "outputs": [
    {
     "data": {
      "image/png": "[encoded data removed]",
      "text/plain": [
       "<Figure size 1500x1000 with 9 Axes>"
      ]
     },
     "metadata": {},
     "output_type": "display_data"
    }
   ],
   "source": [
    "plt.figure(figsize=(15, 10))\n",
    "\n",
    "for i in range(len(metal_cols)):\n",
    "    col = metal_cols[i]\n",
    "    plt.subplot(3, 3, i + 1)\n",
    "    plt.hist(metal_data[col].dropna(), bins=30, alpha=0.7, color='blue', edgecolor='black')\n",
    "    plt.title(col)\n",
    "    plt.tight_layout()\n",
    "\n",
    "plt.show()"
   ]
  },
  {
   "cell_type": "code",
   "execution_count": 39,
   "metadata": {},
   "outputs": [
    {
     "data": {
      "image/png": "[encoded data removed]",
      "text/plain": [
       "<Figure size 1500x1000 with 9 Axes>"
      ]
     },
     "metadata": {},
     "output_type": "display_data"
    }
   ],
   "source": [
    "plt.figure(figsize=(15, 10))\n",
    "for i in range(len(metal_cols)):\n",
    "    col = metal_cols[i]\n",
    "    plt.subplot(3, 3, i + 1)\n",
    "    plt.boxplot(metal_data[col].dropna(), vert=False)\n",
    "    plt.title(col)\n",
    "    plt.tight_layout()\n",
    "\n",
    "plt.show()"
   ]
  },
  {
   "cell_type": "markdown",
   "metadata": {},
   "source": [
    "**Findings**\n",
    "\n",
    "The concentration output for different metals varies throughout the two stages of the purification process:\n",
    "\n",
    "- **Silver (Ag):** The concentration of silver generally decreases after each stage of the purification process (primary cleaner and secondary cleaner).\n",
    "- **Lead (Pb):** The concentration of lead slightly increases after the primary cleaner but then slightly decreases after the secondary cleaner stage. The final concentration tends to be slightly higher than the concentration prior to the purification processes.\n",
    "- **Gold (Au):** The concentration of gold tends to increase after each step of the purification process, with a significant increase after the primary cleaner stage and a smaller increase after the secondary cleaner stage."
   ]
  },
  {
   "cell_type": "markdown",
   "metadata": {},
   "source": [
    "<div class=\"alert alert-danger\">\n",
    "<b>Reviewer's comment</b>\n",
    "\n",
    "It's hard to make out the general trends by looking at only a few rows. I'd suggest visualizing the distributions instead\n",
    "\n",
    "</div>"
   ]
  },
  {
   "cell_type": "markdown",
   "metadata": {},
   "source": [
    "<div class=\"alert alert-info\">\n",
    "  Fixed this by adding histograms and boxplots, but the conclusion itself does not change.\n",
    "</div>"
   ]
  },
  {
   "cell_type": "markdown",
   "metadata": {},
   "source": [
    "### Feed particle size distributions\n",
    "\n"
   ]
  },
  {
   "cell_type": "markdown",
   "metadata": {},
   "source": [
    "Before evaluating the model, it's crucial to compare the feed particle size distributions in both the training and test datasets. Any notable differences in these distributions could potentially lead to inaccurate model evaluation. Thus, it's essential to ensure consistency between the training and test data to maintain the model's reliability during evaluation."
   ]
  },
  {
   "cell_type": "code",
   "execution_count": 40,
   "metadata": {},
   "outputs": [
    {
     "data": {
      "image/png": "[encoded data removed]",
      "text/plain": [
       "<Figure size 1400x1000 with 2 Axes>"
      ]
     },
     "metadata": {},
     "output_type": "display_data"
    }
   ],
   "source": [
    "# Train feed size cols\n",
    "rougher_feed_size_train = train_data['rougher.input.feed_size']\n",
    "primary_cleaner_feed_size_train = train_data['primary_cleaner.input.feed_size']\n",
    "\n",
    "# Test feed size cols\n",
    "rougher_feed_size_test = test_data['rougher.input.feed_size']\n",
    "primary_cleaner_feed_size_test = test_data['primary_cleaner.input.feed_size']\n",
    "\n",
    "# Create figure for plots\n",
    "plt.figure(figsize=(14, 10))\n",
    "\n",
    "# Histogram for Rougher Feed Size\n",
    "plt.subplot(2, 2, 1)\n",
    "plt.hist(rougher_feed_size_train, bins=200, alpha=0.5, density=True, label='Train', color='blue')\n",
    "plt.hist(rougher_feed_size_test, bins=200, alpha=0.5, density=True, label='Test', color='red')\n",
    "plt.legend(loc='upper right')\n",
    "plt.title('Feed Particle Size Distributions (Rougher Input)')\n",
    "plt.xlim(0, 160)\n",
    "\n",
    "# Histogram for Primary Cleaner Feed Size\n",
    "plt.subplot(2, 2, 2)\n",
    "plt.hist(primary_cleaner_feed_size_train, bins=60, alpha=0.5, density=True, label='Train', color='blue')\n",
    "plt.hist(primary_cleaner_feed_size_test, bins=60, alpha=0.5, density=True, label='Test', color='red')\n",
    "plt.legend(loc='upper right')\n",
    "plt.title('Feed Particle Size Distributions (Primary Cleaner Input)')\n",
    "\n",
    "plt.tight_layout()\n",
    "plt.show()"
   ]
  },
  {
   "cell_type": "markdown",
   "metadata": {},
   "source": [
    "<div class=\"alert alert-warning\">\n",
    "<b>Reviewer's comment</b>\n",
    "\n",
    "When comparing distributions of samples of different size it's a good idea to normalize the histograms to take that into account\n",
    "\n",
    "</div>"
   ]
  },
  {
   "cell_type": "markdown",
   "metadata": {},
   "source": [
    "<div class=\"alert alert-info\">\n",
    "  Fixed by addin density=True to my histograms\n",
    "</div>"
   ]
  },
  {
   "cell_type": "code",
   "execution_count": 18,
   "metadata": {},
   "outputs": [],
   "source": [
    "# Calculate emperical distribution function (ECDF)\n",
    "\n",
    "def ecdf(data):\n",
    "    \"\"\"Compute ECDF for a one-dimensional array of measurements.\"\"\"\n",
    "    # Number of data points: n\n",
    "    n = len(data)\n",
    " \n",
    "    # x-data for the ECDF: x\n",
    "    x = np.sort(data)\n",
    " \n",
    "    # y-data for the ECDF: y\n",
    "    y = np.arange(1, n+1) / n\n",
    " \n",
    "    return x, y"
   ]
  },
  {
   "cell_type": "code",
   "execution_count": 19,
   "metadata": {
    "scrolled": false
   },
   "outputs": [
    {
     "data": {
      "image/png": "[encoded data removed]",
      "text/plain": [
       "<Figure size 800x400 with 1 Axes>"
      ]
     },
     "metadata": {},
     "output_type": "display_data"
    }
   ],
   "source": [
    "# Calculate ECDF for Rougher\n",
    "\n",
    "eCDF_rougher_train_x, eCDF_rougher_train_y = ecdf(rougher_feed_size_train)\n",
    "eCDF_rougher_test_x, eCDF_rougher_test_y = ecdf(rougher_feed_size_test)\n",
    "\n",
    "fig, ax = plt.subplots(figsize=(8, 4))\n",
    "\n",
    "ax.plot(eCDF_rougher_train_x, eCDF_rougher_train_y, label=\"train\")\n",
    "ax.plot(eCDF_rougher_test_x, eCDF_rougher_test_y, label=\"test\")\n",
    "ax.legend()\n",
    "\n",
    "plt.title('ECDF: Rougher Feed Particle Size')\n",
    "plt.xlabel('Feed Particle Size')\n",
    "plt.ylabel('ECDF')\n",
    "fig.tight_layout()"
   ]
  },
  {
   "cell_type": "code",
   "execution_count": 20,
   "metadata": {
    "scrolled": false
   },
   "outputs": [
    {
     "data": {
      "image/png": "[encoded data removed]",
      "text/plain": [
       "<Figure size 800x400 with 1 Axes>"
      ]
     },
     "metadata": {},
     "output_type": "display_data"
    }
   ],
   "source": [
    "# Calculate ECDF for Primary Cleaner\n",
    "\n",
    "eCDF_pc_train_x, eCDF_pc_train_y = ecdf(primary_cleaner_feed_size_train)\n",
    "eCDF_pc_test_x, eCDF_pc_test_y = ecdf(primary_cleaner_feed_size_test)\n",
    "\n",
    "fig, ax = plt.subplots(figsize=(8, 4))\n",
    "\n",
    "ax.plot(eCDF_pc_train_x, eCDF_pc_train_y, label=\"train\")\n",
    "ax.plot(eCDF_pc_test_x, eCDF_pc_test_y, label=\"test\")\n",
    "ax.legend()\n",
    "\n",
    "\n",
    "plt.title('ECDF: Primary Cleaner Feed Particle Size')\n",
    "plt.xlabel('Feed Particle Size')\n",
    "plt.ylabel('ECDF')\n",
    "fig.tight_layout()"
   ]
  },
  {
   "cell_type": "markdown",
   "metadata": {},
   "source": [
    "**Findings**\n",
    "\n",
    "Upon examining histogram distribution plots of particle feed size in the train dataset for both input feeds (`rougher.input.feed_size` and `primary.cleaner.input.feed_size`), and comparing them to the test dataset, it can be deduced that there are no significant disparities in the distributions of these datasets. Furthermore, the empirical cumulative distribution function (ECDF) analysis did not yield evidence of a substantial Kolmogorov-Smirnov statistic between the two datasets."
   ]
  },
  {
   "cell_type": "markdown",
   "metadata": {},
   "source": [
    "<div class=\"alert alert-success\">\n",
    "<b>Reviewer's comment</b>\n",
    "\n",
    "Great!\n",
    "\n",
    "</div>"
   ]
  },
  {
   "cell_type": "markdown",
   "metadata": {},
   "source": [
    "### Total concentrations of all substances at different stages"
   ]
  },
  {
   "cell_type": "code",
   "execution_count": 59,
   "metadata": {},
   "outputs": [
    {
     "data": {
      "image/png": "[encoded data removed]",
      "text/plain": [
       "<Figure size 800x400 with 1 Axes>"
      ]
     },
     "metadata": {},
     "output_type": "display_data"
    },
    {
     "data": {
      "image/png": "[encoded data removed]",
      "text/plain": [
       "<Figure size 800x400 with 1 Axes>"
      ]
     },
     "metadata": {},
     "output_type": "display_data"
    },
    {
     "data": {
      "image/png": "[encoded data removed]",
      "text/plain": [
       "<Figure size 800x400 with 1 Axes>"
      ]
     },
     "metadata": {},
     "output_type": "display_data"
    }
   ],
   "source": [
    "# Calculate the sums of concentrations for metal\n",
    "final_conc = train_data['final.output.concentrate_ag'] + train_data['final.output.concentrate_pb'] + train_data['final.output.concentrate_au']\n",
    "pc_conc = train_data['primary_cleaner.output.concentrate_ag'] + train_data['primary_cleaner.output.concentrate_pb'] + train_data['primary_cleaner.output.concentrate_au']\n",
    "rougher_conc = train_data['rougher.output.concentrate_ag'] + train_data['rougher.output.concentrate_pb'] + train_data['rougher.output.concentrate_au']\n",
    "\n",
    "# Rougher Concentrations\n",
    "plt.figure(figsize=(8, 4)) \n",
    "plt.hist(rougher_conc, bins=30, color='red', alpha=0.7)\n",
    "plt.title('Rougher Concentration Distribution')\n",
    "plt.xlabel('Sum of Concentrations (au, pb, ag)')\n",
    "plt.ylabel('Frequency')\n",
    "\n",
    "# Primary Cleaner Concentrations\n",
    "plt.figure(figsize=(8, 4))\n",
    "plt.hist(pc_conc, bins=30, color='green', alpha=0.7)\n",
    "plt.title('Primary Cleaner Concentration Distribution')\n",
    "plt.xlabel('Sum of Concentrations (au, pb, ag)')\n",
    "plt.ylabel('Frequency')\n",
    "\n",
    "# Final Concentrations\n",
    "plt.figure(figsize=(8, 4))\n",
    "plt.hist(final_conc, bins=30, color='blue', alpha=0.7)\n",
    "plt.title('Final Concentration Distribution')\n",
    "plt.xlabel('Sum of Concentrations (au, pb, ag)')\n",
    "plt.ylabel('Frequency')\n",
    "\n",
    "plt.show()"
   ]
  },
  {
   "cell_type": "markdown",
   "metadata": {},
   "source": [
    "**Findings**\n",
    "\n",
    "As the processing advances through various stages, the cumulative concentrations of each metal (gold, lead, silver) typically rise. Furthermore, the concentration distributions exhibit a pronounced leftward skew as we progress through the stages of the process."
   ]
  },
  {
   "cell_type": "markdown",
   "metadata": {},
   "source": [
    "<div class=\"alert alert-danger\">\n",
    "<b>Reviewer's comment</b>\n",
    "\n",
    "For this task you need to calculate total concentration of metals at each stage and look at the distributions using histograms (e.g. total initial concentration is `rougher.input.feed_au + rougher.input.feed_ag + rougher.input.feed_pb`)\n",
    "\n",
    "</div>"
   ]
  },
  {
   "cell_type": "markdown",
   "metadata": {},
   "source": [
    "<div class=\"alert alert-info\">\n",
    "  Fixed and add a summary\n",
    "</div>"
   ]
  },
  {
   "cell_type": "markdown",
   "metadata": {},
   "source": [
    "## Model Preparation"
   ]
  },
  {
   "cell_type": "markdown",
   "metadata": {},
   "source": [
    "### Prepare train and test data for model"
   ]
  },
  {
   "cell_type": "markdown",
   "metadata": {},
   "source": [
    "The date column is not necessary for the model. This will be dropped and a new index will be used for the dataset."
   ]
  },
  {
   "cell_type": "code",
   "execution_count": 22,
   "metadata": {},
   "outputs": [],
   "source": [
    "# Drop the date column \n",
    "\n",
    "train_data_final = train_data.drop(['date'], axis=1).reset_index(drop=True)"
   ]
  },
  {
   "cell_type": "markdown",
   "metadata": {},
   "source": [
    "As previously noted, the training data includes numerous additional columns that are absent from the test dataset, potentially leading to target leakage. To prevent this, any columns not present in the test dataset will be excluded from the final set of training features."
   ]
  },
  {
   "cell_type": "code",
   "execution_count": 23,
   "metadata": {},
   "outputs": [],
   "source": [
    "# Define the train target & features\n",
    "\n",
    "## Declare the two targets\n",
    "y_train = train_data_final[['rougher.output.recovery', 'final.output.recovery']]\n",
    "\n",
    "# Declare the features and remove missing columns\n",
    "X_train = train_data_final.drop(missing_cols, axis=1)"
   ]
  },
  {
   "cell_type": "markdown",
   "metadata": {},
   "source": [
    "<div class=\"alert alert-success\">\n",
    "<b>Reviewer's comment</b>\n",
    "\n",
    "Great, you're only using the common columns between train and test as features\n",
    "\n",
    "</div>"
   ]
  },
  {
   "cell_type": "markdown",
   "metadata": {},
   "source": [
    "The various features in the dataset are represented on different scales. To optimize the model, these features should be standardized to a common scale."
   ]
  },
  {
   "cell_type": "code",
   "execution_count": 24,
   "metadata": {},
   "outputs": [],
   "source": [
    "# Feature scaling\n",
    "\n",
    "# scaler = StandardScaler()\n",
    "# scaler.fit(X_train)\n",
    "# X_train_scaled = scaler.transform(X_train)\n",
    "# X_train_scaled = pd.DataFrame(X_train_scaled, columns=X_train.columns)"
   ]
  },
  {
   "cell_type": "markdown",
   "metadata": {},
   "source": [
    "<div class=\"alert alert-warning\">\n",
    "<b>Reviewer's comment</b>\n",
    "\n",
    "When we do cross-validation the appropriate way to apply scaling is to apply it in each fold separately (e.g. using [pipelines](https://scikit-learn.org/stable/modules/generated/sklearn.pipeline.Pipeline.html))\n",
    "\n",
    "</div>"
   ]
  },
  {
   "cell_type": "markdown",
   "metadata": {},
   "source": [
    "<div class=\"alert alert-info\">\n",
    "  I commented this part out and will delete once project is approved. I have implemented scaling using pipelines below. Can you let me know if I did it correctly? Please see section 6.1-6.3\n",
    "</div>"
   ]
  },
  {
   "cell_type": "markdown",
   "metadata": {},
   "source": [
    "### Function Definitions"
   ]
  },
  {
   "cell_type": "code",
   "execution_count": 25,
   "metadata": {},
   "outputs": [],
   "source": [
    "# Function to calculate sMAPE\n",
    "\n",
    "def calculate_smape(y, yhat):\n",
    "    \"\"\"\n",
    "    Calculate the Symmetric Mean Absolute Percentage Error (sMAPE) using the \n",
    "    following equation: SMAPE = (1/n) * Σ(|yi – yhati| / ((|yi| + |yhati|)/2) * 100\n",
    "    \n",
    "    Parameters:\n",
    "    y: Actual values.\n",
    "    yhat: Predicted values.\n",
    "    \n",
    "    Returns:\n",
    "    float: sMAPE value.\n",
    "    \"\"\"\n",
    "    \n",
    "    N = len(y)\n",
    "    smape = (1 / N) * np.sum(2 * np.abs(y - yhat) / (np.abs(y) + np.abs(yhat))) * 100\n",
    "    return smape"
   ]
  },
  {
   "cell_type": "code",
   "execution_count": 26,
   "metadata": {},
   "outputs": [],
   "source": [
    "# Function to calculate final sMAPE\n",
    "\n",
    "def calculate_fsmape(y, ypred):\n",
    "    \"\"\"\n",
    "    Calculate the final sMAPE by combining the sMAPE values for rougher and final stages using the \n",
    "    following equation: 25% * sMAPE(rougher) + 75% * sMAPE(final)\n",
    "    \n",
    "    Parameters:\n",
    "    rougher_smape (float): sMAPE value for the rougher stage.\n",
    "    final_smape (float): sMAPE value for the final stage.\n",
    "    \n",
    "    Returns:\n",
    "    float: Final sMAPE value.\n",
    "    \"\"\"\n",
    "    \n",
    "    rougher_smape = calculate_smape(y.iloc[:, 0], ypred[:, 0])\n",
    "    final_smape = calculate_smape(y.iloc[:, 1], ypred[:, 1])\n",
    "    \n",
    "    fsmape = (0.25 * rougher_smape) + (0.75 * final_smape)\n",
    "    return fsmape\n"
   ]
  },
  {
   "cell_type": "markdown",
   "metadata": {},
   "source": [
    "<div class=\"alert alert-success\">\n",
    "<b>Reviewer's comment</b>\n",
    "\n",
    "Functions for SMAPE calculation are correct\n",
    "\n",
    "</div>"
   ]
  },
  {
   "cell_type": "code",
   "execution_count": 27,
   "metadata": {},
   "outputs": [],
   "source": [
    "def smape_scorer(estimator, X, y_true):\n",
    "    y_pred = estimator.predict(X)\n",
    "    return calculate_fsmape(y_true.T, y_pred.T)"
   ]
  },
  {
   "cell_type": "markdown",
   "metadata": {},
   "source": [
    "<div class=\"alert alert-success\">\n",
    "<b>Reviewer's comment</b>\n",
    "\n",
    "The scorer looks good!\n",
    "\n",
    "</div>"
   ]
  },
  {
   "cell_type": "markdown",
   "metadata": {},
   "source": [
    "## Train Models"
   ]
  },
  {
   "cell_type": "markdown",
   "metadata": {},
   "source": [
    "### Linear Regression"
   ]
  },
  {
   "cell_type": "code",
   "execution_count": 28,
   "metadata": {},
   "outputs": [
    {
     "name": "stdout",
     "output_type": "stream",
     "text": [
      "Linear Regression: score = 6.152887026747679\n"
     ]
    }
   ],
   "source": [
    "model = LinearRegression()\n",
    "\n",
    "pipeline = Pipeline([\n",
    "    ('scaler', StandardScaler()),\n",
    "    ('model', LinearRegression())\n",
    "])\n",
    "\n",
    "lr_scores = cross_val_score(pipeline, X_train, y_train, cv=10, scoring=smape_scorer)\n",
    "lr_score = lr_scores.mean()\n",
    "\n",
    "print(f\"Linear Regression: score = {lr_score}\")"
   ]
  },
  {
   "cell_type": "markdown",
   "metadata": {},
   "source": [
    "### Decision Tree"
   ]
  },
  {
   "cell_type": "code",
   "execution_count": 29,
   "metadata": {},
   "outputs": [
    {
     "name": "stdout",
     "output_type": "stream",
     "text": [
      "1: Decision Tree: depth = 1, score = 7.860560961352239\n",
      "2: Decision Tree: depth = 2, score = 7.619719843560581\n",
      "3: Decision Tree: depth = 3, score = 6.320037761456557\n",
      "4: Decision Tree: depth = 4, score = 7.15057754336692\n",
      "5: Decision Tree: depth = 5, score = 6.732118769803288\n",
      "6: Decision Tree: depth = 6, score = 6.555375802935684\n",
      "7: Decision Tree: depth = 7, score = 6.808783028077198\n",
      "8: Decision Tree: depth = 8, score = 6.339441084765253\n",
      "9: Decision Tree: depth = 9, score = 6.147801050841229\n",
      "10: Decision Tree: depth = 10, score = 5.868055107222169\n"
     ]
    }
   ],
   "source": [
    "dt_scores_raw = []\n",
    "dt_scores = []\n",
    "\n",
    "for depth in range(1, 11):\n",
    "    pipeline = Pipeline([\n",
    "        ('scaler', StandardScaler()),\n",
    "        ('model', DecisionTreeRegressor(max_depth=depth, random_state=123))\n",
    "    ])\n",
    "    \n",
    "    dt_score = (cross_val_score(pipeline, X_train, y_train, cv=10, scoring=smape_scorer))\n",
    "    dt_scores_raw.append(dt_score)\n",
    "    dt_scores.append(dt_score.mean())\n",
    "    \n",
    "    print(f\"{depth}: Decision Tree: depth = {depth},\", \"score =\", dt_score.mean())"
   ]
  },
  {
   "cell_type": "markdown",
   "metadata": {},
   "source": [
    "### Random Forest"
   ]
  },
  {
   "cell_type": "code",
   "execution_count": 30,
   "metadata": {},
   "outputs": [
    {
     "name": "stdout",
     "output_type": "stream",
     "text": [
      "1: Random Forest: depth = 1, estimators = 1 score = 7.627317235311454\n",
      "2: Random Forest: depth = 2, estimators = 1 score = 7.598576419855472\n",
      "3: Random Forest: depth = 3, estimators = 1 score = 5.994904978830915\n",
      "4: Random Forest: depth = 4, estimators = 1 score = 6.53660143077808\n",
      "5: Random Forest: depth = 5, estimators = 1 score = 6.744460105352275\n",
      "1: Random Forest: depth = 1, estimators = 16 score = 7.646360450000364\n",
      "2: Random Forest: depth = 2, estimators = 16 score = 7.112270012373986\n",
      "3: Random Forest: depth = 3, estimators = 16 score = 6.2564224076934565\n",
      "4: Random Forest: depth = 4, estimators = 16 score = 6.195842795484504\n",
      "5: Random Forest: depth = 5, estimators = 16 score = 5.851198984843085\n"
     ]
    }
   ],
   "source": [
    "rf_scores_raw = []\n",
    "rf_scores = []\n",
    "\n",
    "for est in range(1, 31, 15):\n",
    "    for depth in range(1, 6):\n",
    "        pipeline = Pipeline([\n",
    "            ('scaler', StandardScaler()),\n",
    "            ('model', RandomForestRegressor(max_depth=depth, n_estimators=est, random_state=123))\n",
    "        ])\n",
    "        \n",
    "        rf_score = (cross_val_score(pipeline, X_train, y_train, cv=10, scoring=smape_scorer))\n",
    "        rf_scores_raw.append(rf_score)\n",
    "        rf_scores.append(rf_score.mean())\n",
    "        \n",
    "        print(f\"{depth}: Random Forest: depth = {depth},\", f\"estimators = {est}\", \"score =\", rf_score.mean())\n"
   ]
  },
  {
   "cell_type": "markdown",
   "metadata": {},
   "source": [
    "**Findings**\n",
    "\n",
    "Three regression models—Linear Regression, Decision Tree Regressor, and Random Forest Regressor—were trained. Their average Symmetric Mean Absolute Percentage errors (SMAPE) exhibited close alignment, typically varying within a range of approximately plus or minus 3.\n",
    "\n",
    "Among these models, the most promising outcomes on the training dataset were achieved as follows:\n",
    "\n",
    "- Decision Tree Regressor, with a depth level of 10, yielding approximately 5.86% error.\n",
    "- Random Forest Regressor, with a depth level of 5 and 16 estimator, resulting in approximately 5.99% error.\n",
    "- Linear Regression, which generated an error of approximately 6.15%.\n",
    "\n",
    "Considering both model accuracy and efficiency is crucial when selecting the model for the test dataset. While the SMAPE calculations involve cross-validation, which imposes a significant computational load on the Decision Tree and Random Forest models, the best choice for the test dataset would likely be the Linear Regression model."
   ]
  },
  {
   "cell_type": "markdown",
   "metadata": {},
   "source": [
    "<div class=\"alert alert-success\">\n",
    "<b>Reviewer's comment</b>\n",
    "\n",
    "Great, you tried a couple of different models and tuned their hyperparameters using cross-validation with our target metric!\n",
    "\n",
    "</div>"
   ]
  },
  {
   "cell_type": "markdown",
   "metadata": {},
   "source": [
    "## Test Models"
   ]
  },
  {
   "cell_type": "markdown",
   "metadata": {},
   "source": [
    "Currently, the test data lacks the target labels that were used to train the model. Therefore, these target labels need to be extracted from the full dataset and incorporated into the test data for model evaluation."
   ]
  },
  {
   "cell_type": "code",
   "execution_count": 31,
   "metadata": {
    "scrolled": true
   },
   "outputs": [],
   "source": [
    "# Merge data from full dataset into test dataset\n",
    "\n",
    "merged_data = test_data.merge(full_data[['date', 'rougher.output.recovery', 'final.output.recovery']], on='date', how='inner')\n",
    "\n",
    "# Declare target and features for test data\n",
    "X_test = merged_data.drop(['date', 'rougher.output.recovery', 'final.output.recovery'], axis=1).reset_index(drop=True)\n",
    "y_test = merged_data[['rougher.output.recovery', 'final.output.recovery']].reset_index(drop=True)"
   ]
  },
  {
   "cell_type": "markdown",
   "metadata": {},
   "source": [
    "<div class=\"alert alert-success\">\n",
    "<b>Reviewer's comment</b>\n",
    "\n",
    "Targets were merged with the test set correctly\n",
    "\n",
    "</div>"
   ]
  },
  {
   "cell_type": "code",
   "execution_count": 32,
   "metadata": {},
   "outputs": [
    {
     "name": "stdout",
     "output_type": "stream",
     "text": [
      "Linear Regression: 9.978537137477236\n"
     ]
    }
   ],
   "source": [
    "# Create model\n",
    "\n",
    "model = LinearRegression()\n",
    "model.fit(X_train, y_train) # Train model using training data\n",
    "y_pred = model.predict(X_test) # Test results using unseen data\n",
    "lr_score = calculate_fsmape(y_test, y_pred) # Calculate final smape\n",
    "\n",
    "print(f\"Linear Regression: {lr_score}\")"
   ]
  },
  {
   "cell_type": "code",
   "execution_count": 62,
   "metadata": {},
   "outputs": [
    {
     "name": "stdout",
     "output_type": "stream",
     "text": [
      "Dummy Linear Regression: 10.289630376021035\n"
     ]
    }
   ],
   "source": [
    "# Create dummy regressor\n",
    "\n",
    "dummy_regressor = DummyRegressor(strategy=\"mean\")\n",
    "dummy_regressor.fit(X_train, y_train)\n",
    "y_pred_dummy = dummy_regressor.predict(X_test)\n",
    "lr_score_dummy = calculate_fsmape(y_test, y_pred_dummy)\n",
    "print(f\"Dummy Linear Regression: {lr_score_dummy}\")"
   ]
  },
  {
   "cell_type": "markdown",
   "metadata": {},
   "source": [
    "<div class=\"alert alert-danger\">\n",
    "<b>Reviewer's comment</b>\n",
    "\n",
    "A couple of issues here:\n",
    "    \n",
    "1. First of all it is never appropriate to fit the model using the test set, that is the job of the train set, and the test set is only used *to evaluate* the model. That's how we can say that the model is evaluated on unseen data :)\n",
    "    \n",
    "2. Doing cross-validation on the test set doesn't make sense either: remember that in k-fold cross-validation the data is split into k parts and then k models are trained by iterating through these parts and treating one part as validation data and the remaining k-1 parts as train data. Doing it on the test set means that the actual train set data is not used at all, and the model is trained and evaluated on small parts of the test set.\n",
    "    \n",
    "    What you need to do to evaluate the final model on the test set is simply fit the model using the train set, make predictions for the test set and calculate the metrics (e.g. SMAPE in this case).\n",
    "    \n",
    "3. Could you please add a comparison with a simple constant baseline, e.g. a model always predicting mean or median of train set targets (you can use [DummyRegressor](https://scikit-learn.org/stable/modules/generated/sklearn.dummy.DummyRegressor.html) for convenience)?\n",
    "\n",
    "</div>"
   ]
  },
  {
   "cell_type": "markdown",
   "metadata": {},
   "source": [
    "<div class=\"alert alert-info\">\n",
    "  Fixed the linear regression.\n",
    "</div>"
   ]
  },
  {
   "cell_type": "markdown",
   "metadata": {},
   "source": [
    "**Findings**\n",
    "\n",
    "The Linear Regression model achieved a SMAPE score of 9.97% when tested on unseen data, suggesting an approximate 90% accuracy in predicting the targets. This implies that the model has a 90% probability of accurately predicting the final concentrations in the gold ore recovery process. The model performed slightly better at result prediction when compared to the baseline dummy model."
   ]
  },
  {
   "cell_type": "markdown",
   "metadata": {},
   "source": [
    "<div class=\"alert alert-danger\">\n",
    "<b>Reviewer's comment</b>\n",
    "\n",
    "> The Linear Regression model achieved an SMAPE score of 9.91% when tested on unseen data, indicating that the model has approximately a 90% accuracy in predicting the targets.\n",
    "    \n",
    "That doesn't seem like a coherent interpretation to me. Could you explain what you mean by 90% accuracy in a regression context?\n",
    "\n",
    "</div>"
   ]
  },
  {
   "cell_type": "markdown",
   "metadata": {},
   "source": [
    "<div class=\"alert alert-info\">\n",
    "  Fixed my statement above\n",
    "</div>"
   ]
  },
  {
   "cell_type": "markdown",
   "metadata": {},
   "source": [
    "## Conclusion"
   ]
  },
  {
   "cell_type": "markdown",
   "metadata": {},
   "source": [
    "In conclusion, this project has unveiled crucial insights into the intricate task of predicting gold recovery from ore, shedding light on the multifaceted challenges inherent in the process. An initial observation surfaced concerning the disparities in data dimensions among the train, test, and full datasets, necessitating meticulous feature selection to ensure model compatibility across all sets. Tackling missing values emerged as a significant preprocessing hurdle, prompting the adoption of strategies such as dropping missing targets and forward filling to uphold data integrity throughout the analysis.\n",
    "\n",
    "Furthermore, the strikingly low Mean Absolute Error (MAE) encountered during the comparison of actual and predicted recovery values in the training dataset underscores the precision of the actual values derived. Nonetheless, the absence of certain features linked to ore mining outputs in the test dataset presents a notable obstacle for model evaluation and prediction, posing a need for innovative solutions to bridge this gap effectively.\n",
    "\n",
    "Insights garnered from the thorough analysis of metal concentration trends throughout the purification process provide valuable operational perspectives, offering a deeper understanding of the efficacy of each purification stage. Additionally, the consistency observed in particle feed size distributions between the train and test datasets assures robustness in model training and evaluation, affirming the reliability of the dataset for predictive modeling purposes.\n",
    "\n",
    "The development and evaluation of various regression models, including Linear Regression, Decision Tree Regressor, and Random Forest Regressor, yielded promising results, showcasing the potential of machine learning in this domain. Among these models, the Linear Regression model emerged as the preferred choice for its balanced performance in terms of accuracy and computational efficiency. Its satisfactory Symmetric Mean Absolute Percentage Error (SMAPE) score of 9.97% on unseen data indicates its capability to predict gold recovery targets with approximately 90% accuracy.\n",
    "\n",
    "Looking ahead, the continual refinement of models and strategies based on real-world feedback will be pivotal in further enhancing predictive accuracy and operational efficiency in gold recovery processes. Embracing a dynamic approach to model development and deployment will enable the seamless integration of cutting-edge technologies into industrial practices, driving continuous improvement and innovation in the field of ore mining and processing."
   ]
  },
  {
   "cell_type": "markdown",
   "metadata": {},
   "source": [
    "<div class=\"alert alert-danger\">\n",
    "<b>Reviewer's comment</b>\n",
    "\n",
    "Nice summary, same question about accuracy though\n",
    "\n",
    "</div>"
   ]
  },
  {
   "cell_type": "markdown",
   "metadata": {},
   "source": [
    "<div class=\"alert alert-info\">\n",
    "  Fixed the statement.\n",
    "</div>"
   ]
  }
 ],
 "metadata": {
  "ExecuteTimeLog": [
   {
    "duration": 4,
    "start_time": "2024-05-16T12:34:53.020Z"
   },
   {
    "duration": 4864,
    "start_time": "2024-05-16T12:35:31.227Z"
   },
   {
    "duration": 953,
    "start_time": "2024-05-16T12:38:21.120Z"
   },
   {
    "duration": 5,
    "start_time": "2024-05-16T12:57:37.415Z"
   },
   {
    "duration": 875,
    "start_time": "2024-05-16T12:57:38.298Z"
   },
   {
    "duration": 41,
    "start_time": "2024-05-16T12:57:43.537Z"
   },
   {
    "duration": 29,
    "start_time": "2024-05-16T13:01:31.501Z"
   },
   {
    "duration": 19,
    "start_time": "2024-05-16T13:02:06.924Z"
   },
   {
    "duration": 26,
    "start_time": "2024-05-16T13:02:23.554Z"
   },
   {
    "duration": 18,
    "start_time": "2024-05-16T13:02:42.500Z"
   },
   {
    "duration": 42,
    "start_time": "2024-05-16T13:03:55.155Z"
   },
   {
    "duration": 408,
    "start_time": "2024-05-16T13:04:22.979Z"
   },
   {
    "duration": 38,
    "start_time": "2024-05-16T13:04:35.804Z"
   },
   {
    "duration": 766,
    "start_time": "2024-05-16T13:05:43.114Z"
   },
   {
    "duration": 924,
    "start_time": "2024-05-16T13:06:24.745Z"
   },
   {
    "duration": 58,
    "start_time": "2024-05-16T13:06:27.000Z"
   },
   {
    "duration": 49,
    "start_time": "2024-05-16T13:06:42.845Z"
   },
   {
    "duration": 42,
    "start_time": "2024-05-16T13:07:03.405Z"
   },
   {
    "duration": 47,
    "start_time": "2024-05-16T13:07:15.580Z"
   },
   {
    "duration": 42,
    "start_time": "2024-05-16T13:07:37.495Z"
   },
   {
    "duration": 46,
    "start_time": "2024-05-16T13:07:45.254Z"
   },
   {
    "duration": 43,
    "start_time": "2024-05-16T13:07:49.790Z"
   },
   {
    "duration": 41,
    "start_time": "2024-05-16T13:09:24.151Z"
   },
   {
    "duration": 21,
    "start_time": "2024-05-16T13:18:01.589Z"
   },
   {
    "duration": 42,
    "start_time": "2024-05-16T13:18:10.855Z"
   },
   {
    "duration": 16,
    "start_time": "2024-05-16T13:18:12.043Z"
   },
   {
    "duration": 4,
    "start_time": "2024-05-16T13:18:20.241Z"
   },
   {
    "duration": 48,
    "start_time": "2024-05-16T13:18:25.462Z"
   },
   {
    "duration": 46,
    "start_time": "2024-05-16T13:18:31.087Z"
   },
   {
    "duration": 19,
    "start_time": "2024-05-16T13:18:36.106Z"
   },
   {
    "duration": 21,
    "start_time": "2024-05-16T13:19:00.569Z"
   },
   {
    "duration": 12,
    "start_time": "2024-05-16T13:21:04.967Z"
   },
   {
    "duration": 21,
    "start_time": "2024-05-16T13:22:13.262Z"
   },
   {
    "duration": 12,
    "start_time": "2024-05-16T13:22:27.455Z"
   },
   {
    "duration": 19,
    "start_time": "2024-05-16T13:22:41.975Z"
   },
   {
    "duration": 12,
    "start_time": "2024-05-16T13:22:42.548Z"
   },
   {
    "duration": 334,
    "start_time": "2024-05-16T13:22:47.570Z"
   },
   {
    "duration": 776,
    "start_time": "2024-05-16T13:22:47.920Z"
   },
   {
    "duration": 61,
    "start_time": "2024-05-16T13:22:48.699Z"
   },
   {
    "duration": 20,
    "start_time": "2024-05-16T13:22:48.763Z"
   },
   {
    "duration": 21,
    "start_time": "2024-05-16T13:23:29.920Z"
   },
   {
    "duration": 30,
    "start_time": "2024-05-16T13:24:03.150Z"
   },
   {
    "duration": 23,
    "start_time": "2024-05-16T13:24:09.278Z"
   },
   {
    "duration": 42,
    "start_time": "2024-05-16T13:25:46.452Z"
   },
   {
    "duration": 23,
    "start_time": "2024-05-16T13:26:11.825Z"
   },
   {
    "duration": 1386,
    "start_time": "2024-05-16T13:26:25.167Z"
   },
   {
    "duration": 798,
    "start_time": "2024-05-16T13:26:27.507Z"
   },
   {
    "duration": 56,
    "start_time": "2024-05-16T13:26:29.900Z"
   },
   {
    "duration": 26,
    "start_time": "2024-05-16T13:26:34.449Z"
   },
   {
    "duration": 22,
    "start_time": "2024-05-16T13:27:12.164Z"
   },
   {
    "duration": 31,
    "start_time": "2024-05-16T13:27:39.635Z"
   },
   {
    "duration": 33,
    "start_time": "2024-05-16T13:27:47.043Z"
   },
   {
    "duration": 30,
    "start_time": "2024-05-16T13:27:55.569Z"
   },
   {
    "duration": 27,
    "start_time": "2024-05-16T13:28:32.702Z"
   },
   {
    "duration": 28,
    "start_time": "2024-05-16T13:28:37.534Z"
   },
   {
    "duration": 539,
    "start_time": "2024-05-16T13:29:28.380Z"
   },
   {
    "duration": 31,
    "start_time": "2024-05-16T13:29:34.265Z"
   },
   {
    "duration": 42,
    "start_time": "2024-05-16T13:30:00.927Z"
   },
   {
    "duration": 19,
    "start_time": "2024-05-16T13:30:12.884Z"
   },
   {
    "duration": 44,
    "start_time": "2024-05-16T13:30:35.595Z"
   },
   {
    "duration": 8,
    "start_time": "2024-05-16T13:30:58.841Z"
   },
   {
    "duration": 6,
    "start_time": "2024-05-16T13:31:30.946Z"
   },
   {
    "duration": 7,
    "start_time": "2024-05-16T13:32:00.645Z"
   },
   {
    "duration": 43,
    "start_time": "2024-05-16T13:33:22.599Z"
   },
   {
    "duration": 15,
    "start_time": "2024-05-16T13:33:28.108Z"
   },
   {
    "duration": 6,
    "start_time": "2024-05-16T13:33:33.333Z"
   },
   {
    "duration": 28,
    "start_time": "2024-05-16T13:36:57.208Z"
   },
   {
    "duration": 5,
    "start_time": "2024-05-16T13:37:28.801Z"
   },
   {
    "duration": 8,
    "start_time": "2024-05-16T13:37:38.403Z"
   },
   {
    "duration": 9,
    "start_time": "2024-05-16T13:40:40.079Z"
   },
   {
    "duration": 31,
    "start_time": "2024-05-16T13:43:16.682Z"
   },
   {
    "duration": 7,
    "start_time": "2024-05-16T13:43:20.634Z"
   },
   {
    "duration": 781,
    "start_time": "2024-05-16T14:14:22.696Z"
   },
   {
    "duration": 67,
    "start_time": "2024-05-16T14:14:23.481Z"
   },
   {
    "duration": 21,
    "start_time": "2024-05-16T14:14:23.551Z"
   },
   {
    "duration": 30,
    "start_time": "2024-05-16T14:14:25.910Z"
   },
   {
    "duration": 5,
    "start_time": "2024-05-16T14:14:26.560Z"
   },
   {
    "duration": 30,
    "start_time": "2024-05-16T14:17:46.088Z"
   },
   {
    "duration": 36,
    "start_time": "2024-05-16T14:17:48.202Z"
   },
   {
    "duration": 5,
    "start_time": "2024-05-16T14:17:48.635Z"
   },
   {
    "duration": 31,
    "start_time": "2024-05-16T14:17:58.899Z"
   },
   {
    "duration": 29,
    "start_time": "2024-05-16T14:18:01.752Z"
   },
   {
    "duration": 6,
    "start_time": "2024-05-16T14:18:01.948Z"
   },
   {
    "duration": 24,
    "start_time": "2024-05-16T14:32:31.750Z"
   },
   {
    "duration": 7,
    "start_time": "2024-05-16T14:32:48.692Z"
   },
   {
    "duration": 7,
    "start_time": "2024-05-16T14:32:56.457Z"
   },
   {
    "duration": 25,
    "start_time": "2024-05-16T14:33:10.119Z"
   },
   {
    "duration": 25,
    "start_time": "2024-05-16T14:33:13.870Z"
   },
   {
    "duration": 7,
    "start_time": "2024-05-16T14:33:37.045Z"
   },
   {
    "duration": 6,
    "start_time": "2024-05-16T14:33:44.175Z"
   },
   {
    "duration": 7,
    "start_time": "2024-05-16T14:33:50.562Z"
   },
   {
    "duration": 7,
    "start_time": "2024-05-16T14:34:17.095Z"
   },
   {
    "duration": 7,
    "start_time": "2024-05-16T14:34:41.765Z"
   },
   {
    "duration": 7,
    "start_time": "2024-05-16T14:35:08.244Z"
   },
   {
    "duration": 7,
    "start_time": "2024-05-16T14:35:12.197Z"
   },
   {
    "duration": 7,
    "start_time": "2024-05-16T14:35:18.768Z"
   },
   {
    "duration": 8,
    "start_time": "2024-05-16T14:35:23.716Z"
   },
   {
    "duration": 6,
    "start_time": "2024-05-16T14:35:50.592Z"
   },
   {
    "duration": 6,
    "start_time": "2024-05-16T14:35:55.148Z"
   },
   {
    "duration": 7,
    "start_time": "2024-05-16T14:35:59.523Z"
   },
   {
    "duration": 29,
    "start_time": "2024-05-16T14:36:58.740Z"
   },
   {
    "duration": 31,
    "start_time": "2024-05-16T14:37:01.739Z"
   },
   {
    "duration": 27,
    "start_time": "2024-05-16T14:37:01.955Z"
   },
   {
    "duration": 6,
    "start_time": "2024-05-16T14:37:14.770Z"
   },
   {
    "duration": 34,
    "start_time": "2024-05-16T14:37:30.212Z"
   },
   {
    "duration": 4,
    "start_time": "2024-05-16T14:39:16.749Z"
   },
   {
    "duration": 39,
    "start_time": "2024-05-16T14:39:59.685Z"
   },
   {
    "duration": 4,
    "start_time": "2024-05-16T14:40:03.297Z"
   },
   {
    "duration": 35,
    "start_time": "2024-05-16T14:40:03.478Z"
   },
   {
    "duration": 4,
    "start_time": "2024-05-16T14:40:11.835Z"
   },
   {
    "duration": 37,
    "start_time": "2024-05-16T14:40:12.437Z"
   },
   {
    "duration": 5,
    "start_time": "2024-05-16T14:40:20.804Z"
   },
   {
    "duration": 772,
    "start_time": "2024-05-16T14:40:21.173Z"
   },
   {
    "duration": 75,
    "start_time": "2024-05-16T14:40:21.949Z"
   },
   {
    "duration": 23,
    "start_time": "2024-05-16T14:40:22.027Z"
   },
   {
    "duration": 29,
    "start_time": "2024-05-16T14:40:22.111Z"
   },
   {
    "duration": 6,
    "start_time": "2024-05-16T14:40:22.331Z"
   },
   {
    "duration": 5,
    "start_time": "2024-05-16T14:40:22.741Z"
   },
   {
    "duration": 36,
    "start_time": "2024-05-16T14:40:22.984Z"
   },
   {
    "duration": 4,
    "start_time": "2024-05-16T14:40:38.098Z"
   },
   {
    "duration": 7,
    "start_time": "2024-05-16T14:40:44.107Z"
   },
   {
    "duration": 911,
    "start_time": "2024-05-16T14:42:07.619Z"
   },
   {
    "duration": 4,
    "start_time": "2024-05-16T14:42:12.433Z"
   },
   {
    "duration": 80,
    "start_time": "2024-05-16T14:42:12.634Z"
   },
   {
    "duration": 82,
    "start_time": "2024-05-16T14:42:25.252Z"
   },
   {
    "duration": 320,
    "start_time": "2024-05-16T14:44:20.262Z"
   },
   {
    "duration": 1466,
    "start_time": "2024-05-16T14:44:27.278Z"
   },
   {
    "duration": 810,
    "start_time": "2024-05-16T14:44:28.748Z"
   },
   {
    "duration": 66,
    "start_time": "2024-05-16T14:44:29.562Z"
   },
   {
    "duration": 20,
    "start_time": "2024-05-16T14:44:29.631Z"
   },
   {
    "duration": 55,
    "start_time": "2024-05-16T14:44:29.656Z"
   },
   {
    "duration": 6,
    "start_time": "2024-05-16T14:44:29.715Z"
   },
   {
    "duration": 4,
    "start_time": "2024-05-16T14:44:29.725Z"
   },
   {
    "duration": 4,
    "start_time": "2024-05-16T14:44:33.228Z"
   },
   {
    "duration": 128,
    "start_time": "2024-05-16T14:44:33.680Z"
   },
   {
    "duration": 8,
    "start_time": "2024-05-16T14:44:45.123Z"
   },
   {
    "duration": 22,
    "start_time": "2024-05-16T14:44:49.032Z"
   },
   {
    "duration": 876,
    "start_time": "2024-05-16T14:45:00.234Z"
   },
   {
    "duration": 1488,
    "start_time": "2024-05-16T14:47:01.595Z"
   },
   {
    "duration": 795,
    "start_time": "2024-05-16T14:47:03.087Z"
   },
   {
    "duration": 66,
    "start_time": "2024-05-16T14:47:03.885Z"
   },
   {
    "duration": 20,
    "start_time": "2024-05-16T14:47:03.954Z"
   },
   {
    "duration": 49,
    "start_time": "2024-05-16T14:47:03.979Z"
   },
   {
    "duration": 6,
    "start_time": "2024-05-16T14:47:04.032Z"
   },
   {
    "duration": 500,
    "start_time": "2024-05-16T14:47:04.042Z"
   },
   {
    "duration": 11,
    "start_time": "2024-05-16T14:47:20.570Z"
   },
   {
    "duration": 31,
    "start_time": "2024-05-16T14:47:28.714Z"
   },
   {
    "duration": 23,
    "start_time": "2024-05-16T14:48:06.607Z"
   },
   {
    "duration": 304,
    "start_time": "2024-05-16T14:48:56.334Z"
   },
   {
    "duration": 1543,
    "start_time": "2024-05-16T14:49:00.396Z"
   },
   {
    "duration": 850,
    "start_time": "2024-05-16T14:49:01.942Z"
   },
   {
    "duration": 61,
    "start_time": "2024-05-16T14:49:02.796Z"
   },
   {
    "duration": 47,
    "start_time": "2024-05-16T14:49:02.860Z"
   },
   {
    "duration": 38,
    "start_time": "2024-05-16T14:49:02.915Z"
   },
   {
    "duration": 7,
    "start_time": "2024-05-16T14:49:02.956Z"
   },
   {
    "duration": 51,
    "start_time": "2024-05-16T14:49:02.966Z"
   },
   {
    "duration": 18,
    "start_time": "2024-05-16T14:49:13.345Z"
   },
   {
    "duration": 981,
    "start_time": "2024-05-16T14:49:43.093Z"
   },
   {
    "duration": 23,
    "start_time": "2024-05-16T14:49:44.088Z"
   },
   {
    "duration": 6,
    "start_time": "2024-05-16T14:49:47.004Z"
   },
   {
    "duration": 79,
    "start_time": "2024-05-16T14:49:47.580Z"
   },
   {
    "duration": 27,
    "start_time": "2024-05-16T14:50:15.528Z"
   },
   {
    "duration": 18,
    "start_time": "2024-05-16T14:50:16.445Z"
   },
   {
    "duration": 19,
    "start_time": "2024-05-16T14:50:20.192Z"
   },
   {
    "duration": 32,
    "start_time": "2024-05-16T14:50:38.603Z"
   },
   {
    "duration": 18,
    "start_time": "2024-05-16T14:50:39.014Z"
   },
   {
    "duration": 20,
    "start_time": "2024-05-16T14:51:17.868Z"
   },
   {
    "duration": 17,
    "start_time": "2024-05-16T14:51:19.317Z"
   },
   {
    "duration": 29,
    "start_time": "2024-05-16T14:52:19.381Z"
   },
   {
    "duration": 6,
    "start_time": "2024-05-16T14:52:19.673Z"
   },
   {
    "duration": 31,
    "start_time": "2024-05-16T14:52:59.449Z"
   },
   {
    "duration": 22,
    "start_time": "2024-05-16T14:53:00.682Z"
   },
   {
    "duration": 22,
    "start_time": "2024-05-16T14:54:15.820Z"
   },
   {
    "duration": 40,
    "start_time": "2024-05-16T14:54:21.364Z"
   },
   {
    "duration": 22,
    "start_time": "2024-05-16T14:54:26.809Z"
   },
   {
    "duration": 26,
    "start_time": "2024-05-16T14:55:07.440Z"
   },
   {
    "duration": 5,
    "start_time": "2024-05-16T14:55:15.978Z"
   },
   {
    "duration": 720,
    "start_time": "2024-05-16T14:55:16.369Z"
   },
   {
    "duration": 59,
    "start_time": "2024-05-16T14:55:17.092Z"
   },
   {
    "duration": 20,
    "start_time": "2024-05-16T14:55:17.238Z"
   },
   {
    "duration": 34,
    "start_time": "2024-05-16T14:55:17.484Z"
   },
   {
    "duration": 5,
    "start_time": "2024-05-16T14:55:17.677Z"
   },
   {
    "duration": 23,
    "start_time": "2024-05-16T14:55:18.196Z"
   },
   {
    "duration": 20,
    "start_time": "2024-05-16T15:01:53.384Z"
   },
   {
    "duration": 5,
    "start_time": "2024-05-16T15:02:10.194Z"
   },
   {
    "duration": 22,
    "start_time": "2024-05-16T15:02:25.380Z"
   },
   {
    "duration": 26,
    "start_time": "2024-05-16T15:02:37.999Z"
   },
   {
    "duration": 5,
    "start_time": "2024-05-16T15:02:47.321Z"
   },
   {
    "duration": 28,
    "start_time": "2024-05-16T15:02:57.226Z"
   },
   {
    "duration": 28,
    "start_time": "2024-05-16T15:03:01.667Z"
   },
   {
    "duration": 22,
    "start_time": "2024-05-16T15:03:27.517Z"
   },
   {
    "duration": 25,
    "start_time": "2024-05-16T15:04:01.584Z"
   },
   {
    "duration": 6,
    "start_time": "2024-05-16T15:04:11.815Z"
   },
   {
    "duration": 6,
    "start_time": "2024-05-16T15:05:10.349Z"
   },
   {
    "duration": 7,
    "start_time": "2024-05-16T15:05:23.623Z"
   },
   {
    "duration": 10,
    "start_time": "2024-05-16T15:05:30.606Z"
   },
   {
    "duration": 7,
    "start_time": "2024-05-16T15:05:48.550Z"
   },
   {
    "duration": 5,
    "start_time": "2024-05-16T15:05:59.367Z"
   },
   {
    "duration": 7,
    "start_time": "2024-05-16T15:10:12.589Z"
   },
   {
    "duration": 7,
    "start_time": "2024-05-16T15:10:16.809Z"
   },
   {
    "duration": 5,
    "start_time": "2024-05-16T15:10:31.522Z"
   },
   {
    "duration": 5,
    "start_time": "2024-05-16T15:10:59.491Z"
   },
   {
    "duration": 6,
    "start_time": "2024-05-16T15:11:34.534Z"
   },
   {
    "duration": 6,
    "start_time": "2024-05-16T15:14:39.935Z"
   },
   {
    "duration": 6,
    "start_time": "2024-05-16T15:15:13.355Z"
   },
   {
    "duration": 7,
    "start_time": "2024-05-16T15:15:33.697Z"
   },
   {
    "duration": 7,
    "start_time": "2024-05-16T15:15:41.637Z"
   },
   {
    "duration": 6,
    "start_time": "2024-05-16T15:15:55.235Z"
   },
   {
    "duration": 8,
    "start_time": "2024-05-16T15:16:33.868Z"
   },
   {
    "duration": 5,
    "start_time": "2024-05-16T15:16:48.467Z"
   },
   {
    "duration": 5,
    "start_time": "2024-05-16T15:18:16.233Z"
   },
   {
    "duration": 26,
    "start_time": "2024-05-16T15:18:42.604Z"
   },
   {
    "duration": 28,
    "start_time": "2024-05-16T15:18:50.910Z"
   },
   {
    "duration": 26,
    "start_time": "2024-05-16T15:18:56.460Z"
   },
   {
    "duration": 27,
    "start_time": "2024-05-16T15:18:58.165Z"
   },
   {
    "duration": 27,
    "start_time": "2024-05-16T15:19:40.859Z"
   },
   {
    "duration": 25,
    "start_time": "2024-05-16T15:20:47.674Z"
   },
   {
    "duration": 1439,
    "start_time": "2024-05-16T15:21:01.620Z"
   },
   {
    "duration": 774,
    "start_time": "2024-05-16T15:21:03.062Z"
   },
   {
    "duration": 67,
    "start_time": "2024-05-16T15:21:03.841Z"
   },
   {
    "duration": 20,
    "start_time": "2024-05-16T15:21:03.912Z"
   },
   {
    "duration": 30,
    "start_time": "2024-05-16T15:21:03.935Z"
   },
   {
    "duration": 508,
    "start_time": "2024-05-16T15:21:03.968Z"
   },
   {
    "duration": 0,
    "start_time": "2024-05-16T15:21:04.480Z"
   },
   {
    "duration": 31,
    "start_time": "2024-05-16T15:21:14.446Z"
   },
   {
    "duration": 4,
    "start_time": "2024-05-16T15:21:36.880Z"
   },
   {
    "duration": 794,
    "start_time": "2024-05-16T15:21:37.873Z"
   },
   {
    "duration": 58,
    "start_time": "2024-05-16T15:21:39.801Z"
   },
   {
    "duration": 20,
    "start_time": "2024-05-16T15:21:41.643Z"
   },
   {
    "duration": 28,
    "start_time": "2024-05-16T15:21:42.407Z"
   },
   {
    "duration": 5,
    "start_time": "2024-05-16T15:21:43.473Z"
   },
   {
    "duration": 24,
    "start_time": "2024-05-16T15:21:45.933Z"
   },
   {
    "duration": 6,
    "start_time": "2024-05-16T15:21:48.652Z"
   },
   {
    "duration": 7,
    "start_time": "2024-05-16T15:22:26.927Z"
   },
   {
    "duration": 5,
    "start_time": "2024-05-16T15:23:33.890Z"
   },
   {
    "duration": 5,
    "start_time": "2024-05-16T15:23:53.922Z"
   },
   {
    "duration": 6,
    "start_time": "2024-05-16T15:24:01.402Z"
   },
   {
    "duration": 5092,
    "start_time": "2024-05-16T19:13:50.042Z"
   },
   {
    "duration": 917,
    "start_time": "2024-05-16T19:13:55.139Z"
   },
   {
    "duration": 64,
    "start_time": "2024-05-16T19:13:56.059Z"
   },
   {
    "duration": 21,
    "start_time": "2024-05-16T19:13:56.126Z"
   },
   {
    "duration": 60,
    "start_time": "2024-05-16T19:13:56.151Z"
   },
   {
    "duration": 10,
    "start_time": "2024-05-16T19:13:56.214Z"
   },
   {
    "duration": 27,
    "start_time": "2024-05-16T19:13:56.229Z"
   },
   {
    "duration": 24,
    "start_time": "2024-05-16T19:14:06.058Z"
   },
   {
    "duration": 42,
    "start_time": "2024-05-16T19:14:06.295Z"
   },
   {
    "duration": 23,
    "start_time": "2024-05-16T19:16:37.786Z"
   },
   {
    "duration": 4,
    "start_time": "2024-05-16T19:33:09.616Z"
   },
   {
    "duration": 5,
    "start_time": "2024-05-16T19:34:49.613Z"
   },
   {
    "duration": 11,
    "start_time": "2024-05-16T19:34:50.145Z"
   },
   {
    "duration": 6,
    "start_time": "2024-05-16T19:35:31.900Z"
   },
   {
    "duration": 5,
    "start_time": "2024-05-16T19:35:47.777Z"
   },
   {
    "duration": 7,
    "start_time": "2024-05-16T19:35:47.958Z"
   },
   {
    "duration": 5,
    "start_time": "2024-05-16T19:38:38.506Z"
   },
   {
    "duration": 6,
    "start_time": "2024-05-16T19:38:38.861Z"
   },
   {
    "duration": 6,
    "start_time": "2024-05-16T19:38:52.389Z"
   },
   {
    "duration": 8,
    "start_time": "2024-05-16T19:38:52.660Z"
   },
   {
    "duration": 4,
    "start_time": "2024-05-16T19:39:37.747Z"
   },
   {
    "duration": 1314,
    "start_time": "2024-05-16T19:39:37.974Z"
   },
   {
    "duration": 0,
    "start_time": "2024-05-16T19:39:39.292Z"
   },
   {
    "duration": 5,
    "start_time": "2024-05-16T19:41:17.705Z"
   },
   {
    "duration": 6,
    "start_time": "2024-05-16T19:41:17.948Z"
   },
   {
    "duration": 7,
    "start_time": "2024-05-16T19:41:19.847Z"
   },
   {
    "duration": 10,
    "start_time": "2024-05-16T19:42:49.915Z"
   },
   {
    "duration": 7,
    "start_time": "2024-05-16T19:42:50.068Z"
   },
   {
    "duration": 7,
    "start_time": "2024-05-16T19:42:50.287Z"
   },
   {
    "duration": 5,
    "start_time": "2024-05-16T19:42:58.194Z"
   },
   {
    "duration": 7,
    "start_time": "2024-05-16T19:42:58.390Z"
   },
   {
    "duration": 7,
    "start_time": "2024-05-16T19:42:58.568Z"
   },
   {
    "duration": 5,
    "start_time": "2024-05-16T19:43:21.487Z"
   },
   {
    "duration": 7,
    "start_time": "2024-05-16T19:43:21.997Z"
   },
   {
    "duration": 6,
    "start_time": "2024-05-16T19:48:12.199Z"
   },
   {
    "duration": 7,
    "start_time": "2024-05-16T19:48:12.476Z"
   },
   {
    "duration": 8,
    "start_time": "2024-05-16T19:48:13.372Z"
   },
   {
    "duration": 34,
    "start_time": "2024-05-16T19:56:39.916Z"
   },
   {
    "duration": 9,
    "start_time": "2024-05-16T19:56:46.684Z"
   },
   {
    "duration": 8,
    "start_time": "2024-05-16T19:56:52.910Z"
   },
   {
    "duration": 39,
    "start_time": "2024-05-16T19:56:57.683Z"
   },
   {
    "duration": 13,
    "start_time": "2024-05-16T19:57:15.860Z"
   },
   {
    "duration": 5,
    "start_time": "2024-05-16T21:00:07.515Z"
   },
   {
    "duration": 823,
    "start_time": "2024-05-16T21:00:07.524Z"
   },
   {
    "duration": 72,
    "start_time": "2024-05-16T21:00:08.350Z"
   },
   {
    "duration": 22,
    "start_time": "2024-05-16T21:00:08.425Z"
   },
   {
    "duration": 57,
    "start_time": "2024-05-16T21:00:08.452Z"
   },
   {
    "duration": 7,
    "start_time": "2024-05-16T21:00:08.512Z"
   },
   {
    "duration": 24,
    "start_time": "2024-05-16T21:00:08.522Z"
   },
   {
    "duration": 58,
    "start_time": "2024-05-16T21:00:08.549Z"
   },
   {
    "duration": 6,
    "start_time": "2024-05-16T21:00:08.611Z"
   },
   {
    "duration": 9,
    "start_time": "2024-05-16T21:00:08.621Z"
   },
   {
    "duration": 8,
    "start_time": "2024-05-16T21:00:34.290Z"
   },
   {
    "duration": 8,
    "start_time": "2024-05-16T21:01:19.139Z"
   },
   {
    "duration": 8,
    "start_time": "2024-05-16T21:01:29.586Z"
   },
   {
    "duration": 7,
    "start_time": "2024-05-16T21:01:57.641Z"
   },
   {
    "duration": 8,
    "start_time": "2024-05-16T21:02:12.309Z"
   },
   {
    "duration": 6,
    "start_time": "2024-05-16T21:03:02.743Z"
   },
   {
    "duration": 6,
    "start_time": "2024-05-16T21:04:21.792Z"
   },
   {
    "duration": 1550,
    "start_time": "2024-05-16T21:04:56.161Z"
   },
   {
    "duration": 954,
    "start_time": "2024-05-16T21:04:57.714Z"
   },
   {
    "duration": 68,
    "start_time": "2024-05-16T21:04:58.671Z"
   },
   {
    "duration": 20,
    "start_time": "2024-05-16T21:04:58.742Z"
   },
   {
    "duration": 56,
    "start_time": "2024-05-16T21:04:58.766Z"
   },
   {
    "duration": 6,
    "start_time": "2024-05-16T21:04:58.825Z"
   },
   {
    "duration": 23,
    "start_time": "2024-05-16T21:04:58.833Z"
   },
   {
    "duration": 58,
    "start_time": "2024-05-16T21:04:58.859Z"
   },
   {
    "duration": 6,
    "start_time": "2024-05-16T21:04:58.920Z"
   },
   {
    "duration": 9,
    "start_time": "2024-05-16T21:04:58.929Z"
   },
   {
    "duration": 8,
    "start_time": "2024-05-16T21:04:58.941Z"
   },
   {
    "duration": 6,
    "start_time": "2024-05-16T21:04:58.952Z"
   },
   {
    "duration": 49,
    "start_time": "2024-05-16T21:04:58.961Z"
   },
   {
    "duration": 460,
    "start_time": "2024-05-16T21:05:11.652Z"
   },
   {
    "duration": 6,
    "start_time": "2024-05-16T21:05:22.198Z"
   },
   {
    "duration": 8,
    "start_time": "2024-05-16T21:05:29.302Z"
   },
   {
    "duration": 7,
    "start_time": "2024-05-16T21:05:37.351Z"
   },
   {
    "duration": 40,
    "start_time": "2024-05-16T21:05:44.601Z"
   },
   {
    "duration": 6,
    "start_time": "2024-05-16T21:08:06.492Z"
   },
   {
    "duration": 8,
    "start_time": "2024-05-16T21:10:03.108Z"
   },
   {
    "duration": 4,
    "start_time": "2024-05-16T21:10:41.788Z"
   },
   {
    "duration": 8,
    "start_time": "2024-05-16T21:11:38.378Z"
   },
   {
    "duration": 1393,
    "start_time": "2024-05-16T21:14:22.279Z"
   },
   {
    "duration": 762,
    "start_time": "2024-05-16T21:14:23.676Z"
   },
   {
    "duration": 66,
    "start_time": "2024-05-16T21:14:24.441Z"
   },
   {
    "duration": 6,
    "start_time": "2024-05-16T21:14:24.512Z"
   },
   {
    "duration": 11,
    "start_time": "2024-05-16T21:14:24.521Z"
   },
   {
    "duration": 5,
    "start_time": "2024-05-16T21:14:24.535Z"
   },
   {
    "duration": 22,
    "start_time": "2024-05-16T21:14:24.542Z"
   },
   {
    "duration": 77,
    "start_time": "2024-05-16T21:14:24.566Z"
   },
   {
    "duration": 15,
    "start_time": "2024-05-16T21:14:24.649Z"
   },
   {
    "duration": 56,
    "start_time": "2024-05-16T21:14:24.669Z"
   },
   {
    "duration": 22,
    "start_time": "2024-05-16T21:14:24.728Z"
   },
   {
    "duration": 6,
    "start_time": "2024-05-16T21:14:24.752Z"
   },
   {
    "duration": 7,
    "start_time": "2024-05-16T21:15:20.785Z"
   },
   {
    "duration": 8,
    "start_time": "2024-05-16T21:15:28.987Z"
   },
   {
    "duration": 5,
    "start_time": "2024-05-16T21:16:09.137Z"
   },
   {
    "duration": 5,
    "start_time": "2024-05-16T21:16:10.935Z"
   },
   {
    "duration": 1376,
    "start_time": "2024-05-16T21:18:51.147Z"
   },
   {
    "duration": 795,
    "start_time": "2024-05-16T21:18:52.527Z"
   },
   {
    "duration": 66,
    "start_time": "2024-05-16T21:18:53.326Z"
   },
   {
    "duration": 15,
    "start_time": "2024-05-16T21:18:53.394Z"
   },
   {
    "duration": 13,
    "start_time": "2024-05-16T21:18:53.417Z"
   },
   {
    "duration": 5,
    "start_time": "2024-05-16T21:18:53.434Z"
   },
   {
    "duration": 11,
    "start_time": "2024-05-16T21:18:53.443Z"
   },
   {
    "duration": 62,
    "start_time": "2024-05-16T21:18:53.457Z"
   },
   {
    "duration": 30,
    "start_time": "2024-05-16T21:18:53.522Z"
   },
   {
    "duration": 5,
    "start_time": "2024-05-16T21:18:53.555Z"
   },
   {
    "duration": 63,
    "start_time": "2024-05-16T21:18:53.563Z"
   },
   {
    "duration": 25,
    "start_time": "2024-05-16T21:18:53.629Z"
   },
   {
    "duration": 7,
    "start_time": "2024-05-16T21:18:53.657Z"
   },
   {
    "duration": 1333,
    "start_time": "2024-05-16T21:21:12.754Z"
   },
   {
    "duration": 812,
    "start_time": "2024-05-16T21:21:14.091Z"
   },
   {
    "duration": 54,
    "start_time": "2024-05-16T21:21:14.905Z"
   },
   {
    "duration": 20,
    "start_time": "2024-05-16T21:21:14.962Z"
   },
   {
    "duration": 30,
    "start_time": "2024-05-16T21:21:15.009Z"
   },
   {
    "duration": 6,
    "start_time": "2024-05-16T21:21:15.042Z"
   },
   {
    "duration": 55,
    "start_time": "2024-05-16T21:21:15.052Z"
   },
   {
    "duration": 24,
    "start_time": "2024-05-16T21:21:15.109Z"
   },
   {
    "duration": 6,
    "start_time": "2024-05-16T21:21:15.136Z"
   },
   {
    "duration": 8,
    "start_time": "2024-05-16T21:21:15.145Z"
   },
   {
    "duration": 4,
    "start_time": "2024-05-16T21:21:15.156Z"
   },
   {
    "duration": 5,
    "start_time": "2024-05-16T21:21:15.206Z"
   },
   {
    "duration": 8,
    "start_time": "2024-05-16T21:21:15.214Z"
   },
   {
    "duration": 5,
    "start_time": "2024-05-16T21:24:28.950Z"
   },
   {
    "duration": 806,
    "start_time": "2024-05-16T21:24:28.959Z"
   },
   {
    "duration": 128,
    "start_time": "2024-05-16T21:24:29.767Z"
   },
   {
    "duration": 26,
    "start_time": "2024-05-16T21:24:29.898Z"
   },
   {
    "duration": 28,
    "start_time": "2024-05-16T21:24:29.928Z"
   },
   {
    "duration": 6,
    "start_time": "2024-05-16T21:24:29.959Z"
   },
   {
    "duration": 57,
    "start_time": "2024-05-16T21:24:29.968Z"
   },
   {
    "duration": 22,
    "start_time": "2024-05-16T21:24:30.028Z"
   },
   {
    "duration": 6,
    "start_time": "2024-05-16T21:24:30.052Z"
   },
   {
    "duration": 52,
    "start_time": "2024-05-16T21:24:30.062Z"
   },
   {
    "duration": 10,
    "start_time": "2024-05-16T21:25:25.623Z"
   },
   {
    "duration": 13,
    "start_time": "2024-05-16T21:25:31.281Z"
   },
   {
    "duration": 15,
    "start_time": "2024-05-16T21:25:38.609Z"
   },
   {
    "duration": 12,
    "start_time": "2024-05-16T21:26:19.070Z"
   },
   {
    "duration": 13,
    "start_time": "2024-05-16T21:26:24.023Z"
   },
   {
    "duration": 6,
    "start_time": "2024-05-16T21:27:08.346Z"
   },
   {
    "duration": 16,
    "start_time": "2024-05-16T21:29:04.504Z"
   },
   {
    "duration": 639,
    "start_time": "2024-05-16T21:31:56.645Z"
   },
   {
    "duration": 152,
    "start_time": "2024-05-16T21:32:17.106Z"
   },
   {
    "duration": 9,
    "start_time": "2024-05-16T21:32:45.679Z"
   },
   {
    "duration": 8,
    "start_time": "2024-05-16T21:32:52.531Z"
   },
   {
    "duration": 16,
    "start_time": "2024-05-16T21:33:03.374Z"
   },
   {
    "duration": 7,
    "start_time": "2024-05-16T21:33:21.900Z"
   },
   {
    "duration": 31,
    "start_time": "2024-05-16T21:33:26.325Z"
   },
   {
    "duration": 33,
    "start_time": "2024-05-16T21:33:37.078Z"
   },
   {
    "duration": 10,
    "start_time": "2024-05-16T21:33:55.472Z"
   },
   {
    "duration": 5,
    "start_time": "2024-05-16T21:33:59.887Z"
   },
   {
    "duration": 5,
    "start_time": "2024-05-16T21:34:39.499Z"
   },
   {
    "duration": 25,
    "start_time": "2024-05-16T21:34:44.586Z"
   },
   {
    "duration": 19,
    "start_time": "2024-05-16T21:34:49.103Z"
   },
   {
    "duration": 17,
    "start_time": "2024-05-16T21:35:11.759Z"
   },
   {
    "duration": 24,
    "start_time": "2024-05-16T21:35:23.039Z"
   },
   {
    "duration": 26,
    "start_time": "2024-05-16T21:35:47.901Z"
   },
   {
    "duration": 27,
    "start_time": "2024-05-16T21:35:58.772Z"
   },
   {
    "duration": 34,
    "start_time": "2024-05-16T21:38:57.543Z"
   },
   {
    "duration": 26,
    "start_time": "2024-05-16T21:39:13.430Z"
   },
   {
    "duration": 1389,
    "start_time": "2024-05-16T21:39:22.911Z"
   },
   {
    "duration": 820,
    "start_time": "2024-05-16T21:39:24.305Z"
   },
   {
    "duration": 54,
    "start_time": "2024-05-16T21:39:25.127Z"
   },
   {
    "duration": 20,
    "start_time": "2024-05-16T21:39:25.205Z"
   },
   {
    "duration": 29,
    "start_time": "2024-05-16T21:39:25.231Z"
   },
   {
    "duration": 7,
    "start_time": "2024-05-16T21:39:25.264Z"
   },
   {
    "duration": 50,
    "start_time": "2024-05-16T21:39:25.274Z"
   },
   {
    "duration": 22,
    "start_time": "2024-05-16T21:39:25.327Z"
   },
   {
    "duration": 6,
    "start_time": "2024-05-16T21:39:25.352Z"
   },
   {
    "duration": 53,
    "start_time": "2024-05-16T21:39:25.360Z"
   },
   {
    "duration": 5,
    "start_time": "2024-05-16T21:39:25.416Z"
   },
   {
    "duration": 21,
    "start_time": "2024-05-16T21:39:28.499Z"
   },
   {
    "duration": 5,
    "start_time": "2024-05-16T21:40:40.431Z"
   },
   {
    "duration": 6,
    "start_time": "2024-05-16T21:41:36.262Z"
   },
   {
    "duration": 6,
    "start_time": "2024-05-16T21:45:41.926Z"
   },
   {
    "duration": 19,
    "start_time": "2024-05-16T21:45:42.192Z"
   },
   {
    "duration": 6,
    "start_time": "2024-05-16T21:45:42.773Z"
   },
   {
    "duration": 12,
    "start_time": "2024-05-16T21:45:43.607Z"
   },
   {
    "duration": 6,
    "start_time": "2024-05-16T21:45:43.887Z"
   },
   {
    "duration": 6,
    "start_time": "2024-05-16T21:45:44.176Z"
   },
   {
    "duration": 1395,
    "start_time": "2024-05-16T21:45:51.335Z"
   },
   {
    "duration": 787,
    "start_time": "2024-05-16T21:45:52.734Z"
   },
   {
    "duration": 54,
    "start_time": "2024-05-16T21:45:53.524Z"
   },
   {
    "duration": 37,
    "start_time": "2024-05-16T21:45:53.581Z"
   },
   {
    "duration": 35,
    "start_time": "2024-05-16T21:45:53.622Z"
   },
   {
    "duration": 6,
    "start_time": "2024-05-16T21:45:53.660Z"
   },
   {
    "duration": 55,
    "start_time": "2024-05-16T21:45:53.670Z"
   },
   {
    "duration": 23,
    "start_time": "2024-05-16T21:45:53.728Z"
   },
   {
    "duration": 8,
    "start_time": "2024-05-16T21:45:53.754Z"
   },
   {
    "duration": 49,
    "start_time": "2024-05-16T21:45:53.765Z"
   },
   {
    "duration": 6,
    "start_time": "2024-05-16T21:45:53.816Z"
   },
   {
    "duration": 19,
    "start_time": "2024-05-16T21:45:53.825Z"
   },
   {
    "duration": 5,
    "start_time": "2024-05-16T21:45:53.847Z"
   },
   {
    "duration": 48,
    "start_time": "2024-05-16T21:45:53.859Z"
   },
   {
    "duration": 4,
    "start_time": "2024-05-16T21:56:11.785Z"
   },
   {
    "duration": 3,
    "start_time": "2024-05-16T21:56:23.459Z"
   },
   {
    "duration": 4,
    "start_time": "2024-05-16T21:56:27.178Z"
   },
   {
    "duration": 3,
    "start_time": "2024-05-16T21:56:45.925Z"
   },
   {
    "duration": 6,
    "start_time": "2024-05-16T21:59:53.349Z"
   },
   {
    "duration": 7,
    "start_time": "2024-05-16T21:59:54.218Z"
   },
   {
    "duration": 6,
    "start_time": "2024-05-16T22:00:05.748Z"
   },
   {
    "duration": 5,
    "start_time": "2024-05-16T22:00:06.359Z"
   },
   {
    "duration": 5,
    "start_time": "2024-05-16T22:00:18.454Z"
   },
   {
    "duration": 12,
    "start_time": "2024-05-16T22:00:19.365Z"
   },
   {
    "duration": 5,
    "start_time": "2024-05-16T22:00:20.072Z"
   },
   {
    "duration": 1374,
    "start_time": "2024-05-16T22:00:34.884Z"
   },
   {
    "duration": 792,
    "start_time": "2024-05-16T22:00:36.262Z"
   },
   {
    "duration": 5,
    "start_time": "2024-05-16T22:00:37.057Z"
   },
   {
    "duration": 4,
    "start_time": "2024-05-16T22:00:37.067Z"
   },
   {
    "duration": 5,
    "start_time": "2024-05-16T22:00:37.075Z"
   },
   {
    "duration": 4,
    "start_time": "2024-05-16T22:00:37.108Z"
   },
   {
    "duration": 4,
    "start_time": "2024-05-16T22:00:37.115Z"
   },
   {
    "duration": 4,
    "start_time": "2024-05-16T22:00:37.122Z"
   },
   {
    "duration": 7,
    "start_time": "2024-05-16T22:00:37.129Z"
   },
   {
    "duration": 7,
    "start_time": "2024-05-16T22:00:37.141Z"
   },
   {
    "duration": 0,
    "start_time": "2024-05-16T22:00:37.151Z"
   },
   {
    "duration": 0,
    "start_time": "2024-05-16T22:00:37.154Z"
   },
   {
    "duration": 6,
    "start_time": "2024-05-16T22:00:57.300Z"
   },
   {
    "duration": 5,
    "start_time": "2024-05-16T22:00:57.544Z"
   },
   {
    "duration": 6,
    "start_time": "2024-05-16T22:01:09.030Z"
   },
   {
    "duration": 1323,
    "start_time": "2024-05-16T22:01:23.143Z"
   },
   {
    "duration": 25,
    "start_time": "2024-05-16T22:01:27.384Z"
   },
   {
    "duration": 7,
    "start_time": "2024-05-16T22:01:37.184Z"
   },
   {
    "duration": 107,
    "start_time": "2024-05-16T22:01:37.382Z"
   },
   {
    "duration": 23,
    "start_time": "2024-05-16T22:01:38.071Z"
   },
   {
    "duration": 42,
    "start_time": "2024-05-16T22:01:38.599Z"
   },
   {
    "duration": 7,
    "start_time": "2024-05-16T22:02:03.412Z"
   },
   {
    "duration": 125,
    "start_time": "2024-05-16T22:02:03.674Z"
   },
   {
    "duration": 23,
    "start_time": "2024-05-16T22:02:04.176Z"
   },
   {
    "duration": 39,
    "start_time": "2024-05-16T22:02:04.981Z"
   },
   {
    "duration": 7,
    "start_time": "2024-05-16T22:02:19.109Z"
   },
   {
    "duration": 108,
    "start_time": "2024-05-16T22:02:19.559Z"
   },
   {
    "duration": 23,
    "start_time": "2024-05-16T22:02:20.442Z"
   },
   {
    "duration": 37,
    "start_time": "2024-05-16T22:02:20.990Z"
   },
   {
    "duration": 23,
    "start_time": "2024-05-16T22:02:21.380Z"
   },
   {
    "duration": 6,
    "start_time": "2024-05-16T22:02:21.874Z"
   },
   {
    "duration": 6,
    "start_time": "2024-05-16T22:03:14.049Z"
   },
   {
    "duration": 111,
    "start_time": "2024-05-16T22:03:14.271Z"
   },
   {
    "duration": 22,
    "start_time": "2024-05-16T22:03:14.742Z"
   },
   {
    "duration": 38,
    "start_time": "2024-05-16T22:03:15.353Z"
   },
   {
    "duration": 23,
    "start_time": "2024-05-16T22:03:15.940Z"
   },
   {
    "duration": 6,
    "start_time": "2024-05-16T22:03:16.136Z"
   },
   {
    "duration": 108,
    "start_time": "2024-05-16T22:03:55.704Z"
   },
   {
    "duration": 23,
    "start_time": "2024-05-16T22:03:56.631Z"
   },
   {
    "duration": 7,
    "start_time": "2024-05-16T22:04:18.031Z"
   },
   {
    "duration": 108,
    "start_time": "2024-05-16T22:04:18.499Z"
   },
   {
    "duration": 6,
    "start_time": "2024-05-16T22:04:41.655Z"
   },
   {
    "duration": 21,
    "start_time": "2024-05-16T22:04:41.868Z"
   },
   {
    "duration": 6,
    "start_time": "2024-05-16T22:04:42.015Z"
   },
   {
    "duration": 44,
    "start_time": "2024-05-16T22:05:16.946Z"
   },
   {
    "duration": 7,
    "start_time": "2024-05-16T22:05:38.717Z"
   },
   {
    "duration": 117,
    "start_time": "2024-05-16T22:05:39.288Z"
   },
   {
    "duration": 94,
    "start_time": "2024-05-16T22:06:18.754Z"
   },
   {
    "duration": 38,
    "start_time": "2024-05-16T22:06:29.143Z"
   },
   {
    "duration": 1406,
    "start_time": "2024-05-16T22:06:36.115Z"
   },
   {
    "duration": 809,
    "start_time": "2024-05-16T22:06:37.525Z"
   },
   {
    "duration": 4,
    "start_time": "2024-05-16T22:06:38.336Z"
   },
   {
    "duration": 3,
    "start_time": "2024-05-16T22:06:38.345Z"
   },
   {
    "duration": 4,
    "start_time": "2024-05-16T22:06:38.351Z"
   },
   {
    "duration": 3,
    "start_time": "2024-05-16T22:06:38.359Z"
   },
   {
    "duration": 42,
    "start_time": "2024-05-16T22:06:38.366Z"
   },
   {
    "duration": 9,
    "start_time": "2024-05-16T22:06:38.412Z"
   },
   {
    "duration": 8,
    "start_time": "2024-05-16T22:06:38.424Z"
   },
   {
    "duration": 17,
    "start_time": "2024-05-16T22:06:38.437Z"
   },
   {
    "duration": 5,
    "start_time": "2024-05-16T22:06:38.457Z"
   },
   {
    "duration": 57,
    "start_time": "2024-05-16T22:06:38.465Z"
   },
   {
    "duration": 729,
    "start_time": "2024-05-16T22:06:38.525Z"
   },
   {
    "duration": 0,
    "start_time": "2024-05-16T22:06:39.257Z"
   },
   {
    "duration": 8,
    "start_time": "2024-05-16T22:06:56.966Z"
   },
   {
    "duration": 14,
    "start_time": "2024-05-16T22:06:57.446Z"
   },
   {
    "duration": 6,
    "start_time": "2024-05-16T22:06:58.072Z"
   },
   {
    "duration": 12,
    "start_time": "2024-05-16T22:06:58.630Z"
   },
   {
    "duration": 108,
    "start_time": "2024-05-16T22:06:59.041Z"
   },
   {
    "duration": 7,
    "start_time": "2024-05-16T22:07:21.877Z"
   },
   {
    "duration": 14,
    "start_time": "2024-05-16T22:07:22.067Z"
   },
   {
    "duration": 7,
    "start_time": "2024-05-16T22:07:22.236Z"
   },
   {
    "duration": 14,
    "start_time": "2024-05-16T22:07:22.452Z"
   },
   {
    "duration": 106,
    "start_time": "2024-05-16T22:07:22.685Z"
   },
   {
    "duration": 6,
    "start_time": "2024-05-16T22:07:22.896Z"
   },
   {
    "duration": 22,
    "start_time": "2024-05-16T22:07:58.475Z"
   },
   {
    "duration": 6,
    "start_time": "2024-05-16T22:07:58.758Z"
   },
   {
    "duration": 13,
    "start_time": "2024-05-16T22:07:59.378Z"
   },
   {
    "duration": 5,
    "start_time": "2024-05-16T22:07:59.918Z"
   },
   {
    "duration": 6,
    "start_time": "2024-05-16T22:08:59.980Z"
   },
   {
    "duration": 19,
    "start_time": "2024-05-16T22:09:00.205Z"
   },
   {
    "duration": 6,
    "start_time": "2024-05-16T22:09:00.457Z"
   },
   {
    "duration": 12,
    "start_time": "2024-05-16T22:09:01.173Z"
   },
   {
    "duration": 5,
    "start_time": "2024-05-16T22:09:01.435Z"
   },
   {
    "duration": 6,
    "start_time": "2024-05-16T22:09:02.043Z"
   },
   {
    "duration": 40,
    "start_time": "2024-05-16T22:09:42.852Z"
   },
   {
    "duration": 5,
    "start_time": "2024-05-16T22:10:16.673Z"
   },
   {
    "duration": 6,
    "start_time": "2024-05-16T22:10:32.431Z"
   },
   {
    "duration": 27,
    "start_time": "2024-05-16T22:10:39.955Z"
   },
   {
    "duration": 27,
    "start_time": "2024-05-16T22:10:43.664Z"
   },
   {
    "duration": 4,
    "start_time": "2024-05-16T22:10:50.445Z"
   },
   {
    "duration": 759,
    "start_time": "2024-05-16T22:10:51.179Z"
   },
   {
    "duration": 58,
    "start_time": "2024-05-16T22:10:52.193Z"
   },
   {
    "duration": 20,
    "start_time": "2024-05-16T22:10:54.446Z"
   },
   {
    "duration": 10,
    "start_time": "2024-05-16T22:10:58.498Z"
   },
   {
    "duration": 29,
    "start_time": "2024-05-16T22:11:02.525Z"
   },
   {
    "duration": 6,
    "start_time": "2024-05-16T22:11:10.166Z"
   },
   {
    "duration": 4,
    "start_time": "2024-05-16T22:13:31.156Z"
   },
   {
    "duration": 3,
    "start_time": "2024-05-16T22:13:35.403Z"
   },
   {
    "duration": 3,
    "start_time": "2024-05-16T22:13:39.216Z"
   },
   {
    "duration": 43,
    "start_time": "2024-05-16T22:15:46.242Z"
   },
   {
    "duration": 20,
    "start_time": "2024-05-16T22:15:54.556Z"
   },
   {
    "duration": 30,
    "start_time": "2024-05-16T22:15:59.382Z"
   },
   {
    "duration": 5,
    "start_time": "2024-05-16T22:16:03.928Z"
   },
   {
    "duration": 6,
    "start_time": "2024-05-16T22:16:05.738Z"
   },
   {
    "duration": 20,
    "start_time": "2024-05-16T22:16:08.793Z"
   },
   {
    "duration": 6,
    "start_time": "2024-05-16T22:16:13.204Z"
   },
   {
    "duration": 14,
    "start_time": "2024-05-16T22:16:14.234Z"
   },
   {
    "duration": 5,
    "start_time": "2024-05-16T22:16:15.436Z"
   },
   {
    "duration": 6,
    "start_time": "2024-05-16T22:16:20.019Z"
   },
   {
    "duration": 1394,
    "start_time": "2024-05-16T22:16:58.433Z"
   },
   {
    "duration": 781,
    "start_time": "2024-05-16T22:16:59.831Z"
   },
   {
    "duration": 54,
    "start_time": "2024-05-16T22:17:00.615Z"
   },
   {
    "duration": 41,
    "start_time": "2024-05-16T22:17:00.672Z"
   },
   {
    "duration": 30,
    "start_time": "2024-05-16T22:17:00.717Z"
   },
   {
    "duration": 6,
    "start_time": "2024-05-16T22:17:00.750Z"
   },
   {
    "duration": 55,
    "start_time": "2024-05-16T22:17:00.759Z"
   },
   {
    "duration": 6,
    "start_time": "2024-05-16T22:17:00.817Z"
   },
   {
    "duration": 21,
    "start_time": "2024-05-16T22:17:00.826Z"
   },
   {
    "duration": 511,
    "start_time": "2024-05-16T22:17:00.850Z"
   },
   {
    "duration": 0,
    "start_time": "2024-05-16T22:17:01.364Z"
   },
   {
    "duration": 0,
    "start_time": "2024-05-16T22:17:01.366Z"
   },
   {
    "duration": 0,
    "start_time": "2024-05-16T22:17:01.369Z"
   },
   {
    "duration": 5,
    "start_time": "2024-05-16T22:17:21.547Z"
   },
   {
    "duration": 18,
    "start_time": "2024-05-16T22:17:29.317Z"
   },
   {
    "duration": 24,
    "start_time": "2024-05-16T22:17:29.665Z"
   },
   {
    "duration": 261,
    "start_time": "2024-05-16T22:17:32.575Z"
   },
   {
    "duration": 8,
    "start_time": "2024-05-16T22:17:57.884Z"
   },
   {
    "duration": 23,
    "start_time": "2024-05-16T22:17:58.135Z"
   },
   {
    "duration": 6,
    "start_time": "2024-05-16T22:17:58.441Z"
   },
   {
    "duration": 14,
    "start_time": "2024-05-16T22:17:58.773Z"
   },
   {
    "duration": 5,
    "start_time": "2024-05-16T22:17:59.176Z"
   },
   {
    "duration": 6,
    "start_time": "2024-05-16T22:18:01.372Z"
   },
   {
    "duration": 3,
    "start_time": "2024-05-16T22:18:41.422Z"
   },
   {
    "duration": 3,
    "start_time": "2024-05-16T22:18:47.327Z"
   },
   {
    "duration": 4,
    "start_time": "2024-05-16T22:18:55.325Z"
   },
   {
    "duration": 3,
    "start_time": "2024-05-16T22:18:59.973Z"
   },
   {
    "duration": 4,
    "start_time": "2024-05-16T22:19:22.019Z"
   },
   {
    "duration": 5225,
    "start_time": "2024-05-17T10:45:47.750Z"
   },
   {
    "duration": 971,
    "start_time": "2024-05-17T10:45:54.413Z"
   },
   {
    "duration": 57,
    "start_time": "2024-05-17T10:46:03.870Z"
   },
   {
    "duration": 21,
    "start_time": "2024-05-17T10:46:11.901Z"
   },
   {
    "duration": 31,
    "start_time": "2024-05-17T10:46:18.551Z"
   },
   {
    "duration": 7,
    "start_time": "2024-05-17T10:46:27.796Z"
   },
   {
    "duration": 9,
    "start_time": "2024-05-17T10:47:23.549Z"
   },
   {
    "duration": 20,
    "start_time": "2024-05-17T10:47:34.204Z"
   },
   {
    "duration": 21,
    "start_time": "2024-05-17T10:47:35.267Z"
   },
   {
    "duration": 7,
    "start_time": "2024-05-17T10:47:36.512Z"
   },
   {
    "duration": 23,
    "start_time": "2024-05-17T10:47:37.734Z"
   },
   {
    "duration": 6,
    "start_time": "2024-05-17T10:47:38.798Z"
   },
   {
    "duration": 16,
    "start_time": "2024-05-17T10:47:40.944Z"
   },
   {
    "duration": 6,
    "start_time": "2024-05-17T10:47:43.015Z"
   },
   {
    "duration": 1396,
    "start_time": "2024-05-17T10:49:40.522Z"
   },
   {
    "duration": 790,
    "start_time": "2024-05-17T10:49:41.922Z"
   },
   {
    "duration": 65,
    "start_time": "2024-05-17T10:49:42.716Z"
   },
   {
    "duration": 32,
    "start_time": "2024-05-17T10:49:42.784Z"
   },
   {
    "duration": 30,
    "start_time": "2024-05-17T10:49:42.821Z"
   },
   {
    "duration": 5,
    "start_time": "2024-05-17T10:49:42.854Z"
   },
   {
    "duration": 57,
    "start_time": "2024-05-17T10:49:42.863Z"
   },
   {
    "duration": 22,
    "start_time": "2024-05-17T10:49:42.923Z"
   },
   {
    "duration": 6,
    "start_time": "2024-05-17T10:49:42.948Z"
   },
   {
    "duration": 53,
    "start_time": "2024-05-17T10:49:42.958Z"
   },
   {
    "duration": 5,
    "start_time": "2024-05-17T10:49:43.014Z"
   },
   {
    "duration": 14,
    "start_time": "2024-05-17T10:49:43.023Z"
   },
   {
    "duration": 5,
    "start_time": "2024-05-17T10:49:43.039Z"
   },
   {
    "duration": 6,
    "start_time": "2024-05-17T10:49:43.049Z"
   },
   {
    "duration": 3,
    "start_time": "2024-05-17T10:52:40.664Z"
   },
   {
    "duration": 3,
    "start_time": "2024-05-17T10:53:04.983Z"
   },
   {
    "duration": 151,
    "start_time": "2024-05-17T10:53:28.197Z"
   },
   {
    "duration": 174,
    "start_time": "2024-05-17T10:53:37.699Z"
   },
   {
    "duration": 173,
    "start_time": "2024-05-17T10:54:02.444Z"
   },
   {
    "duration": 349,
    "start_time": "2024-05-17T10:54:12.039Z"
   },
   {
    "duration": 3,
    "start_time": "2024-05-17T11:13:42.484Z"
   },
   {
    "duration": 7,
    "start_time": "2024-05-17T11:15:24.237Z"
   },
   {
    "duration": 38,
    "start_time": "2024-05-17T11:30:03.090Z"
   },
   {
    "duration": 18,
    "start_time": "2024-05-17T11:30:47.057Z"
   },
   {
    "duration": 20,
    "start_time": "2024-05-17T11:34:34.925Z"
   },
   {
    "duration": 229,
    "start_time": "2024-05-17T11:35:34.766Z"
   },
   {
    "duration": 5149,
    "start_time": "2024-05-17T11:37:22.323Z"
   },
   {
    "duration": 5090,
    "start_time": "2024-05-17T11:37:29.704Z"
   },
   {
    "duration": 18,
    "start_time": "2024-05-17T11:38:08.672Z"
   },
   {
    "duration": 23,
    "start_time": "2024-05-17T11:38:27.191Z"
   },
   {
    "duration": 20,
    "start_time": "2024-05-17T11:39:00.034Z"
   },
   {
    "duration": 18,
    "start_time": "2024-05-17T11:39:35.215Z"
   },
   {
    "duration": 7,
    "start_time": "2024-05-17T11:49:11.546Z"
   },
   {
    "duration": 20,
    "start_time": "2024-05-17T11:52:10.799Z"
   },
   {
    "duration": 21,
    "start_time": "2024-05-17T11:54:01.633Z"
   },
   {
    "duration": 19,
    "start_time": "2024-05-17T12:04:39.886Z"
   },
   {
    "duration": 3,
    "start_time": "2024-05-17T12:06:53.076Z"
   },
   {
    "duration": 12,
    "start_time": "2024-05-17T12:17:55.007Z"
   },
   {
    "duration": 388,
    "start_time": "2024-05-17T12:22:34.128Z"
   },
   {
    "duration": 172,
    "start_time": "2024-05-17T12:23:32.853Z"
   },
   {
    "duration": 333,
    "start_time": "2024-05-17T12:23:46.427Z"
   },
   {
    "duration": 264,
    "start_time": "2024-05-17T12:24:00.995Z"
   },
   {
    "duration": 228,
    "start_time": "2024-05-17T12:24:20.658Z"
   },
   {
    "duration": 422,
    "start_time": "2024-05-17T12:24:28.513Z"
   },
   {
    "duration": 400,
    "start_time": "2024-05-17T12:24:38.123Z"
   },
   {
    "duration": 403,
    "start_time": "2024-05-17T12:25:36.485Z"
   },
   {
    "duration": 404,
    "start_time": "2024-05-17T12:25:55.167Z"
   },
   {
    "duration": 432,
    "start_time": "2024-05-17T12:26:06.098Z"
   },
   {
    "duration": 550,
    "start_time": "2024-05-17T12:26:39.311Z"
   },
   {
    "duration": 936,
    "start_time": "2024-05-17T12:27:12.543Z"
   },
   {
    "duration": 922,
    "start_time": "2024-05-17T12:28:39.187Z"
   },
   {
    "duration": 885,
    "start_time": "2024-05-17T12:28:52.589Z"
   },
   {
    "duration": 927,
    "start_time": "2024-05-17T12:28:57.281Z"
   },
   {
    "duration": 1145,
    "start_time": "2024-05-17T12:29:51.453Z"
   },
   {
    "duration": 7,
    "start_time": "2024-05-17T12:46:03.202Z"
   },
   {
    "duration": 44,
    "start_time": "2024-05-17T12:55:06.662Z"
   },
   {
    "duration": 35,
    "start_time": "2024-05-17T12:55:15.588Z"
   },
   {
    "duration": 9,
    "start_time": "2024-05-17T12:55:30.540Z"
   },
   {
    "duration": 10,
    "start_time": "2024-05-17T12:55:45.409Z"
   },
   {
    "duration": 9,
    "start_time": "2024-05-17T12:56:51.245Z"
   },
   {
    "duration": 9,
    "start_time": "2024-05-17T12:57:13.003Z"
   },
   {
    "duration": 14,
    "start_time": "2024-05-17T12:57:37.340Z"
   },
   {
    "duration": 9,
    "start_time": "2024-05-17T12:57:51.426Z"
   },
   {
    "duration": 9,
    "start_time": "2024-05-17T12:58:27.970Z"
   },
   {
    "duration": 9,
    "start_time": "2024-05-17T12:59:33.437Z"
   },
   {
    "duration": 12,
    "start_time": "2024-05-17T13:01:20.716Z"
   },
   {
    "duration": 1237,
    "start_time": "2024-05-17T15:54:58.676Z"
   },
   {
    "duration": 1030,
    "start_time": "2024-05-17T15:55:32.617Z"
   },
   {
    "duration": 930,
    "start_time": "2024-05-17T15:56:28.746Z"
   },
   {
    "duration": 11,
    "start_time": "2024-05-17T15:58:16.256Z"
   },
   {
    "duration": 1807,
    "start_time": "2024-05-17T15:58:20.484Z"
   },
   {
    "duration": 9,
    "start_time": "2024-05-17T15:58:28.671Z"
   },
   {
    "duration": 726,
    "start_time": "2024-05-17T15:58:39.979Z"
   },
   {
    "duration": 963,
    "start_time": "2024-05-17T15:59:52.402Z"
   },
   {
    "duration": 986,
    "start_time": "2024-05-17T16:00:05.222Z"
   },
   {
    "duration": 1142,
    "start_time": "2024-05-17T16:00:15.757Z"
   },
   {
    "duration": 1095,
    "start_time": "2024-05-17T16:00:29.451Z"
   },
   {
    "duration": 1180,
    "start_time": "2024-05-17T16:00:46.470Z"
   },
   {
    "duration": 1801,
    "start_time": "2024-05-17T16:01:19.304Z"
   },
   {
    "duration": 1721,
    "start_time": "2024-05-17T16:01:36.875Z"
   },
   {
    "duration": 1843,
    "start_time": "2024-05-17T16:02:03.895Z"
   },
   {
    "duration": 1227,
    "start_time": "2024-05-17T16:02:20.687Z"
   },
   {
    "duration": 1890,
    "start_time": "2024-05-17T16:02:26.981Z"
   },
   {
    "duration": 1803,
    "start_time": "2024-05-17T16:02:36.136Z"
   },
   {
    "duration": 1547,
    "start_time": "2024-05-17T16:02:50.084Z"
   },
   {
    "duration": 1779,
    "start_time": "2024-05-17T16:03:41.671Z"
   },
   {
    "duration": 23,
    "start_time": "2024-05-17T19:08:23.577Z"
   },
   {
    "duration": 1542,
    "start_time": "2024-05-17T19:08:25.554Z"
   },
   {
    "duration": 8,
    "start_time": "2024-05-17T19:08:38.948Z"
   },
   {
    "duration": 8,
    "start_time": "2024-05-17T19:08:53.596Z"
   },
   {
    "duration": 6,
    "start_time": "2024-05-17T19:09:07.725Z"
   },
   {
    "duration": 6,
    "start_time": "2024-05-17T19:09:13.219Z"
   },
   {
    "duration": 6,
    "start_time": "2024-05-17T19:09:40.454Z"
   },
   {
    "duration": 27,
    "start_time": "2024-05-17T19:12:41.022Z"
   },
   {
    "duration": 4,
    "start_time": "2024-05-17T19:12:47.246Z"
   },
   {
    "duration": 29,
    "start_time": "2024-05-17T19:13:04.903Z"
   },
   {
    "duration": 7,
    "start_time": "2024-05-17T19:13:13.185Z"
   },
   {
    "duration": 20,
    "start_time": "2024-05-17T19:13:18.517Z"
   },
   {
    "duration": 17,
    "start_time": "2024-05-17T19:14:36.632Z"
   },
   {
    "duration": 39,
    "start_time": "2024-05-17T19:14:44.224Z"
   },
   {
    "duration": 36,
    "start_time": "2024-05-17T19:17:25.903Z"
   },
   {
    "duration": 64,
    "start_time": "2024-05-17T19:18:44.733Z"
   },
   {
    "duration": 70,
    "start_time": "2024-05-17T19:22:20.266Z"
   },
   {
    "duration": 52,
    "start_time": "2024-05-17T19:22:47.790Z"
   },
   {
    "duration": 55,
    "start_time": "2024-05-17T19:22:52.705Z"
   },
   {
    "duration": 64,
    "start_time": "2024-05-17T19:23:13.931Z"
   },
   {
    "duration": 57,
    "start_time": "2024-05-17T19:23:21.437Z"
   },
   {
    "duration": 45,
    "start_time": "2024-05-17T19:23:39.986Z"
   },
   {
    "duration": 72,
    "start_time": "2024-05-17T19:25:55.785Z"
   },
   {
    "duration": 5,
    "start_time": "2024-05-17T19:39:01.901Z"
   },
   {
    "duration": 6,
    "start_time": "2024-05-17T19:42:14.414Z"
   },
   {
    "duration": 6,
    "start_time": "2024-05-17T19:42:14.617Z"
   },
   {
    "duration": 27,
    "start_time": "2024-05-17T19:54:27.550Z"
   },
   {
    "duration": 4,
    "start_time": "2024-05-17T20:05:45.350Z"
   },
   {
    "duration": 8,
    "start_time": "2024-05-17T20:06:11.738Z"
   },
   {
    "duration": 5,
    "start_time": "2024-05-17T20:06:52.754Z"
   },
   {
    "duration": 189,
    "start_time": "2024-05-17T20:06:54.451Z"
   },
   {
    "duration": 175,
    "start_time": "2024-05-17T20:07:27.780Z"
   },
   {
    "duration": 168,
    "start_time": "2024-05-17T20:08:10.830Z"
   },
   {
    "duration": 5,
    "start_time": "2024-05-17T20:08:15.521Z"
   },
   {
    "duration": 6,
    "start_time": "2024-05-17T20:08:15.695Z"
   },
   {
    "duration": 5,
    "start_time": "2024-05-17T20:08:30.023Z"
   },
   {
    "duration": 1468,
    "start_time": "2024-05-17T20:08:59.021Z"
   },
   {
    "duration": 784,
    "start_time": "2024-05-17T20:09:00.491Z"
   },
   {
    "duration": 130,
    "start_time": "2024-05-17T20:09:01.278Z"
   },
   {
    "duration": 20,
    "start_time": "2024-05-17T20:09:01.414Z"
   },
   {
    "duration": 30,
    "start_time": "2024-05-17T20:09:01.437Z"
   },
   {
    "duration": 37,
    "start_time": "2024-05-17T20:09:01.471Z"
   },
   {
    "duration": 22,
    "start_time": "2024-05-17T20:09:01.511Z"
   },
   {
    "duration": 23,
    "start_time": "2024-05-17T20:09:01.536Z"
   },
   {
    "duration": 323,
    "start_time": "2024-05-17T20:09:01.563Z"
   },
   {
    "duration": 8,
    "start_time": "2024-05-17T20:09:01.888Z"
   },
   {
    "duration": 21,
    "start_time": "2024-05-17T20:09:01.910Z"
   },
   {
    "duration": 6,
    "start_time": "2024-05-17T20:09:01.935Z"
   },
   {
    "duration": 16,
    "start_time": "2024-05-17T20:09:01.949Z"
   },
   {
    "duration": 5,
    "start_time": "2024-05-17T20:09:02.009Z"
   },
   {
    "duration": 8,
    "start_time": "2024-05-17T20:09:02.017Z"
   },
   {
    "duration": 23,
    "start_time": "2024-05-17T20:09:02.029Z"
   },
   {
    "duration": 1638,
    "start_time": "2024-05-17T20:09:02.055Z"
   },
   {
    "duration": 5,
    "start_time": "2024-05-17T20:09:03.696Z"
   },
   {
    "duration": 17618,
    "start_time": "2024-05-17T20:09:03.711Z"
   },
   {
    "duration": 54,
    "start_time": "2024-05-17T20:09:21.333Z"
   },
   {
    "duration": 6,
    "start_time": "2024-05-17T20:09:21.390Z"
   },
   {
    "duration": 10,
    "start_time": "2024-05-17T20:09:21.399Z"
   },
   {
    "duration": 319,
    "start_time": "2024-05-17T20:12:55.629Z"
   },
   {
    "duration": 328,
    "start_time": "2024-05-17T20:14:42.583Z"
   },
   {
    "duration": 304,
    "start_time": "2024-05-17T20:15:56.710Z"
   },
   {
    "duration": 4,
    "start_time": "2024-05-17T20:16:11.446Z"
   },
   {
    "duration": 316,
    "start_time": "2024-05-17T20:17:55.019Z"
   },
   {
    "duration": 288,
    "start_time": "2024-05-17T20:19:03.470Z"
   },
   {
    "duration": 5,
    "start_time": "2024-05-17T20:19:11.330Z"
   },
   {
    "duration": 308,
    "start_time": "2024-05-17T20:19:11.557Z"
   },
   {
    "duration": 232,
    "start_time": "2024-05-17T20:21:23.463Z"
   },
   {
    "duration": 246,
    "start_time": "2024-05-17T20:21:36.907Z"
   },
   {
    "duration": 378,
    "start_time": "2024-05-17T20:21:42.281Z"
   },
   {
    "duration": 409,
    "start_time": "2024-05-17T20:22:11.215Z"
   },
   {
    "duration": 1235,
    "start_time": "2024-05-17T20:22:42.404Z"
   },
   {
    "duration": 398,
    "start_time": "2024-05-17T20:22:47.769Z"
   },
   {
    "duration": 355,
    "start_time": "2024-05-17T20:23:10.311Z"
   },
   {
    "duration": 351,
    "start_time": "2024-05-17T20:23:58.296Z"
   },
   {
    "duration": 374,
    "start_time": "2024-05-17T20:24:08.412Z"
   },
   {
    "duration": 371,
    "start_time": "2024-05-17T20:25:22.824Z"
   },
   {
    "duration": 375,
    "start_time": "2024-05-17T20:25:54.216Z"
   },
   {
    "duration": 379,
    "start_time": "2024-05-17T20:29:41.749Z"
   },
   {
    "duration": 7,
    "start_time": "2024-05-17T20:46:56.299Z"
   },
   {
    "duration": 39,
    "start_time": "2024-05-17T20:46:59.585Z"
   },
   {
    "duration": 36,
    "start_time": "2024-05-17T20:47:11.901Z"
   },
   {
    "duration": 7,
    "start_time": "2024-05-17T20:49:01.195Z"
   },
   {
    "duration": 9,
    "start_time": "2024-05-17T20:49:55.821Z"
   },
   {
    "duration": 19,
    "start_time": "2024-05-17T20:50:47.864Z"
   },
   {
    "duration": 8,
    "start_time": "2024-05-17T21:00:35.408Z"
   },
   {
    "duration": 18,
    "start_time": "2024-05-17T21:00:35.636Z"
   },
   {
    "duration": 6,
    "start_time": "2024-05-17T21:00:41.831Z"
   },
   {
    "duration": 20,
    "start_time": "2024-05-17T21:00:42.567Z"
   },
   {
    "duration": 14,
    "start_time": "2024-05-17T21:00:49.874Z"
   },
   {
    "duration": 18,
    "start_time": "2024-05-17T21:00:50.057Z"
   },
   {
    "duration": 11,
    "start_time": "2024-05-17T21:00:55.020Z"
   },
   {
    "duration": 20,
    "start_time": "2024-05-17T21:00:55.416Z"
   },
   {
    "duration": 10,
    "start_time": "2024-05-17T21:01:03.482Z"
   },
   {
    "duration": 19,
    "start_time": "2024-05-17T21:01:03.675Z"
   },
   {
    "duration": 1440,
    "start_time": "2024-05-17T21:01:17.049Z"
   },
   {
    "duration": 844,
    "start_time": "2024-05-17T21:01:18.493Z"
   },
   {
    "duration": 130,
    "start_time": "2024-05-17T21:01:19.340Z"
   },
   {
    "duration": 34,
    "start_time": "2024-05-17T21:01:19.474Z"
   },
   {
    "duration": 31,
    "start_time": "2024-05-17T21:01:19.511Z"
   },
   {
    "duration": 6,
    "start_time": "2024-05-17T21:01:19.545Z"
   },
   {
    "duration": 60,
    "start_time": "2024-05-17T21:01:19.554Z"
   },
   {
    "duration": 22,
    "start_time": "2024-05-17T21:01:19.617Z"
   },
   {
    "duration": 316,
    "start_time": "2024-05-17T21:01:19.642Z"
   },
   {
    "duration": 8,
    "start_time": "2024-05-17T21:01:19.965Z"
   },
   {
    "duration": 44,
    "start_time": "2024-05-17T21:01:19.977Z"
   },
   {
    "duration": 9,
    "start_time": "2024-05-17T21:01:20.028Z"
   },
   {
    "duration": 15,
    "start_time": "2024-05-17T21:01:20.040Z"
   },
   {
    "duration": 6,
    "start_time": "2024-05-17T21:01:20.058Z"
   },
   {
    "duration": 44,
    "start_time": "2024-05-17T21:01:20.067Z"
   },
   {
    "duration": 27,
    "start_time": "2024-05-17T21:01:20.114Z"
   },
   {
    "duration": 1683,
    "start_time": "2024-05-17T21:01:20.144Z"
   },
   {
    "duration": 7,
    "start_time": "2024-05-17T21:01:21.830Z"
   },
   {
    "duration": 423,
    "start_time": "2024-05-17T21:01:21.840Z"
   },
   {
    "duration": 390,
    "start_time": "2024-05-17T21:01:22.268Z"
   },
   {
    "duration": 66,
    "start_time": "2024-05-17T21:01:22.661Z"
   },
   {
    "duration": 5,
    "start_time": "2024-05-17T21:01:22.731Z"
   },
   {
    "duration": 5,
    "start_time": "2024-05-17T21:01:22.739Z"
   },
   {
    "duration": 14,
    "start_time": "2024-05-17T21:01:22.747Z"
   },
   {
    "duration": 54,
    "start_time": "2024-05-17T21:01:22.764Z"
   },
   {
    "duration": 22,
    "start_time": "2024-05-17T21:01:53.056Z"
   },
   {
    "duration": 19,
    "start_time": "2024-05-17T21:01:53.511Z"
   },
   {
    "duration": 20,
    "start_time": "2024-05-17T21:02:30.775Z"
   },
   {
    "duration": 21,
    "start_time": "2024-05-17T21:02:32.920Z"
   },
   {
    "duration": 16,
    "start_time": "2024-05-17T21:02:39.784Z"
   },
   {
    "duration": 21,
    "start_time": "2024-05-17T21:02:40.278Z"
   },
   {
    "duration": 17,
    "start_time": "2024-05-17T21:03:33.794Z"
   },
   {
    "duration": 17,
    "start_time": "2024-05-17T21:08:11.546Z"
   },
   {
    "duration": 4,
    "start_time": "2024-05-17T21:09:06.216Z"
   },
   {
    "duration": 15,
    "start_time": "2024-05-17T21:09:10.578Z"
   },
   {
    "duration": 14,
    "start_time": "2024-05-17T21:09:24.327Z"
   },
   {
    "duration": 8,
    "start_time": "2024-05-17T21:09:30.992Z"
   },
   {
    "duration": 13,
    "start_time": "2024-05-17T21:09:37.844Z"
   },
   {
    "duration": 14,
    "start_time": "2024-05-17T21:10:10.732Z"
   },
   {
    "duration": 36,
    "start_time": "2024-05-17T21:10:31.048Z"
   },
   {
    "duration": 7,
    "start_time": "2024-05-17T21:11:45.446Z"
   },
   {
    "duration": 6,
    "start_time": "2024-05-17T21:11:59.725Z"
   },
   {
    "duration": 7,
    "start_time": "2024-05-17T21:12:15.990Z"
   },
   {
    "duration": 38,
    "start_time": "2024-05-17T21:12:47.167Z"
   },
   {
    "duration": 6,
    "start_time": "2024-05-17T21:12:59.726Z"
   },
   {
    "duration": 7,
    "start_time": "2024-05-17T21:18:13.406Z"
   },
   {
    "duration": 42,
    "start_time": "2024-05-17T21:21:04.592Z"
   },
   {
    "duration": 17,
    "start_time": "2024-05-17T21:21:09.424Z"
   },
   {
    "duration": 19,
    "start_time": "2024-05-17T21:21:26.283Z"
   },
   {
    "duration": 10,
    "start_time": "2024-05-17T21:21:28.954Z"
   },
   {
    "duration": 21,
    "start_time": "2024-05-17T21:21:57.213Z"
   },
   {
    "duration": 6,
    "start_time": "2024-05-17T21:21:57.790Z"
   },
   {
    "duration": 20,
    "start_time": "2024-05-17T21:22:27.806Z"
   },
   {
    "duration": 23,
    "start_time": "2024-05-17T21:22:41.892Z"
   },
   {
    "duration": 7,
    "start_time": "2024-05-17T21:22:42.225Z"
   },
   {
    "duration": 30,
    "start_time": "2024-05-17T21:23:04.577Z"
   },
   {
    "duration": 6,
    "start_time": "2024-05-17T21:23:04.769Z"
   },
   {
    "duration": 18,
    "start_time": "2024-05-17T21:23:47.682Z"
   },
   {
    "duration": 38,
    "start_time": "2024-05-17T21:23:47.853Z"
   },
   {
    "duration": 20,
    "start_time": "2024-05-17T21:25:30.698Z"
   },
   {
    "duration": 54,
    "start_time": "2024-05-17T21:31:00.905Z"
   },
   {
    "duration": 5,
    "start_time": "2024-05-17T21:31:02.671Z"
   },
   {
    "duration": 5,
    "start_time": "2024-05-17T21:31:03.359Z"
   },
   {
    "duration": 25,
    "start_time": "2024-05-17T21:31:05.375Z"
   },
   {
    "duration": 4,
    "start_time": "2024-05-17T21:44:00.670Z"
   },
   {
    "duration": 19,
    "start_time": "2024-05-17T21:45:01.293Z"
   },
   {
    "duration": 602,
    "start_time": "2024-05-17T21:45:01.766Z"
   },
   {
    "duration": 37,
    "start_time": "2024-05-17T21:45:16.957Z"
   },
   {
    "duration": 24,
    "start_time": "2024-05-17T21:45:21.860Z"
   },
   {
    "duration": 23,
    "start_time": "2024-05-17T21:45:34.136Z"
   },
   {
    "duration": 7,
    "start_time": "2024-05-17T21:45:37.695Z"
   },
   {
    "duration": 19,
    "start_time": "2024-05-17T21:45:38.065Z"
   },
   {
    "duration": 1031,
    "start_time": "2024-05-17T21:45:38.495Z"
   },
   {
    "duration": 1214,
    "start_time": "2024-05-17T21:45:43.796Z"
   },
   {
    "duration": 1226,
    "start_time": "2024-05-17T21:45:54.986Z"
   },
   {
    "duration": 2410,
    "start_time": "2024-05-17T21:46:19.416Z"
   },
   {
    "duration": 17,
    "start_time": "2024-05-17T21:46:38.688Z"
   },
   {
    "duration": 0,
    "start_time": "2024-05-17T21:46:38.711Z"
   },
   {
    "duration": 0,
    "start_time": "2024-05-17T21:46:38.712Z"
   },
   {
    "duration": 0,
    "start_time": "2024-05-17T21:46:38.714Z"
   },
   {
    "duration": 0,
    "start_time": "2024-05-17T21:46:38.717Z"
   },
   {
    "duration": 0,
    "start_time": "2024-05-17T21:46:38.719Z"
   },
   {
    "duration": 0,
    "start_time": "2024-05-17T21:46:38.721Z"
   },
   {
    "duration": 0,
    "start_time": "2024-05-17T21:46:38.723Z"
   },
   {
    "duration": 0,
    "start_time": "2024-05-17T21:46:38.725Z"
   },
   {
    "duration": 0,
    "start_time": "2024-05-17T21:46:38.727Z"
   },
   {
    "duration": 0,
    "start_time": "2024-05-17T21:46:38.729Z"
   },
   {
    "duration": 0,
    "start_time": "2024-05-17T21:46:38.732Z"
   },
   {
    "duration": 0,
    "start_time": "2024-05-17T21:46:38.737Z"
   },
   {
    "duration": 0,
    "start_time": "2024-05-17T21:46:38.739Z"
   },
   {
    "duration": 0,
    "start_time": "2024-05-17T21:46:38.741Z"
   },
   {
    "duration": 0,
    "start_time": "2024-05-17T21:46:38.743Z"
   },
   {
    "duration": 0,
    "start_time": "2024-05-17T21:46:38.745Z"
   },
   {
    "duration": 0,
    "start_time": "2024-05-17T21:46:38.747Z"
   },
   {
    "duration": 429,
    "start_time": "2024-05-17T21:46:38.753Z"
   },
   {
    "duration": 0,
    "start_time": "2024-05-17T21:46:39.184Z"
   },
   {
    "duration": 0,
    "start_time": "2024-05-17T21:46:39.186Z"
   },
   {
    "duration": 0,
    "start_time": "2024-05-17T21:46:39.188Z"
   },
   {
    "duration": 0,
    "start_time": "2024-05-17T21:46:39.190Z"
   },
   {
    "duration": 0,
    "start_time": "2024-05-17T21:46:39.192Z"
   },
   {
    "duration": 0,
    "start_time": "2024-05-17T21:46:39.210Z"
   },
   {
    "duration": 0,
    "start_time": "2024-05-17T21:46:39.212Z"
   },
   {
    "duration": 0,
    "start_time": "2024-05-17T21:46:39.215Z"
   },
   {
    "duration": 5,
    "start_time": "2024-05-17T21:47:14.196Z"
   },
   {
    "duration": 25,
    "start_time": "2024-05-17T21:47:14.839Z"
   },
   {
    "duration": 32,
    "start_time": "2024-05-17T21:47:26.251Z"
   },
   {
    "duration": 9,
    "start_time": "2024-05-17T21:47:30.365Z"
   },
   {
    "duration": 27,
    "start_time": "2024-05-17T21:47:30.713Z"
   },
   {
    "duration": 1459,
    "start_time": "2024-05-17T21:47:38.481Z"
   },
   {
    "duration": 810,
    "start_time": "2024-05-17T21:47:39.943Z"
   },
   {
    "duration": 1454,
    "start_time": "2024-05-17T21:47:47.140Z"
   },
   {
    "duration": 822,
    "start_time": "2024-05-17T21:47:48.598Z"
   },
   {
    "duration": 127,
    "start_time": "2024-05-17T21:47:49.424Z"
   },
   {
    "duration": 21,
    "start_time": "2024-05-17T21:47:49.554Z"
   },
   {
    "duration": 52,
    "start_time": "2024-05-17T21:47:49.580Z"
   },
   {
    "duration": 6,
    "start_time": "2024-05-17T21:47:49.634Z"
   },
   {
    "duration": 21,
    "start_time": "2024-05-17T21:47:49.643Z"
   },
   {
    "duration": 54,
    "start_time": "2024-05-17T21:47:49.667Z"
   },
   {
    "duration": 308,
    "start_time": "2024-05-17T21:47:49.724Z"
   },
   {
    "duration": 7,
    "start_time": "2024-05-17T21:47:50.035Z"
   },
   {
    "duration": 21,
    "start_time": "2024-05-17T21:47:50.045Z"
   },
   {
    "duration": 38,
    "start_time": "2024-05-17T21:47:50.069Z"
   },
   {
    "duration": 16,
    "start_time": "2024-05-17T21:47:50.111Z"
   },
   {
    "duration": 6,
    "start_time": "2024-05-17T21:47:50.134Z"
   },
   {
    "duration": 8,
    "start_time": "2024-05-17T21:47:50.142Z"
   },
   {
    "duration": 65,
    "start_time": "2024-05-17T21:47:50.154Z"
   },
   {
    "duration": 1617,
    "start_time": "2024-05-17T21:47:50.222Z"
   },
   {
    "duration": 5,
    "start_time": "2024-05-17T21:47:51.842Z"
   },
   {
    "duration": 390,
    "start_time": "2024-05-17T21:47:51.850Z"
   },
   {
    "duration": 406,
    "start_time": "2024-05-17T21:47:52.243Z"
   },
   {
    "duration": 65,
    "start_time": "2024-05-17T21:47:52.652Z"
   },
   {
    "duration": 5,
    "start_time": "2024-05-17T21:47:52.720Z"
   },
   {
    "duration": 4,
    "start_time": "2024-05-17T21:47:52.729Z"
   },
   {
    "duration": 20,
    "start_time": "2024-05-17T21:47:52.736Z"
   },
   {
    "duration": 8,
    "start_time": "2024-05-17T21:47:52.758Z"
   },
   {
    "duration": 566,
    "start_time": "2024-05-17T21:47:52.769Z"
   },
   {
    "duration": 0,
    "start_time": "2024-05-17T21:47:53.338Z"
   },
   {
    "duration": 19,
    "start_time": "2024-05-17T21:48:02.493Z"
   },
   {
    "duration": 2615,
    "start_time": "2024-05-17T21:48:52.912Z"
   },
   {
    "duration": 13404,
    "start_time": "2024-05-17T21:49:12.525Z"
   },
   {
    "duration": 1303,
    "start_time": "2024-05-17T21:50:40.913Z"
   },
   {
    "duration": 5635,
    "start_time": "2024-05-18T11:32:36.400Z"
   },
   {
    "duration": 1031,
    "start_time": "2024-05-18T11:32:42.040Z"
   },
   {
    "duration": 69,
    "start_time": "2024-05-18T11:32:43.074Z"
   },
   {
    "duration": 21,
    "start_time": "2024-05-18T11:32:43.146Z"
   },
   {
    "duration": 30,
    "start_time": "2024-05-18T11:32:43.173Z"
   },
   {
    "duration": 6,
    "start_time": "2024-05-18T11:32:43.232Z"
   },
   {
    "duration": 22,
    "start_time": "2024-05-18T11:32:43.240Z"
   },
   {
    "duration": 22,
    "start_time": "2024-05-18T11:32:43.265Z"
   },
   {
    "duration": 333,
    "start_time": "2024-05-18T11:32:43.289Z"
   },
   {
    "duration": 6,
    "start_time": "2024-05-18T11:32:43.630Z"
   },
   {
    "duration": 26,
    "start_time": "2024-05-18T11:32:43.640Z"
   },
   {
    "duration": 10,
    "start_time": "2024-05-18T11:32:43.670Z"
   },
   {
    "duration": 55,
    "start_time": "2024-05-18T11:32:43.683Z"
   },
   {
    "duration": 6,
    "start_time": "2024-05-18T11:32:43.745Z"
   },
   {
    "duration": 6,
    "start_time": "2024-05-18T11:32:43.755Z"
   },
   {
    "duration": 65,
    "start_time": "2024-05-18T11:32:43.765Z"
   },
   {
    "duration": 1728,
    "start_time": "2024-05-18T11:32:43.833Z"
   },
   {
    "duration": 5,
    "start_time": "2024-05-18T11:32:45.564Z"
   },
   {
    "duration": 425,
    "start_time": "2024-05-18T11:32:45.572Z"
   },
   {
    "duration": 512,
    "start_time": "2024-05-18T11:32:46.004Z"
   },
   {
    "duration": 71,
    "start_time": "2024-05-18T11:32:46.519Z"
   },
   {
    "duration": 6,
    "start_time": "2024-05-18T11:32:46.594Z"
   },
   {
    "duration": 25,
    "start_time": "2024-05-18T11:32:46.605Z"
   },
   {
    "duration": 21,
    "start_time": "2024-05-18T11:32:46.633Z"
   },
   {
    "duration": 8,
    "start_time": "2024-05-18T11:32:46.656Z"
   },
   {
    "duration": 21,
    "start_time": "2024-05-18T11:32:46.667Z"
   },
   {
    "duration": 1342,
    "start_time": "2024-05-18T11:32:46.690Z"
   },
   {
    "duration": 320,
    "start_time": "2024-05-18T14:06:06.651Z"
   },
   {
    "duration": 5202,
    "start_time": "2024-05-18T14:06:11.657Z"
   },
   {
    "duration": 966,
    "start_time": "2024-05-18T14:06:16.863Z"
   },
   {
    "duration": 57,
    "start_time": "2024-05-18T14:06:17.832Z"
   },
   {
    "duration": 22,
    "start_time": "2024-05-18T14:06:17.909Z"
   },
   {
    "duration": 34,
    "start_time": "2024-05-18T14:06:17.937Z"
   },
   {
    "duration": 34,
    "start_time": "2024-05-18T14:06:17.975Z"
   },
   {
    "duration": 26,
    "start_time": "2024-05-18T14:06:18.012Z"
   },
   {
    "duration": 22,
    "start_time": "2024-05-18T14:06:18.041Z"
   },
   {
    "duration": 336,
    "start_time": "2024-05-18T14:06:18.066Z"
   },
   {
    "duration": 7,
    "start_time": "2024-05-18T14:06:18.408Z"
   },
   {
    "duration": 23,
    "start_time": "2024-05-18T14:06:18.419Z"
   },
   {
    "duration": 6,
    "start_time": "2024-05-18T14:06:18.446Z"
   },
   {
    "duration": 64,
    "start_time": "2024-05-18T14:06:18.455Z"
   },
   {
    "duration": 7,
    "start_time": "2024-05-18T14:06:18.525Z"
   },
   {
    "duration": 8,
    "start_time": "2024-05-18T14:06:18.536Z"
   },
   {
    "duration": 26,
    "start_time": "2024-05-18T14:06:18.547Z"
   },
   {
    "duration": 1716,
    "start_time": "2024-05-18T14:06:18.610Z"
   },
   {
    "duration": 5,
    "start_time": "2024-05-18T14:06:20.329Z"
   },
   {
    "duration": 421,
    "start_time": "2024-05-18T14:06:20.337Z"
   },
   {
    "duration": 391,
    "start_time": "2024-05-18T14:06:20.763Z"
   },
   {
    "duration": 68,
    "start_time": "2024-05-18T14:06:21.157Z"
   },
   {
    "duration": 7,
    "start_time": "2024-05-18T14:06:21.228Z"
   },
   {
    "duration": 6,
    "start_time": "2024-05-18T14:06:21.238Z"
   },
   {
    "duration": 21,
    "start_time": "2024-05-18T14:06:21.248Z"
   },
   {
    "duration": 42,
    "start_time": "2024-05-18T14:06:21.272Z"
   },
   {
    "duration": 20,
    "start_time": "2024-05-18T14:06:21.317Z"
   },
   {
    "duration": 354,
    "start_time": "2024-05-18T14:06:21.341Z"
   },
   {
    "duration": 102,
    "start_time": "2024-05-18T14:08:15.522Z"
   },
   {
    "duration": 5,
    "start_time": "2024-05-18T14:18:50.742Z"
   },
   {
    "duration": 5,
    "start_time": "2024-05-18T14:18:52.750Z"
   },
   {
    "duration": 6,
    "start_time": "2024-05-18T14:18:52.944Z"
   },
   {
    "duration": 20,
    "start_time": "2024-05-18T14:18:53.951Z"
   },
   {
    "duration": 8,
    "start_time": "2024-05-18T14:18:55.045Z"
   },
   {
    "duration": 18,
    "start_time": "2024-05-18T14:18:56.009Z"
   },
   {
    "duration": 57,
    "start_time": "2024-05-18T14:18:57.281Z"
   },
   {
    "duration": 264,
    "start_time": "2024-05-18T14:19:06.030Z"
   },
   {
    "duration": 361,
    "start_time": "2024-05-18T14:19:30.805Z"
   },
   {
    "duration": 9,
    "start_time": "2024-05-18T14:22:32.642Z"
   },
   {
    "duration": 23,
    "start_time": "2024-05-18T14:22:37.962Z"
   },
   {
    "duration": 5,
    "start_time": "2024-05-18T14:23:16.038Z"
   },
   {
    "duration": 23,
    "start_time": "2024-05-18T14:23:29.215Z"
   },
   {
    "duration": 4,
    "start_time": "2024-05-18T14:24:31.293Z"
   },
   {
    "duration": 6,
    "start_time": "2024-05-18T14:26:07.112Z"
   },
   {
    "duration": 5,
    "start_time": "2024-05-18T14:26:07.463Z"
   },
   {
    "duration": 4,
    "start_time": "2024-05-18T14:26:09.263Z"
   },
   {
    "duration": 1159,
    "start_time": "2024-05-18T14:26:23.572Z"
   },
   {
    "duration": 1188,
    "start_time": "2024-05-18T14:26:53.630Z"
   },
   {
    "duration": 5,
    "start_time": "2024-05-18T14:27:34.218Z"
   },
   {
    "duration": 4,
    "start_time": "2024-05-18T14:27:34.524Z"
   },
   {
    "duration": 16,
    "start_time": "2024-05-18T14:27:35.311Z"
   },
   {
    "duration": 6,
    "start_time": "2024-05-18T14:27:35.714Z"
   },
   {
    "duration": 20,
    "start_time": "2024-05-18T14:27:36.322Z"
   },
   {
    "duration": 1259,
    "start_time": "2024-05-18T14:27:36.748Z"
   },
   {
    "duration": 4,
    "start_time": "2024-05-18T14:28:16.134Z"
   },
   {
    "duration": 6,
    "start_time": "2024-05-18T14:28:16.887Z"
   },
   {
    "duration": 3,
    "start_time": "2024-05-18T14:28:18.985Z"
   },
   {
    "duration": 5,
    "start_time": "2024-05-18T14:32:57.856Z"
   },
   {
    "duration": 5,
    "start_time": "2024-05-18T14:33:28.107Z"
   },
   {
    "duration": 4,
    "start_time": "2024-05-18T14:33:28.611Z"
   },
   {
    "duration": 20,
    "start_time": "2024-05-18T14:33:31.328Z"
   },
   {
    "duration": 12,
    "start_time": "2024-05-18T14:33:32.179Z"
   },
   {
    "duration": 22,
    "start_time": "2024-05-18T14:33:33.378Z"
   },
   {
    "duration": 1623,
    "start_time": "2024-05-18T14:33:34.411Z"
   },
   {
    "duration": 16,
    "start_time": "2024-05-18T14:36:35.930Z"
   },
   {
    "duration": 7,
    "start_time": "2024-05-18T14:36:36.342Z"
   },
   {
    "duration": 18,
    "start_time": "2024-05-18T14:36:36.873Z"
   },
   {
    "duration": 1866,
    "start_time": "2024-05-18T14:36:37.444Z"
   },
   {
    "duration": 5,
    "start_time": "2024-05-18T14:36:47.222Z"
   },
   {
    "duration": 4,
    "start_time": "2024-05-18T14:36:47.682Z"
   },
   {
    "duration": 4,
    "start_time": "2024-05-18T14:36:48.117Z"
   },
   {
    "duration": 17,
    "start_time": "2024-05-18T14:36:49.772Z"
   },
   {
    "duration": 6,
    "start_time": "2024-05-18T14:36:50.332Z"
   },
   {
    "duration": 20,
    "start_time": "2024-05-18T14:36:51.049Z"
   },
   {
    "duration": 5,
    "start_time": "2024-05-18T14:38:28.308Z"
   },
   {
    "duration": 5,
    "start_time": "2024-05-18T14:38:28.503Z"
   },
   {
    "duration": 4,
    "start_time": "2024-05-18T14:38:28.707Z"
   },
   {
    "duration": 15,
    "start_time": "2024-05-18T14:38:29.926Z"
   },
   {
    "duration": 7,
    "start_time": "2024-05-18T14:38:30.708Z"
   },
   {
    "duration": 22,
    "start_time": "2024-05-18T14:38:31.953Z"
   },
   {
    "duration": 1456,
    "start_time": "2024-05-18T14:38:32.862Z"
   },
   {
    "duration": 16,
    "start_time": "2024-05-18T14:43:29.581Z"
   },
   {
    "duration": 6,
    "start_time": "2024-05-18T14:43:30.877Z"
   },
   {
    "duration": 19,
    "start_time": "2024-05-18T14:43:35.592Z"
   },
   {
    "duration": 6,
    "start_time": "2024-05-18T14:43:37.492Z"
   },
   {
    "duration": 5,
    "start_time": "2024-05-18T14:43:39.508Z"
   },
   {
    "duration": 3,
    "start_time": "2024-05-18T14:43:40.004Z"
   },
   {
    "duration": 1204,
    "start_time": "2024-05-18T14:43:41.722Z"
   },
   {
    "duration": 17,
    "start_time": "2024-05-18T14:46:37.118Z"
   },
   {
    "duration": 6,
    "start_time": "2024-05-18T14:46:37.610Z"
   },
   {
    "duration": 44,
    "start_time": "2024-05-18T14:46:38.409Z"
   },
   {
    "duration": 37,
    "start_time": "2024-05-18T14:46:58.381Z"
   },
   {
    "duration": 19,
    "start_time": "2024-05-18T14:47:19.698Z"
   },
   {
    "duration": 5,
    "start_time": "2024-05-18T14:47:21.594Z"
   },
   {
    "duration": 6,
    "start_time": "2024-05-18T14:47:22.255Z"
   },
   {
    "duration": 3,
    "start_time": "2024-05-18T14:47:22.725Z"
   },
   {
    "duration": 19,
    "start_time": "2024-05-18T14:51:02.351Z"
   },
   {
    "duration": 4,
    "start_time": "2024-05-18T14:51:03.430Z"
   },
   {
    "duration": 5,
    "start_time": "2024-05-18T14:51:03.880Z"
   },
   {
    "duration": 4,
    "start_time": "2024-05-18T14:51:04.587Z"
   },
   {
    "duration": 1149,
    "start_time": "2024-05-18T14:51:05.578Z"
   },
   {
    "duration": 7,
    "start_time": "2024-05-18T14:51:14.248Z"
   },
   {
    "duration": 20,
    "start_time": "2024-05-18T14:51:33.386Z"
   },
   {
    "duration": 3,
    "start_time": "2024-05-18T14:52:39.988Z"
   },
   {
    "duration": 1035,
    "start_time": "2024-05-18T14:52:41.290Z"
   },
   {
    "duration": 1133,
    "start_time": "2024-05-18T14:53:17.690Z"
   },
   {
    "duration": 1496,
    "start_time": "2024-05-18T14:53:36.409Z"
   },
   {
    "duration": 793,
    "start_time": "2024-05-18T14:53:37.910Z"
   },
   {
    "duration": 129,
    "start_time": "2024-05-18T14:53:38.709Z"
   },
   {
    "duration": 21,
    "start_time": "2024-05-18T14:53:38.840Z"
   },
   {
    "duration": 57,
    "start_time": "2024-05-18T14:53:38.866Z"
   },
   {
    "duration": 8,
    "start_time": "2024-05-18T14:53:38.926Z"
   },
   {
    "duration": 23,
    "start_time": "2024-05-18T14:53:38.938Z"
   },
   {
    "duration": 55,
    "start_time": "2024-05-18T14:53:38.964Z"
   },
   {
    "duration": 317,
    "start_time": "2024-05-18T14:53:39.022Z"
   },
   {
    "duration": 11,
    "start_time": "2024-05-18T14:53:39.343Z"
   },
   {
    "duration": 24,
    "start_time": "2024-05-18T14:53:39.360Z"
   },
   {
    "duration": 7,
    "start_time": "2024-05-18T14:53:39.408Z"
   },
   {
    "duration": 17,
    "start_time": "2024-05-18T14:53:39.418Z"
   },
   {
    "duration": 5,
    "start_time": "2024-05-18T14:53:39.441Z"
   },
   {
    "duration": 7,
    "start_time": "2024-05-18T14:53:39.449Z"
   },
   {
    "duration": 68,
    "start_time": "2024-05-18T14:53:39.459Z"
   },
   {
    "duration": 1601,
    "start_time": "2024-05-18T14:53:39.530Z"
   },
   {
    "duration": 5,
    "start_time": "2024-05-18T14:53:41.133Z"
   },
   {
    "duration": 394,
    "start_time": "2024-05-18T14:53:41.141Z"
   },
   {
    "duration": 422,
    "start_time": "2024-05-18T14:53:41.538Z"
   },
   {
    "duration": 64,
    "start_time": "2024-05-18T14:53:41.964Z"
   },
   {
    "duration": 21,
    "start_time": "2024-05-18T14:53:42.031Z"
   },
   {
    "duration": 7,
    "start_time": "2024-05-18T14:53:42.054Z"
   },
   {
    "duration": 54,
    "start_time": "2024-05-18T14:53:42.065Z"
   },
   {
    "duration": 6,
    "start_time": "2024-05-18T14:53:42.121Z"
   },
   {
    "duration": 5,
    "start_time": "2024-05-18T14:53:42.130Z"
   },
   {
    "duration": 4,
    "start_time": "2024-05-18T14:53:42.139Z"
   },
   {
    "duration": 1176,
    "start_time": "2024-05-18T14:53:42.146Z"
   },
   {
    "duration": 4,
    "start_time": "2024-05-18T14:54:31.911Z"
   },
   {
    "duration": 1288,
    "start_time": "2024-05-18T14:54:32.738Z"
   },
   {
    "duration": 5,
    "start_time": "2024-05-18T14:56:12.078Z"
   },
   {
    "duration": 5,
    "start_time": "2024-05-18T14:56:12.302Z"
   },
   {
    "duration": 5,
    "start_time": "2024-05-18T14:56:12.515Z"
   },
   {
    "duration": 1348,
    "start_time": "2024-05-18T14:56:13.273Z"
   },
   {
    "duration": 1320,
    "start_time": "2024-05-18T14:56:31.201Z"
   },
   {
    "duration": 5,
    "start_time": "2024-05-18T14:58:11.027Z"
   },
   {
    "duration": 5,
    "start_time": "2024-05-18T14:58:11.230Z"
   },
   {
    "duration": 4,
    "start_time": "2024-05-18T14:58:11.436Z"
   },
   {
    "duration": 1284,
    "start_time": "2024-05-18T14:58:12.240Z"
   },
   {
    "duration": 5,
    "start_time": "2024-05-18T14:58:23.737Z"
   },
   {
    "duration": 5,
    "start_time": "2024-05-18T14:58:23.955Z"
   },
   {
    "duration": 4,
    "start_time": "2024-05-18T14:58:24.185Z"
   },
   {
    "duration": 1309,
    "start_time": "2024-05-18T14:58:25.006Z"
   },
   {
    "duration": 3237,
    "start_time": "2024-05-18T15:02:28.981Z"
   },
   {
    "duration": 1272,
    "start_time": "2024-05-18T15:02:39.438Z"
   },
   {
    "duration": 1248,
    "start_time": "2024-05-18T15:03:53.272Z"
   },
   {
    "duration": 1378,
    "start_time": "2024-05-18T15:06:14.831Z"
   },
   {
    "duration": 517,
    "start_time": "2024-05-18T15:06:52.998Z"
   },
   {
    "duration": 29,
    "start_time": "2024-05-18T15:07:10.782Z"
   },
   {
    "duration": 779,
    "start_time": "2024-05-18T15:07:11.123Z"
   },
   {
    "duration": 56,
    "start_time": "2024-05-18T15:07:11.909Z"
   },
   {
    "duration": 31,
    "start_time": "2024-05-18T15:07:20.298Z"
   },
   {
    "duration": 1434,
    "start_time": "2024-05-18T15:09:54.475Z"
   },
   {
    "duration": 801,
    "start_time": "2024-05-18T15:09:55.912Z"
   },
   {
    "duration": 136,
    "start_time": "2024-05-18T15:09:56.716Z"
   },
   {
    "duration": 21,
    "start_time": "2024-05-18T15:09:56.856Z"
   },
   {
    "duration": 59,
    "start_time": "2024-05-18T15:09:56.880Z"
   },
   {
    "duration": 11,
    "start_time": "2024-05-18T15:09:56.942Z"
   },
   {
    "duration": 55,
    "start_time": "2024-05-18T15:09:56.957Z"
   },
   {
    "duration": 23,
    "start_time": "2024-05-18T15:09:57.015Z"
   },
   {
    "duration": 325,
    "start_time": "2024-05-18T15:09:57.041Z"
   },
   {
    "duration": 12,
    "start_time": "2024-05-18T15:09:57.373Z"
   },
   {
    "duration": 45,
    "start_time": "2024-05-18T15:09:57.388Z"
   },
   {
    "duration": 7,
    "start_time": "2024-05-18T15:09:57.436Z"
   },
   {
    "duration": 16,
    "start_time": "2024-05-18T15:09:57.447Z"
   },
   {
    "duration": 43,
    "start_time": "2024-05-18T15:09:57.466Z"
   },
   {
    "duration": 6,
    "start_time": "2024-05-18T15:09:57.512Z"
   },
   {
    "duration": 27,
    "start_time": "2024-05-18T15:09:57.521Z"
   },
   {
    "duration": 1638,
    "start_time": "2024-05-18T15:09:57.551Z"
   },
   {
    "duration": 15,
    "start_time": "2024-05-18T15:09:59.193Z"
   },
   {
    "duration": 359,
    "start_time": "2024-05-18T15:09:59.212Z"
   },
   {
    "duration": 376,
    "start_time": "2024-05-18T15:09:59.574Z"
   },
   {
    "duration": 66,
    "start_time": "2024-05-18T15:09:59.954Z"
   },
   {
    "duration": 19,
    "start_time": "2024-05-18T15:10:00.023Z"
   },
   {
    "duration": 7,
    "start_time": "2024-05-18T15:10:00.045Z"
   },
   {
    "duration": 53,
    "start_time": "2024-05-18T15:10:00.055Z"
   },
   {
    "duration": 6,
    "start_time": "2024-05-18T15:10:00.111Z"
   },
   {
    "duration": 6,
    "start_time": "2024-05-18T15:10:00.120Z"
   },
   {
    "duration": 4,
    "start_time": "2024-05-18T15:10:00.130Z"
   },
   {
    "duration": 1374,
    "start_time": "2024-05-18T15:10:00.142Z"
   },
   {
    "duration": 0,
    "start_time": "2024-05-18T15:11:42.574Z"
   },
   {
    "duration": 0,
    "start_time": "2024-05-18T15:11:42.576Z"
   },
   {
    "duration": 87088,
    "start_time": "2024-05-18T15:11:44.437Z"
   },
   {
    "duration": 0,
    "start_time": "2024-05-18T15:13:11.528Z"
   },
   {
    "duration": 153,
    "start_time": "2024-05-18T15:13:25.116Z"
   },
   {
    "duration": 26124,
    "start_time": "2024-05-18T15:13:58.210Z"
   },
   {
    "duration": 60202,
    "start_time": "2024-05-18T15:14:26.423Z"
   },
   {
    "duration": 27,
    "start_time": "2024-05-18T15:15:41.631Z"
   },
   {
    "duration": 25,
    "start_time": "2024-05-18T15:15:46.589Z"
   },
   {
    "duration": 1369,
    "start_time": "2024-05-18T15:17:14.189Z"
   },
   {
    "duration": 20575,
    "start_time": "2024-05-18T15:17:21.383Z"
   },
   {
    "duration": 9300,
    "start_time": "2024-05-18T15:17:43.142Z"
   },
   {
    "duration": 145,
    "start_time": "2024-05-18T15:19:25.991Z"
   },
   {
    "duration": 80,
    "start_time": "2024-05-18T15:19:29.119Z"
   },
   {
    "duration": 29508,
    "start_time": "2024-05-18T15:19:40.630Z"
   },
   {
    "duration": 60085,
    "start_time": "2024-05-18T15:21:25.059Z"
   },
   {
    "duration": 10373,
    "start_time": "2024-05-18T15:22:30.541Z"
   },
   {
    "duration": 17781,
    "start_time": "2024-05-18T15:22:41.508Z"
   },
   {
    "duration": 153572,
    "start_time": "2024-05-18T15:22:59.935Z"
   },
   {
    "duration": 0,
    "start_time": "2024-05-18T15:25:33.511Z"
   },
   {
    "duration": 1287,
    "start_time": "2024-05-18T15:25:37.540Z"
   },
   {
    "duration": 29550,
    "start_time": "2024-05-18T15:26:06.566Z"
   },
   {
    "duration": 163,
    "start_time": "2024-05-18T15:27:29.531Z"
   },
   {
    "duration": 1371,
    "start_time": "2024-05-18T15:27:34.353Z"
   },
   {
    "duration": 59665,
    "start_time": "2024-05-18T15:28:04.225Z"
   },
   {
    "duration": 16,
    "start_time": "2024-05-18T15:29:03.894Z"
   },
   {
    "duration": 5,
    "start_time": "2024-05-18T15:29:48.040Z"
   },
   {
    "duration": 60037,
    "start_time": "2024-05-18T15:30:19.272Z"
   },
   {
    "duration": 29,
    "start_time": "2024-05-18T15:31:19.312Z"
   },
   {
    "duration": 8,
    "start_time": "2024-05-18T15:31:38.282Z"
   },
   {
    "duration": 60220,
    "start_time": "2024-05-18T15:32:58.528Z"
   },
   {
    "duration": 6,
    "start_time": "2024-05-18T15:33:58.762Z"
   },
   {
    "duration": 60123,
    "start_time": "2024-05-18T15:35:02.805Z"
   },
   {
    "duration": 14184,
    "start_time": "2024-05-18T15:36:46.900Z"
   },
   {
    "duration": 308877,
    "start_time": "2024-05-18T15:37:09.619Z"
   },
   {
    "duration": 351022,
    "start_time": "2024-05-18T15:42:19.592Z"
   },
   {
    "duration": 180469,
    "start_time": "2024-05-18T15:48:50.953Z"
   },
   {
    "duration": 180574,
    "start_time": "2024-05-18T15:55:20.767Z"
   },
   {
    "duration": 57437,
    "start_time": "2024-05-18T16:04:41.317Z"
   },
   {
    "duration": 0,
    "start_time": "2024-05-18T16:06:40.239Z"
   },
   {
    "duration": 1407,
    "start_time": "2024-05-18T16:07:05.881Z"
   },
   {
    "duration": 799,
    "start_time": "2024-05-18T16:07:07.292Z"
   },
   {
    "duration": 134,
    "start_time": "2024-05-18T16:07:08.095Z"
   },
   {
    "duration": 22,
    "start_time": "2024-05-18T16:07:08.233Z"
   },
   {
    "duration": 51,
    "start_time": "2024-05-18T16:07:08.260Z"
   },
   {
    "duration": 6,
    "start_time": "2024-05-18T16:07:08.314Z"
   },
   {
    "duration": 22,
    "start_time": "2024-05-18T16:07:08.323Z"
   },
   {
    "duration": 59,
    "start_time": "2024-05-18T16:07:08.349Z"
   },
   {
    "duration": 303,
    "start_time": "2024-05-18T16:07:08.411Z"
   },
   {
    "duration": 8,
    "start_time": "2024-05-18T16:07:08.716Z"
   },
   {
    "duration": 23,
    "start_time": "2024-05-18T16:07:08.727Z"
   },
   {
    "duration": 6,
    "start_time": "2024-05-18T16:07:08.753Z"
   },
   {
    "duration": 52,
    "start_time": "2024-05-18T16:07:08.762Z"
   },
   {
    "duration": 6,
    "start_time": "2024-05-18T16:07:08.819Z"
   },
   {
    "duration": 7,
    "start_time": "2024-05-18T16:07:08.828Z"
   },
   {
    "duration": 27,
    "start_time": "2024-05-18T16:07:08.838Z"
   },
   {
    "duration": 1600,
    "start_time": "2024-05-18T16:07:08.908Z"
   },
   {
    "duration": 5,
    "start_time": "2024-05-18T16:07:10.512Z"
   },
   {
    "duration": 414,
    "start_time": "2024-05-18T16:07:10.519Z"
   },
   {
    "duration": 404,
    "start_time": "2024-05-18T16:07:10.936Z"
   },
   {
    "duration": 63,
    "start_time": "2024-05-18T16:07:11.345Z"
   },
   {
    "duration": 21,
    "start_time": "2024-05-18T16:07:11.411Z"
   },
   {
    "duration": 7,
    "start_time": "2024-05-18T16:07:11.434Z"
   },
   {
    "duration": 22,
    "start_time": "2024-05-18T16:07:11.444Z"
   },
   {
    "duration": 41,
    "start_time": "2024-05-18T16:07:11.469Z"
   },
   {
    "duration": 7,
    "start_time": "2024-05-18T16:07:11.514Z"
   },
   {
    "duration": 4,
    "start_time": "2024-05-18T16:07:11.525Z"
   },
   {
    "duration": 1376,
    "start_time": "2024-05-18T16:07:11.533Z"
   },
   {
    "duration": 60413,
    "start_time": "2024-05-18T16:07:12.912Z"
   },
   {
    "duration": 55735,
    "start_time": "2024-05-18T16:08:13.328Z"
   },
   {
    "duration": 308,
    "start_time": "2024-05-19T12:38:33.172Z"
   },
   {
    "duration": 5163,
    "start_time": "2024-05-19T12:38:37.125Z"
   },
   {
    "duration": 972,
    "start_time": "2024-05-19T12:38:42.292Z"
   },
   {
    "duration": 68,
    "start_time": "2024-05-19T12:38:43.267Z"
   },
   {
    "duration": 20,
    "start_time": "2024-05-19T12:38:43.338Z"
   },
   {
    "duration": 54,
    "start_time": "2024-05-19T12:38:43.362Z"
   },
   {
    "duration": 6,
    "start_time": "2024-05-19T12:38:43.419Z"
   },
   {
    "duration": 21,
    "start_time": "2024-05-19T12:38:43.428Z"
   },
   {
    "duration": 55,
    "start_time": "2024-05-19T12:38:43.452Z"
   },
   {
    "duration": 311,
    "start_time": "2024-05-19T12:38:43.509Z"
   },
   {
    "duration": 7,
    "start_time": "2024-05-19T12:38:43.824Z"
   },
   {
    "duration": 27,
    "start_time": "2024-05-19T12:38:43.835Z"
   },
   {
    "duration": 37,
    "start_time": "2024-05-19T12:38:43.865Z"
   },
   {
    "duration": 14,
    "start_time": "2024-05-19T12:38:43.906Z"
   },
   {
    "duration": 6,
    "start_time": "2024-05-19T12:38:43.926Z"
   },
   {
    "duration": 7,
    "start_time": "2024-05-19T12:38:43.935Z"
   },
   {
    "duration": 70,
    "start_time": "2024-05-19T12:38:43.945Z"
   },
   {
    "duration": 1697,
    "start_time": "2024-05-19T12:38:44.018Z"
   },
   {
    "duration": 6,
    "start_time": "2024-05-19T12:38:45.718Z"
   },
   {
    "duration": 431,
    "start_time": "2024-05-19T12:38:45.727Z"
   },
   {
    "duration": 399,
    "start_time": "2024-05-19T12:38:46.161Z"
   },
   {
    "duration": 67,
    "start_time": "2024-05-19T12:38:46.562Z"
   },
   {
    "duration": 19,
    "start_time": "2024-05-19T12:38:46.632Z"
   },
   {
    "duration": 7,
    "start_time": "2024-05-19T12:38:46.654Z"
   },
   {
    "duration": 46,
    "start_time": "2024-05-19T12:38:46.665Z"
   },
   {
    "duration": 5,
    "start_time": "2024-05-19T12:38:46.714Z"
   },
   {
    "duration": 5,
    "start_time": "2024-05-19T12:38:46.723Z"
   },
   {
    "duration": 4,
    "start_time": "2024-05-19T12:38:46.731Z"
   },
   {
    "duration": 1366,
    "start_time": "2024-05-19T12:38:46.739Z"
   },
   {
    "duration": 60327,
    "start_time": "2024-05-19T12:38:48.108Z"
   },
   {
    "duration": 181883,
    "start_time": "2024-05-19T12:39:48.438Z"
   },
   {
    "duration": 157,
    "start_time": "2024-05-19T12:42:50.324Z"
   },
   {
    "duration": 39,
    "start_time": "2024-05-19T12:43:13.547Z"
   },
   {
    "duration": 10,
    "start_time": "2024-05-19T12:44:24.368Z"
   },
   {
    "duration": 1477,
    "start_time": "2024-05-19T12:44:44.413Z"
   },
   {
    "duration": 843,
    "start_time": "2024-05-19T12:44:45.895Z"
   },
   {
    "duration": 131,
    "start_time": "2024-05-19T12:44:46.741Z"
   },
   {
    "duration": 33,
    "start_time": "2024-05-19T12:44:46.875Z"
   },
   {
    "duration": 32,
    "start_time": "2024-05-19T12:44:46.913Z"
   },
   {
    "duration": 7,
    "start_time": "2024-05-19T12:44:46.947Z"
   },
   {
    "duration": 59,
    "start_time": "2024-05-19T12:44:46.958Z"
   },
   {
    "duration": 22,
    "start_time": "2024-05-19T12:44:47.020Z"
   },
   {
    "duration": 325,
    "start_time": "2024-05-19T12:44:47.045Z"
   },
   {
    "duration": 8,
    "start_time": "2024-05-19T12:44:47.374Z"
   },
   {
    "duration": 35,
    "start_time": "2024-05-19T12:44:47.385Z"
   },
   {
    "duration": 6,
    "start_time": "2024-05-19T12:44:47.423Z"
   },
   {
    "duration": 15,
    "start_time": "2024-05-19T12:44:47.433Z"
   },
   {
    "duration": 47,
    "start_time": "2024-05-19T12:44:47.456Z"
   },
   {
    "duration": 7,
    "start_time": "2024-05-19T12:44:47.506Z"
   },
   {
    "duration": 25,
    "start_time": "2024-05-19T12:44:47.516Z"
   },
   {
    "duration": 1715,
    "start_time": "2024-05-19T12:44:47.544Z"
   },
   {
    "duration": 8,
    "start_time": "2024-05-19T12:44:49.264Z"
   },
   {
    "duration": 370,
    "start_time": "2024-05-19T12:44:49.277Z"
   },
   {
    "duration": 400,
    "start_time": "2024-05-19T12:44:49.650Z"
   },
   {
    "duration": 65,
    "start_time": "2024-05-19T12:44:50.053Z"
   },
   {
    "duration": 9,
    "start_time": "2024-05-19T12:44:50.121Z"
   },
   {
    "duration": 7,
    "start_time": "2024-05-19T12:44:50.133Z"
   },
   {
    "duration": 21,
    "start_time": "2024-05-19T12:44:50.143Z"
   },
   {
    "duration": 37,
    "start_time": "2024-05-19T12:44:50.167Z"
   },
   {
    "duration": 5,
    "start_time": "2024-05-19T12:44:50.208Z"
   },
   {
    "duration": 4,
    "start_time": "2024-05-19T12:44:50.216Z"
   },
   {
    "duration": 1386,
    "start_time": "2024-05-19T12:44:50.223Z"
   },
   {
    "duration": 43,
    "start_time": "2024-05-19T12:45:55.465Z"
   },
   {
    "duration": 20,
    "start_time": "2024-05-19T12:46:09.841Z"
   },
   {
    "duration": 12,
    "start_time": "2024-05-19T12:47:11.011Z"
   },
   {
    "duration": 37,
    "start_time": "2024-05-19T12:47:14.535Z"
   },
   {
    "duration": 550,
    "start_time": "2024-05-19T12:49:54.078Z"
   },
   {
    "duration": 12,
    "start_time": "2024-05-19T12:49:56.642Z"
   },
   {
    "duration": 18,
    "start_time": "2024-05-19T12:49:56.835Z"
   },
   {
    "duration": 11,
    "start_time": "2024-05-19T12:50:20.789Z"
   },
   {
    "duration": 16,
    "start_time": "2024-05-19T12:50:24.295Z"
   },
   {
    "duration": 19,
    "start_time": "2024-05-19T12:50:34.158Z"
   },
   {
    "duration": 15,
    "start_time": "2024-05-19T12:50:35.566Z"
   },
   {
    "duration": 12,
    "start_time": "2024-05-19T12:51:10.150Z"
   },
   {
    "duration": 13,
    "start_time": "2024-05-19T12:51:53.239Z"
   },
   {
    "duration": 13,
    "start_time": "2024-05-19T12:51:54.537Z"
   },
   {
    "duration": 13,
    "start_time": "2024-05-19T12:52:57.612Z"
   },
   {
    "duration": 6,
    "start_time": "2024-05-19T12:52:57.810Z"
   },
   {
    "duration": 37,
    "start_time": "2024-05-19T12:53:09.314Z"
   },
   {
    "duration": 35,
    "start_time": "2024-05-19T12:53:18.815Z"
   },
   {
    "duration": 11,
    "start_time": "2024-05-19T12:53:31.983Z"
   },
   {
    "duration": 52,
    "start_time": "2024-05-19T12:53:35.912Z"
   },
   {
    "duration": 15,
    "start_time": "2024-05-19T12:54:32.958Z"
   },
   {
    "duration": 40,
    "start_time": "2024-05-19T12:54:46.729Z"
   },
   {
    "duration": 35,
    "start_time": "2024-05-19T12:54:56.391Z"
   },
   {
    "duration": 35,
    "start_time": "2024-05-19T12:55:03.454Z"
   },
   {
    "duration": 423,
    "start_time": "2024-05-19T12:55:46.567Z"
   },
   {
    "duration": 36,
    "start_time": "2024-05-19T12:56:26.876Z"
   },
   {
    "duration": 11,
    "start_time": "2024-05-19T12:56:38.445Z"
   },
   {
    "duration": 13,
    "start_time": "2024-05-19T12:56:51.542Z"
   },
   {
    "duration": 43,
    "start_time": "2024-05-19T12:57:02.632Z"
   },
   {
    "duration": 19,
    "start_time": "2024-05-19T12:58:35.654Z"
   },
   {
    "duration": 39,
    "start_time": "2024-05-19T12:58:40.223Z"
   },
   {
    "duration": 33,
    "start_time": "2024-05-19T12:58:49.785Z"
   },
   {
    "duration": 13,
    "start_time": "2024-05-19T12:58:55.410Z"
   },
   {
    "duration": 8,
    "start_time": "2024-05-19T12:59:07.011Z"
   },
   {
    "duration": 12,
    "start_time": "2024-05-19T12:59:12.113Z"
   },
   {
    "duration": 36,
    "start_time": "2024-05-19T13:00:14.683Z"
   },
   {
    "duration": 19,
    "start_time": "2024-05-19T13:00:29.286Z"
   },
   {
    "duration": 757,
    "start_time": "2024-05-19T13:00:31.369Z"
   },
   {
    "duration": 1299,
    "start_time": "2024-05-19T13:00:52.219Z"
   },
   {
    "duration": 783,
    "start_time": "2024-05-19T13:02:05.842Z"
   },
   {
    "duration": 3749,
    "start_time": "2024-05-19T13:02:57.564Z"
   },
   {
    "duration": 3726,
    "start_time": "2024-05-19T13:03:08.085Z"
   },
   {
    "duration": 19522,
    "start_time": "2024-05-19T13:04:35.866Z"
   },
   {
    "duration": 3,
    "start_time": "2024-05-19T13:15:19.616Z"
   },
   {
    "duration": 28,
    "start_time": "2024-05-19T13:25:11.984Z"
   },
   {
    "duration": 25,
    "start_time": "2024-05-19T13:25:12.085Z"
   },
   {
    "duration": 6,
    "start_time": "2024-05-19T13:25:12.357Z"
   },
   {
    "duration": 1496,
    "start_time": "2024-05-19T13:29:10.093Z"
   },
   {
    "duration": 858,
    "start_time": "2024-05-19T13:29:11.593Z"
   },
   {
    "duration": 135,
    "start_time": "2024-05-19T13:29:12.454Z"
   },
   {
    "duration": 31,
    "start_time": "2024-05-19T13:29:12.593Z"
   },
   {
    "duration": 39,
    "start_time": "2024-05-19T13:29:12.630Z"
   },
   {
    "duration": 6,
    "start_time": "2024-05-19T13:29:12.705Z"
   },
   {
    "duration": 26,
    "start_time": "2024-05-19T13:29:12.715Z"
   },
   {
    "duration": 23,
    "start_time": "2024-05-19T13:29:12.744Z"
   },
   {
    "duration": 329,
    "start_time": "2024-05-19T13:29:12.801Z"
   },
   {
    "duration": 8,
    "start_time": "2024-05-19T13:29:13.133Z"
   },
   {
    "duration": 55,
    "start_time": "2024-05-19T13:29:13.145Z"
   },
   {
    "duration": 6,
    "start_time": "2024-05-19T13:29:13.204Z"
   },
   {
    "duration": 20,
    "start_time": "2024-05-19T13:29:13.213Z"
   },
   {
    "duration": 7,
    "start_time": "2024-05-19T13:29:13.240Z"
   },
   {
    "duration": 8,
    "start_time": "2024-05-19T13:29:13.250Z"
   },
   {
    "duration": 68,
    "start_time": "2024-05-19T13:29:13.262Z"
   },
   {
    "duration": 1695,
    "start_time": "2024-05-19T13:29:13.333Z"
   },
   {
    "duration": 4,
    "start_time": "2024-05-19T13:29:15.032Z"
   },
   {
    "duration": 396,
    "start_time": "2024-05-19T13:29:15.040Z"
   },
   {
    "duration": 410,
    "start_time": "2024-05-19T13:29:15.439Z"
   },
   {
    "duration": 70,
    "start_time": "2024-05-19T13:29:15.852Z"
   },
   {
    "duration": 10,
    "start_time": "2024-05-19T13:29:15.926Z"
   },
   {
    "duration": 20,
    "start_time": "2024-05-19T13:29:15.940Z"
   },
   {
    "duration": 39,
    "start_time": "2024-05-19T13:29:15.971Z"
   },
   {
    "duration": 5,
    "start_time": "2024-05-19T13:29:16.017Z"
   },
   {
    "duration": 6,
    "start_time": "2024-05-19T13:29:16.026Z"
   },
   {
    "duration": 5,
    "start_time": "2024-05-19T13:29:16.037Z"
   },
   {
    "duration": 2083,
    "start_time": "2024-05-19T13:29:16.045Z"
   },
   {
    "duration": 61079,
    "start_time": "2024-05-19T13:29:18.204Z"
   },
   {
    "duration": 183881,
    "start_time": "2024-05-19T13:30:19.287Z"
   },
   {
    "duration": 39,
    "start_time": "2024-05-19T13:33:23.172Z"
   },
   {
    "duration": 688,
    "start_time": "2024-05-19T13:33:23.214Z"
   },
   {
    "duration": 311,
    "start_time": "2024-05-21T00:39:49.642Z"
   },
   {
    "duration": 5232,
    "start_time": "2024-05-21T00:42:10.537Z"
   },
   {
    "duration": 975,
    "start_time": "2024-05-21T00:42:15.774Z"
   },
   {
    "duration": 71,
    "start_time": "2024-05-21T00:42:16.752Z"
   },
   {
    "duration": 22,
    "start_time": "2024-05-21T00:42:16.827Z"
   },
   {
    "duration": 60,
    "start_time": "2024-05-21T00:42:16.854Z"
   },
   {
    "duration": 6,
    "start_time": "2024-05-21T00:42:16.917Z"
   },
   {
    "duration": 21,
    "start_time": "2024-05-21T00:42:16.926Z"
   },
   {
    "duration": 23,
    "start_time": "2024-05-21T00:42:16.951Z"
   },
   {
    "duration": 368,
    "start_time": "2024-05-21T00:42:16.977Z"
   },
   {
    "duration": 7,
    "start_time": "2024-05-21T00:42:17.348Z"
   },
   {
    "duration": 23,
    "start_time": "2024-05-21T00:42:17.362Z"
   },
   {
    "duration": 7,
    "start_time": "2024-05-21T00:42:17.413Z"
   },
   {
    "duration": 16,
    "start_time": "2024-05-21T00:42:17.423Z"
   },
   {
    "duration": 7,
    "start_time": "2024-05-21T00:42:17.446Z"
   },
   {
    "duration": 6,
    "start_time": "2024-05-21T00:42:17.456Z"
   },
   {
    "duration": 25,
    "start_time": "2024-05-21T00:42:17.514Z"
   },
   {
    "duration": 1775,
    "start_time": "2024-05-21T00:42:17.542Z"
   },
   {
    "duration": 5,
    "start_time": "2024-05-21T00:42:19.320Z"
   },
   {
    "duration": 411,
    "start_time": "2024-05-21T00:42:19.328Z"
   },
   {
    "duration": 412,
    "start_time": "2024-05-21T00:42:19.742Z"
   },
   {
    "duration": 69,
    "start_time": "2024-05-21T00:42:20.158Z"
   },
   {
    "duration": 10,
    "start_time": "2024-05-21T00:42:20.230Z"
   },
   {
    "duration": 7,
    "start_time": "2024-05-21T00:42:20.243Z"
   },
   {
    "duration": 19,
    "start_time": "2024-05-21T00:42:20.254Z"
   },
   {
    "duration": 38,
    "start_time": "2024-05-21T00:42:20.276Z"
   },
   {
    "duration": 6,
    "start_time": "2024-05-21T00:42:20.316Z"
   },
   {
    "duration": 7,
    "start_time": "2024-05-21T00:42:20.325Z"
   },
   {
    "duration": 1293,
    "start_time": "2024-05-21T00:42:20.335Z"
   },
   {
    "duration": 60760,
    "start_time": "2024-05-21T00:42:21.711Z"
   },
   {
    "duration": 180401,
    "start_time": "2024-05-21T00:43:22.475Z"
   },
   {
    "duration": 38,
    "start_time": "2024-05-21T00:46:22.880Z"
   },
   {
    "duration": 11,
    "start_time": "2024-05-21T00:46:22.921Z"
   },
   {
    "duration": 300,
    "start_time": "2024-05-21T00:47:18.013Z"
   },
   {
    "duration": 50,
    "start_time": "2024-05-21T00:47:32.664Z"
   },
   {
    "duration": 7,
    "start_time": "2024-05-21T00:48:11.446Z"
   },
   {
    "duration": 10,
    "start_time": "2024-05-21T00:52:00.589Z"
   },
   {
    "duration": 41,
    "start_time": "2024-05-21T00:52:16.999Z"
   },
   {
    "duration": 823,
    "start_time": "2024-05-21T00:52:19.514Z"
   },
   {
    "duration": 55,
    "start_time": "2024-05-21T00:52:20.981Z"
   },
   {
    "duration": 26,
    "start_time": "2024-05-21T00:52:22.553Z"
   },
   {
    "duration": 28,
    "start_time": "2024-05-21T00:52:22.856Z"
   },
   {
    "duration": 6,
    "start_time": "2024-05-21T00:52:23.134Z"
   },
   {
    "duration": 24,
    "start_time": "2024-05-21T00:52:23.895Z"
   },
   {
    "duration": 23,
    "start_time": "2024-05-21T00:52:24.096Z"
   },
   {
    "duration": 309,
    "start_time": "2024-05-21T00:52:24.855Z"
   },
   {
    "duration": 7,
    "start_time": "2024-05-21T00:52:26.062Z"
   },
   {
    "duration": 24,
    "start_time": "2024-05-21T00:52:26.264Z"
   },
   {
    "duration": 6,
    "start_time": "2024-05-21T00:52:26.471Z"
   },
   {
    "duration": 15,
    "start_time": "2024-05-21T00:52:27.088Z"
   },
   {
    "duration": 8,
    "start_time": "2024-05-21T00:52:27.246Z"
   },
   {
    "duration": 7,
    "start_time": "2024-05-21T00:52:28.680Z"
   },
   {
    "duration": 24,
    "start_time": "2024-05-21T00:52:30.896Z"
   },
   {
    "duration": 1803,
    "start_time": "2024-05-21T00:52:33.081Z"
   },
   {
    "duration": 5,
    "start_time": "2024-05-21T00:52:34.889Z"
   },
   {
    "duration": 364,
    "start_time": "2024-05-21T00:52:35.317Z"
   },
   {
    "duration": 385,
    "start_time": "2024-05-21T00:52:35.685Z"
   },
   {
    "duration": 68,
    "start_time": "2024-05-21T00:52:36.914Z"
   },
   {
    "duration": 15,
    "start_time": "2024-05-21T00:52:39.310Z"
   },
   {
    "duration": 8,
    "start_time": "2024-05-21T00:52:40.201Z"
   },
   {
    "duration": 27,
    "start_time": "2024-05-21T00:52:41.501Z"
   },
   {
    "duration": 30,
    "start_time": "2024-05-21T00:54:32.052Z"
   },
   {
    "duration": 1572,
    "start_time": "2024-05-21T00:55:13.154Z"
   },
   {
    "duration": 302,
    "start_time": "2024-05-21T00:55:25.856Z"
   },
   {
    "duration": 129,
    "start_time": "2024-05-21T00:55:31.289Z"
   },
   {
    "duration": 27,
    "start_time": "2024-05-21T00:56:24.878Z"
   },
   {
    "duration": 29,
    "start_time": "2024-05-21T00:56:43.748Z"
   },
   {
    "duration": 1602,
    "start_time": "2024-05-21T00:56:55.822Z"
   },
   {
    "duration": 1598,
    "start_time": "2024-05-21T00:57:24.020Z"
   },
   {
    "duration": 7,
    "start_time": "2024-05-21T00:58:19.243Z"
   },
   {
    "duration": 55036,
    "start_time": "2024-05-21T00:59:11.292Z"
   },
   {
    "duration": 12537,
    "start_time": "2024-05-21T01:00:34.894Z"
   },
   {
    "duration": 12602,
    "start_time": "2024-05-21T01:01:21.812Z"
   },
   {
    "duration": 164304,
    "start_time": "2024-05-21T01:01:45.446Z"
   },
   {
    "duration": 20,
    "start_time": "2024-05-21T01:04:33.223Z"
   },
   {
    "duration": 90,
    "start_time": "2024-05-21T01:04:33.248Z"
   },
   {
    "duration": 6,
    "start_time": "2024-05-21T01:04:33.341Z"
   },
   {
    "duration": 10,
    "start_time": "2024-05-21T01:04:33.351Z"
   },
   {
    "duration": 5,
    "start_time": "2024-05-21T01:04:33.365Z"
   },
   {
    "duration": 1546,
    "start_time": "2024-05-21T01:04:33.374Z"
   },
   {
    "duration": 56352,
    "start_time": "2024-05-21T01:04:34.932Z"
   },
   {
    "duration": 87,
    "start_time": "2024-05-21T01:07:12.728Z"
   },
   {
    "duration": 5,
    "start_time": "2024-05-21T01:08:45.860Z"
   },
   {
    "duration": 7,
    "start_time": "2024-05-21T01:15:24.493Z"
   },
   {
    "duration": 5354,
    "start_time": "2024-05-21T10:40:17.145Z"
   },
   {
    "duration": 1031,
    "start_time": "2024-05-21T10:40:22.503Z"
   },
   {
    "duration": 57,
    "start_time": "2024-05-21T10:40:23.538Z"
   },
   {
    "duration": 37,
    "start_time": "2024-05-21T10:40:23.598Z"
   },
   {
    "duration": 33,
    "start_time": "2024-05-21T10:40:23.640Z"
   },
   {
    "duration": 8,
    "start_time": "2024-05-21T10:40:23.676Z"
   },
   {
    "duration": 26,
    "start_time": "2024-05-21T10:40:23.729Z"
   },
   {
    "duration": 24,
    "start_time": "2024-05-21T10:40:23.759Z"
   },
   {
    "duration": 368,
    "start_time": "2024-05-21T10:40:23.786Z"
   },
   {
    "duration": 10,
    "start_time": "2024-05-21T10:40:24.158Z"
   },
   {
    "duration": 54,
    "start_time": "2024-05-21T10:40:24.172Z"
   },
   {
    "duration": 11,
    "start_time": "2024-05-21T10:40:24.230Z"
   },
   {
    "duration": 17,
    "start_time": "2024-05-21T10:40:24.246Z"
   },
   {
    "duration": 7,
    "start_time": "2024-05-21T10:40:24.272Z"
   },
   {
    "duration": 44,
    "start_time": "2024-05-21T10:40:24.283Z"
   },
   {
    "duration": 32,
    "start_time": "2024-05-21T10:40:24.331Z"
   },
   {
    "duration": 1861,
    "start_time": "2024-05-21T10:40:24.367Z"
   },
   {
    "duration": 11,
    "start_time": "2024-05-21T10:40:26.231Z"
   },
   {
    "duration": 435,
    "start_time": "2024-05-21T10:40:26.249Z"
   },
   {
    "duration": 410,
    "start_time": "2024-05-21T10:40:26.688Z"
   },
   {
    "duration": 80,
    "start_time": "2024-05-21T10:40:27.102Z"
   },
   {
    "duration": 10,
    "start_time": "2024-05-21T10:40:27.186Z"
   },
   {
    "duration": 32,
    "start_time": "2024-05-21T10:40:27.200Z"
   },
   {
    "duration": 4,
    "start_time": "2024-05-21T10:40:27.236Z"
   },
   {
    "duration": 6,
    "start_time": "2024-05-21T10:40:27.244Z"
   },
   {
    "duration": 8,
    "start_time": "2024-05-21T10:40:27.254Z"
   },
   {
    "duration": 5,
    "start_time": "2024-05-21T10:40:27.266Z"
   },
   {
    "duration": 1963,
    "start_time": "2024-05-21T10:40:27.275Z"
   },
   {
    "duration": 56695,
    "start_time": "2024-05-21T10:40:29.241Z"
   },
   {
    "duration": 169664,
    "start_time": "2024-05-21T10:41:25.939Z"
   },
   {
    "duration": 32,
    "start_time": "2024-05-21T10:44:15.607Z"
   },
   {
    "duration": 101,
    "start_time": "2024-05-21T10:44:15.642Z"
   },
   {
    "duration": 750,
    "start_time": "2024-05-21T10:44:15.826Z"
   },
   {
    "duration": 32,
    "start_time": "2024-05-21T10:45:40.513Z"
   },
   {
    "duration": 1765,
    "start_time": "2024-05-21T10:45:55.562Z"
   },
   {
    "duration": 3018,
    "start_time": "2024-05-21T10:46:53.934Z"
   },
   {
    "duration": 2826,
    "start_time": "2024-05-21T10:47:45.941Z"
   },
   {
    "duration": 32,
    "start_time": "2024-05-21T10:49:29.037Z"
   },
   {
    "duration": 1814,
    "start_time": "2024-05-21T10:49:54.846Z"
   },
   {
    "duration": 1921,
    "start_time": "2024-05-21T10:52:56.351Z"
   },
   {
    "duration": 38,
    "start_time": "2024-05-21T10:54:51.122Z"
   },
   {
    "duration": 6,
    "start_time": "2024-05-21T10:56:12.876Z"
   },
   {
    "duration": 26,
    "start_time": "2024-05-21T10:56:23.332Z"
   },
   {
    "duration": 25,
    "start_time": "2024-05-21T10:57:14.355Z"
   },
   {
    "duration": 4,
    "start_time": "2024-05-21T10:59:24.259Z"
   },
   {
    "duration": 38,
    "start_time": "2024-05-21T11:04:21.280Z"
   },
   {
    "duration": 18,
    "start_time": "2024-05-21T11:05:07.344Z"
   },
   {
    "duration": 947,
    "start_time": "2024-05-21T11:06:13.892Z"
   },
   {
    "duration": 7,
    "start_time": "2024-05-21T11:08:06.430Z"
   },
   {
    "duration": 752,
    "start_time": "2024-05-21T11:08:13.711Z"
   },
   {
    "duration": 826,
    "start_time": "2024-05-21T11:08:49.146Z"
   },
   {
    "duration": 821,
    "start_time": "2024-05-21T11:09:03.008Z"
   },
   {
    "duration": 1008,
    "start_time": "2024-05-21T11:09:54.771Z"
   },
   {
    "duration": 857,
    "start_time": "2024-05-21T11:10:32.416Z"
   },
   {
    "duration": 945,
    "start_time": "2024-05-21T11:11:19.771Z"
   },
   {
    "duration": 616,
    "start_time": "2024-05-21T11:11:45.031Z"
   },
   {
    "duration": 957,
    "start_time": "2024-05-21T11:12:46.592Z"
   },
   {
    "duration": 785,
    "start_time": "2024-05-21T11:12:59.247Z"
   },
   {
    "duration": 773,
    "start_time": "2024-05-21T11:15:10.505Z"
   },
   {
    "duration": 29,
    "start_time": "2024-05-21T11:29:22.022Z"
   },
   {
    "duration": 6,
    "start_time": "2024-05-21T11:29:31.059Z"
   },
   {
    "duration": 12,
    "start_time": "2024-05-21T11:29:37.034Z"
   }
  ],
  "kernelspec": {
   "display_name": "Python 3 (ipykernel)",
   "language": "python",
   "name": "python3"
  },
  "language_info": {
   "codemirror_mode": {
    "name": "ipython",
    "version": 3
   },
   "file_extension": ".py",
   "mimetype": "text/x-python",
   "name": "python",
   "nbconvert_exporter": "python",
   "pygments_lexer": "ipython3",
   "version": "3.9.19"
  },
  "toc": {
   "base_numbering": 1,
   "nav_menu": {},
   "number_sections": true,
   "sideBar": true,
   "skip_h1_title": true,
   "title_cell": "Table of Contents",
   "title_sidebar": "Contents",
   "toc_cell": false,
   "toc_position": {},
   "toc_section_display": true,
   "toc_window_display": false
  }
 },
 "nbformat": 4,
 "nbformat_minor": 2
}
